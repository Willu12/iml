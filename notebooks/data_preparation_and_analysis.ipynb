{
 "cells": [
  {
   "cell_type": "markdown",
   "metadata": {},
   "source": [
    "## First, run this cell to set up paths and import dependencies"
   ]
  },
  {
   "cell_type": "code",
   "execution_count": null,
   "metadata": {
    "ExecuteTime": {
     "end_time": "2024-11-27T19:52:44.192510Z",
     "start_time": "2024-11-27T19:52:43.478238Z"
    }
   },
   "outputs": [],
   "source": [
    "import os\n",
    "\n",
    "import matplotlib.pyplot as plt\n",
    "import random\n",
    "from tqdm import tqdm\n",
    "\n",
    "if not os.path.exists(r\"./notebooks\"):\n",
    "    %cd ..\n",
    "\n",
    "\n",
    "from src.data_processing import load_audio, split_into_clips, create_spectrogram, prepare_datasets, list_all_audio_files, SOAAudioClips, save_mean_std, compute_mean_std_from_images, list_audio_files_recursively, extract_metadata, exclude_overlapping_scripts, compute_statistics,display_dataset_statistics, save_spectrogram\n",
    "from src.dataset_analysis import plot_spectrogram, duration_statistics\n",
    "from src.config import VALID_ACCESS_LABELS, TRAIN_DIR, TEST_DIR, VAL_DIR, DATA_DIR, DATASET_DIR,DATA_DIR_SPECIFIC\n",
    "from collections import defaultdict, Counter\n",
    "\n",
    "# Ensure the output directory structure exists\n",
    "os.makedirs(DATASET_DIR, exist_ok=True)\n",
    "os.makedirs(TRAIN_DIR, exist_ok=True)\n",
    "os.makedirs(VAL_DIR, exist_ok=True)\n",
    "os.makedirs(TEST_DIR, exist_ok=True)\n",
    "random.seed(42)  # For reproducibility"
   ]
  },
  {
   "cell_type": "markdown",
   "metadata": {},
   "source": [
    "## 1 Load all .wav files in the specific provided directory and preview some"
   ]
  },
  {
   "cell_type": "code",
   "execution_count": null,
   "metadata": {
    "ExecuteTime": {
     "end_time": "2024-11-27T19:52:44.195986Z",
     "start_time": "2024-11-27T19:52:44.193643Z"
    }
   },
   "outputs": [],
   "source": [
    "wav_files_specific = list_all_audio_files(DATA_DIR_SPECIFIC)\n",
    "print(f\"Found {len(wav_files_specific)} .wav files in directory '{DATA_DIR_SPECIFIC}\")"
   ]
  },
  {
   "cell_type": "markdown",
   "metadata": {},
   "source": [
    "## 1.1 For all .wav files in the specific provided directory display the statistics"
   ]
  },
  {
   "cell_type": "code",
   "execution_count": null,
   "metadata": {},
   "outputs": [],
   "source": [
    "train_files_paths, val_files_paths, test_files_paths = prepare_datasets(DATA_DIR_SPECIFIC,list_audio_files_recursively)\n",
    "\n",
    "train_files_metadata = extract_metadata(train_files_paths,VALID_ACCESS_LABELS)\n",
    "val_files_metadata = extract_metadata(val_files_paths,VALID_ACCESS_LABELS)\n",
    "test_files_metadata = extract_metadata(test_files_paths,VALID_ACCESS_LABELS)\n",
    "\n",
    "display_dataset_statistics(train_files_metadata,val_files_metadata,test_files_metadata)\n"
   ]
  },
  {
   "cell_type": "markdown",
   "metadata": {},
   "source": [
    "## 2. Statistics about authorized/unauthorized speakers"
   ]
  },
  {
   "cell_type": "code",
   "execution_count": null,
   "metadata": {
    "ExecuteTime": {
     "end_time": "2024-11-27T19:52:51.737200Z",
     "start_time": "2024-11-27T19:52:44.196900Z"
    }
   },
   "outputs": [],
   "source": [
    "authorized_speakers_files = []\n",
    "unauthorized_speakers_files = []\n",
    "\n",
    "for file in wav_files_specific:\n",
    "    speaker_id = os.path.split(file)[-1].split('_')[0]\n",
    "    if speaker_id in VALID_ACCESS_LABELS:\n",
    "        authorized_speakers_files.append(file)\n",
    "    else:\n",
    "        unauthorized_speakers_files.append(file)\n",
    "\n",
    "print(\"Authorized speakers recordings:\")\n",
    "soa_authorized = SOAAudioClips(authorized_speakers_files)\n",
    "print(duration_statistics(soa_authorized.clips))\n",
    "\n",
    "print(\"\\nUnauthorized speakers recordings:\")\n",
    "soa_unauthorized = SOAAudioClips(unauthorized_speakers_files)\n",
    "print(duration_statistics(soa_unauthorized.clips))"
   ]
  },
  {
   "cell_type": "markdown",
   "metadata": {},
   "source": [
    "## 3. Split files into train, validation, and test sets"
   ]
  },
  {
   "cell_type": "code",
   "execution_count": null,
   "metadata": {
    "ExecuteTime": {
     "end_time": "2024-11-27T19:52:51.744632Z",
     "start_time": "2024-11-27T19:52:51.738652Z"
    }
   },
   "outputs": [],
   "source": [
    "train_files, val_files, test_files = prepare_datasets(DATA_DIR_SPECIFIC)\n",
    "print(f\"Training files: {len(train_files)} | Validation files: {len(val_files)} | Test files: {len(test_files)}\")\n"
   ]
  },
  {
   "cell_type": "markdown",
   "metadata": {},
   "source": [
    "## 4. Calculate and display statistics about raw dataset"
   ]
  },
  {
   "cell_type": "code",
   "execution_count": null,
   "metadata": {
    "ExecuteTime": {
     "end_time": "2024-11-27T19:52:55.896073Z",
     "start_time": "2024-11-27T19:52:51.746056Z"
    }
   },
   "outputs": [],
   "source": [
    "soa_train_full_clips = SOAAudioClips(train_files)\n",
    "soa_test_full_clips = SOAAudioClips(test_files)\n",
    "soa_val_full_clips = SOAAudioClips(val_files)\n",
    "\n",
    "print(\"\\nDataset Statistics:\")\n",
    "print(\"Training set:\")\n",
    "print(duration_statistics(soa_train_full_clips.clips))\n",
    "\n",
    "print(\"Validation set:\")\n",
    "print(duration_statistics(soa_test_full_clips.clips))\n",
    "\n",
    "print(\"Test set:\")\n",
    "print(duration_statistics(soa_val_full_clips.clips))"
   ]
  },
  {
   "cell_type": "markdown",
   "metadata": {},
   "source": [
    "## 5. Process each dataset split by converting 3-second clips into spectrograms"
   ]
  },
  {
   "cell_type": "code",
   "execution_count": null,
   "metadata": {
    "ExecuteTime": {
     "end_time": "2024-11-27T19:53:20.833288Z",
     "start_time": "2024-11-27T19:52:55.896862Z"
    }
   },
   "outputs": [],
   "source": [
    "def process_split(soa_full_clips, output_subdir):\n",
    "    all_splitted_clips = []\n",
    "    for file_path, full_clip in tqdm(soa_full_clips):\n",
    "        clips = split_into_clips(full_clip)\n",
    "        all_splitted_clips.extend(clips)\n",
    "        for i, clip in enumerate(clips):\n",
    "            spectrogram = create_spectrogram(clip)\n",
    "            output_path = os.path.join(output_subdir, f\"{os.path.basename(file_path).split('.')[0]}_{i}_clip.png\")\n",
    "            save_spectrogram(spectrogram, output_path)\n",
    "    print(duration_statistics(all_splitted_clips))\n",
    "\n",
    "print(\"Preprocessed Train Dataset:\")\n",
    "process_split(soa_train_full_clips, TRAIN_DIR)\n",
    "\n",
    "print(\"\\nPreprocessed Validation Dataset:\")\n",
    "process_split(soa_val_full_clips, VAL_DIR)\n",
    "\n",
    "print(\"\\nPreprocessed Test Dataset:\")\n",
    "process_split(soa_test_full_clips, TEST_DIR)\n"
   ]
  },
  {
   "cell_type": "markdown",
   "metadata": {},
   "source": [
    "## 6. Mean and Standard deviation of training dataset"
   ]
  },
  {
   "cell_type": "code",
   "execution_count": null,
   "metadata": {
    "ExecuteTime": {
     "end_time": "2024-11-27T19:53:23.745751Z",
     "start_time": "2024-11-27T19:53:20.834092Z"
    }
   },
   "outputs": [],
   "source": [
    "mean, std = compute_mean_std_from_images(TRAIN_DIR)\n",
    "print(f\"Mean: {mean}, Standard deviation: {std}\")\n",
    "save_mean_std(mean, std, f\"{DATASET_DIR}/scaling_params.json\")"
   ]
  },
  {
   "cell_type": "markdown",
   "metadata": {},
   "source": [
    "## 7. Visualize some spectrogram examples"
   ]
  },
  {
   "cell_type": "code",
   "execution_count": null,
   "metadata": {
    "ExecuteTime": {
     "end_time": "2024-11-27T19:53:24.210398Z",
     "start_time": "2024-11-27T19:53:23.746973Z"
    }
   },
   "outputs": [],
   "source": [
    "sample_spectrogram_paths = [os.path.join(TRAIN_DIR, f) for f in os.listdir(TRAIN_DIR)[:3]]\n",
    "for path in sample_spectrogram_paths:\n",
    "    spectrogram = plt.imread(path)\n",
    "    plot_spectrogram(spectrogram, title=f\"Spectrogram from {path}\")"
   ]
  },
  {
   "cell_type": "code",
   "execution_count": null,
   "metadata": {},
   "outputs": [],
   "source": []
  }
 ],
 "metadata": {
  "kernelspec": {
   "display_name": ".venv",
   "language": "python",
   "name": "python3"
  },
  "language_info": {
   "codemirror_mode": {
    "name": "ipython",
    "version": 3
   },
   "file_extension": ".py",
   "mimetype": "text/x-python",
   "name": "python",
   "nbconvert_exporter": "python",
   "pygments_lexer": "ipython3",
   "version": "3.9.6 (default, Feb  3 2024, 15:58:27) \n[Clang 15.0.0 (clang-1500.3.9.4)]"
  },
  "vscode": {
   "interpreter": {
    "hash": "cccc1e4ed51fc8b9fd510a52ec83f3ba6504ae6c1f28f1731113cc11ad46be9d"
   }
  }
 },
 "nbformat": 4,
 "nbformat_minor": 2
}
