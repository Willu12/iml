{
 "cells": [
  {
   "cell_type": "markdown",
   "metadata": {},
   "source": [
    "## First, run this cell to set up paths and import dependencies"
   ]
  },
  {
   "cell_type": "code",
   "execution_count": null,
   "metadata": {},
   "outputs": [],
   "source": [
    "%cd ..\n",
    "\n",
    "import os\n",
    "from src.data_processing import load_audio, split_into_clips, create_spectrogram, prepare_datasets\n",
    "from src.dataset_analysis import plot_spectrogram, dataset_summary\n",
    "import matplotlib.pyplot as plt\n",
    "from tqdm import tqdm\n",
    "\n",
    "# Configure directories\n",
    "data_dir = \"./data\"          # Directory where .wav files are stored\n",
    "output_dir = \"./datasets\"    # Directory to store processed spectrograms\n",
    "\n",
    "# Ensure the output directory structure exists\n",
    "os.makedirs(output_dir, exist_ok=True)\n",
    "os.makedirs(f\"{output_dir}/train\", exist_ok=True)\n",
    "os.makedirs(f\"{output_dir}/val\", exist_ok=True)\n",
    "os.makedirs(f\"{output_dir}/test\", exist_ok=True)\n"
   ]
  },
  {
   "cell_type": "markdown",
   "metadata": {},
   "source": [
    "## 1. Load all .wav files in the provided directory and preview some"
   ]
  },
  {
   "cell_type": "code",
   "execution_count": null,
   "metadata": {},
   "outputs": [],
   "source": [
    "wav_files = [os.path.join(data_dir, f) for f in os.listdir(data_dir) if f.endswith('.wav')]\n",
    "print(f\"Found {len(wav_files)} .wav files in directory '{data_dir}'\")"
   ]
  },
  {
   "cell_type": "markdown",
   "metadata": {},
   "source": [
    "## 2. Split files into train, validation, and test sets"
   ]
  },
  {
   "cell_type": "code",
   "execution_count": null,
   "metadata": {},
   "outputs": [],
   "source": [
    "train_files, val_files, test_files = prepare_datasets(data_dir)\n",
    "print(f\"Training files: {len(train_files)} | Validation files: {len(val_files)} | Test files: {len(test_files)}\")\n",
    "\n",
    "def save_spectrogram(spectrogram, output_path):\n",
    "    plt.imsave(output_path, spectrogram, cmap='gray')\n"
   ]
  },
  {
   "cell_type": "markdown",
   "metadata": {},
   "source": [
    "## 3. Process each dataset split by converting 2-second clips into spectrograms"
   ]
  },
  {
   "cell_type": "code",
   "execution_count": null,
   "metadata": {},
   "outputs": [],
   "source": [
    "def process_split(file_list, output_subdir):\n",
    "    for file_path in tqdm(file_list, desc=f\"Processing {output_subdir}\"):\n",
    "        audio, sr = load_audio(file_path)\n",
    "        clips = split_into_clips(audio)\n",
    "\n",
    "        for i, clip in enumerate(clips):\n",
    "            spectrogram = create_spectrogram(clip, sr)\n",
    "            output_path = os.path.join(output_subdir, f\"{os.path.basename(file_path).split('.')[0]}_{i}_clip.png\")\n",
    "            save_spectrogram(spectrogram, output_path)\n",
    "\n",
    "process_split(train_files, f\"{output_dir}/train\")\n",
    "process_split(val_files, f\"{output_dir}/val\")\n",
    "process_split(test_files, f\"{output_dir}/test\")\n"
   ]
  },
  {
   "cell_type": "markdown",
   "metadata": {},
   "source": [
    "## 4. Calculate and display statistics about the dataset"
   ]
  },
  {
   "cell_type": "code",
   "execution_count": null,
   "metadata": {},
   "outputs": [],
   "source": [
    "\n",
    "print(\"\\nDataset Statistics:\")\n",
    "print(\"Training set:\")\n",
    "dataset_summary(train_files)\n",
    "\n",
    "print(\"\\nValidation set:\")\n",
    "dataset_summary(val_files)\n",
    "\n",
    "print(\"\\nTest set:\")\n",
    "dataset_summary(test_files)\n"
   ]
  },
  {
   "cell_type": "markdown",
   "metadata": {},
   "source": [
    "## 5. Visualize some spectrogram examples"
   ]
  },
  {
   "cell_type": "code",
   "execution_count": null,
   "metadata": {},
   "outputs": [],
   "source": [
    "sample_spectrogram_paths = [os.path.join(f\"{output_dir}/train\", f) for f in os.listdir(f\"{output_dir}/train\")[:3]]\n",
    "for path in sample_spectrogram_paths:\n",
    "    spectrogram = plt.imread(path)\n",
    "    plot_spectrogram(spectrogram, title=f\"Spectrogram from {path}\")"
   ]
  }
 ],
 "metadata": {
  "kernelspec": {
   "display_name": "venv",
   "language": "python",
   "name": "python3"
  },
  "language_info": {
   "codemirror_mode": {
    "name": "ipython",
    "version": 3
   },
   "file_extension": ".py",
   "mimetype": "text/x-python",
   "name": "python",
   "nbconvert_exporter": "python",
   "pygments_lexer": "ipython3",
   "version": "3.11.8"
  }
 },
 "nbformat": 4,
 "nbformat_minor": 2
}
