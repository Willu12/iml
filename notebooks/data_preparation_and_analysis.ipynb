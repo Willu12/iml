{
 "cells": [
  {
   "cell_type": "markdown",
   "metadata": {},
   "source": [
    "## First, run this cell to set up paths and import dependencies"
   ]
  },
  {
   "cell_type": "code",
   "execution_count": null,
   "metadata": {},
   "outputs": [],
   "source": [
    "%cd ..\n",
    "\n",
    "import os\n",
    "import matplotlib.pyplot as plt\n",
    "from tqdm import tqdm\n",
    "from src.data_processing import load_audio, split_into_clips, create_spectrogram, prepare_datasets\n",
    "from src.dataset_analysis import plot_spectrogram, print_duration_summary, dataset_durations\n",
    "from src.config import VALID_ACCESS_LABELS, TRAIN_DIR, TEST_DIR, VAL_DIR, DATA_DIR, DATASET_DIR\n",
    "\n",
    "# Ensure the output directory structure exists\n",
    "os.makedirs(DATASET_DIR, exist_ok=True)\n",
    "os.makedirs(TRAIN_DIR, exist_ok=True)\n",
    "os.makedirs(VAL_DIR, exist_ok=True)\n",
    "os.makedirs(TEST_DIR, exist_ok=True)\n"
   ]
  },
  {
   "cell_type": "markdown",
   "metadata": {},
   "source": [
    "## 1. Load all .wav files in the provided directory and preview some"
   ]
  },
  {
   "cell_type": "code",
   "execution_count": null,
   "metadata": {},
   "outputs": [],
   "source": [
    "wav_files = [os.path.join(DATA_DIR, f) for f in os.listdir(DATA_DIR) if f.endswith('.wav')]\n",
    "print(f\"Found {len(wav_files)} .wav files in directory '{DATA_DIR}'\")"
   ]
  },
  {
   "cell_type": "markdown",
   "metadata": {},
   "source": [
    "## 2. Statistics about authorized/unauthorized speakers"
   ]
  },
  {
   "cell_type": "code",
   "execution_count": null,
   "metadata": {},
   "outputs": [],
   "source": [
    "authorized_speakers_files = []\n",
    "unauthorized_speakers_files = []\n",
    "\n",
    "for file in wav_files:\n",
    "    speaker_id = file.split('/')[-1].split('_')[0]\n",
    "    if speaker_id in VALID_ACCESS_LABELS:\n",
    "        authorized_speakers_files.append(file)\n",
    "    else:\n",
    "        unauthorized_speakers_files.append(file)\n",
    "\n",
    "print(\"Authorized speakers recordings:\")\n",
    "durations = dataset_durations(authorized_speakers_files)\n",
    "print_duration_summary(durations)\n",
    "\n",
    "print(\"\\nUnauthorized speakers recordings:\")\n",
    "durations = dataset_durations(unauthorized_speakers_files)\n",
    "print_duration_summary(durations)"
   ]
  },
  {
   "cell_type": "markdown",
   "metadata": {},
   "source": [
    "## 3. Split files into train, validation, and test sets"
   ]
  },
  {
   "cell_type": "code",
   "execution_count": null,
   "metadata": {},
   "outputs": [],
   "source": [
    "train_files, val_files, test_files = prepare_datasets(DATA_DIR)\n",
    "print(f\"Training files: {len(train_files)} | Validation files: {len(val_files)} | Test files: {len(test_files)}\")\n",
    "\n",
    "def save_spectrogram(spectrogram, output_path):\n",
    "    plt.imsave(output_path, spectrogram, cmap='gray')\n"
   ]
  },
  {
   "cell_type": "markdown",
   "metadata": {},
   "source": [
    "## 4. Calculate and display statistics about raw dataset"
   ]
  },
  {
   "cell_type": "code",
   "execution_count": null,
   "metadata": {},
   "outputs": [],
   "source": [
    "print(\"\\nDataset Statistics:\")\n",
    "print(\"Training set:\")\n",
    "durations = dataset_durations(train_files)\n",
    "print_duration_summary(durations)\n",
    "\n",
    "print(\"\\nValidation set:\")\n",
    "durations = dataset_durations(val_files)\n",
    "print_duration_summary(durations)\n",
    "\n",
    "print(\"\\nTest set:\")\n",
    "durations = dataset_durations(test_files)\n",
    "print_duration_summary(durations)"
   ]
  },
  {
   "cell_type": "markdown",
   "metadata": {},
   "source": [
    "## 5. Process each dataset split by converting 2-second clips into spectrograms"
   ]
  },
  {
   "cell_type": "code",
   "execution_count": null,
   "metadata": {},
   "outputs": [],
   "source": [
    "def process_split(file_list, output_subdir):\n",
    "    durations = []\n",
    "    for file_path in tqdm(file_list, desc=f\"Processing {output_subdir}\"):\n",
    "        audio, sr = load_audio(file_path)\n",
    "        clips = split_into_clips(audio, sample_rate=sr)\n",
    "\n",
    "        for i, clip in enumerate(clips):\n",
    "            durations.append(len(clip) / sr)\n",
    "            spectrogram = create_spectrogram(clip, sr)\n",
    "            output_path = os.path.join(output_subdir, f\"{os.path.basename(file_path).split('.')[0]}_{i}_clip.png\")\n",
    "            save_spectrogram(spectrogram, output_path)\n",
    "    print_duration_summary(durations)\n",
    "\n",
    "print(\"Preprocessed Train Dataset:\")\n",
    "process_split(train_files, TRAIN_DIR)\n",
    "\n",
    "print(\"\\nPreprocessed Validation Dataset:\")\n",
    "process_split(val_files, VAL_DIR)\n",
    "\n",
    "print(\"\\nPreprocessed Test Dataset:\")\n",
    "process_split(test_files, TEST_DIR)\n"
   ]
  },
  {
   "cell_type": "markdown",
   "metadata": {},
   "source": [
    "## 6. Visualize some spectrogram examples"
   ]
  },
  {
   "cell_type": "code",
   "execution_count": null,
   "metadata": {},
   "outputs": [],
   "source": [
    "sample_spectrogram_paths = [os.path.join(TRAIN_DIR, f) for f in os.listdir(TRAIN_DIR)[:3]]\n",
    "for path in sample_spectrogram_paths:\n",
    "    spectrogram = plt.imread(path)\n",
    "    plot_spectrogram(spectrogram, title=f\"Spectrogram from {path}\")"
   ]
  }
 ],
 "metadata": {
  "kernelspec": {
   "display_name": "venv",
   "language": "python",
   "name": "python3"
  },
  "language_info": {
   "codemirror_mode": {
    "name": "ipython",
    "version": 3
   },
   "file_extension": ".py",
   "mimetype": "text/x-python",
   "name": "python",
   "nbconvert_exporter": "python",
   "pygments_lexer": "ipython3",
   "version": "3.11.8"
  }
 },
 "nbformat": 4,
 "nbformat_minor": 2
}
