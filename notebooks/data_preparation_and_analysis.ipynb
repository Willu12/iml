{
 "cells": [
  {
   "cell_type": "markdown",
   "metadata": {},
   "source": [
    "## First, run this cell to set up paths and import dependencies"
   ]
  },
  {
   "cell_type": "code",
   "execution_count": null,
   "metadata": {},
   "outputs": [],
   "source": [
    "import os\n",
    "\n",
    "import matplotlib.pyplot as plt\n",
    "\n",
    "from tqdm import tqdm\n",
    "\n",
    "if not os.path.exists(\"./notebooks\"):\n",
    "    %cd ..\n",
    "\n",
    "from src.data_processing import load_audio, split_into_clips, create_spectrogram, prepare_datasets, list_audio_files, SOAAudioClips, save_mean_std, compute_mean_std_from_images\n",
    "from src.dataset_analysis import plot_spectrogram, duration_statistics\n",
    "from src.config import VALID_ACCESS_LABELS, TRAIN_DIR, TEST_DIR, VAL_DIR, DATA_DIR, DATASET_DIR\n",
    "\n",
    "# Ensure the output directory structure exists\n",
    "os.makedirs(DATASET_DIR, exist_ok=True)\n",
    "os.makedirs(TRAIN_DIR, exist_ok=True)\n",
    "os.makedirs(VAL_DIR, exist_ok=True)\n",
    "os.makedirs(TEST_DIR, exist_ok=True)\n"
   ]
  },
  {
   "cell_type": "markdown",
   "metadata": {},
   "source": [
    "## 1. Load all .wav files in the provided directory and preview some"
   ]
  },
  {
   "cell_type": "code",
   "execution_count": null,
   "metadata": {},
   "outputs": [],
   "source": [
    "wav_files = list_audio_files(DATA_DIR)\n",
    "print(f\"Found {len(wav_files)} .wav files in directory '{DATA_DIR}'\")"
   ]
  },
  {
   "cell_type": "markdown",
   "metadata": {},
   "source": [
    "## 2. Statistics about authorized/unauthorized speakers"
   ]
  },
  {
   "cell_type": "code",
   "execution_count": null,
   "metadata": {},
   "outputs": [],
   "source": [
    "authorized_speakers_files = []\n",
    "unauthorized_speakers_files = []\n",
    "\n",
    "for file in wav_files:\n",
    "    speaker_id = os.path.split(file)[-1].split('_')[0]\n",
    "    if speaker_id in VALID_ACCESS_LABELS:\n",
    "        authorized_speakers_files.append(file)\n",
    "    else:\n",
    "        unauthorized_speakers_files.append(file)\n",
    "\n",
    "print(\"Authorized speakers recordings:\")\n",
    "soa_authorized = SOAAudioClips(authorized_speakers_files)\n",
    "print(duration_statistics(soa_authorized.clips))\n",
    "\n",
    "print(\"\\nUnauthorized speakers recordings:\")\n",
    "soa_unauthorized = SOAAudioClips(unauthorized_speakers_files)\n",
    "print(duration_statistics(soa_unauthorized.clips))"
   ]
  },
  {
   "cell_type": "markdown",
   "metadata": {},
   "source": [
    "## 3. Split files into train, validation, and test sets"
   ]
  },
  {
   "cell_type": "code",
   "execution_count": null,
   "metadata": {},
   "outputs": [],
   "source": [
    "train_files, val_files, test_files = prepare_datasets(DATA_DIR)\n",
    "print(f\"Training files: {len(train_files)} | Validation files: {len(val_files)} | Test files: {len(test_files)}\")\n",
    "\n",
    "def save_spectrogram(spectrogram, output_path):\n",
    "    plt.imsave(output_path, spectrogram, cmap='gray')\n"
   ]
  },
  {
   "cell_type": "markdown",
   "metadata": {},
   "source": [
    "## 4. Calculate and display statistics about raw dataset"
   ]
  },
  {
   "cell_type": "code",
   "execution_count": null,
   "metadata": {},
   "outputs": [],
   "source": [
    "soa_train_full_clips = SOAAudioClips(train_files)\n",
    "soa_test_full_clips = SOAAudioClips(test_files)\n",
    "soa_val_full_clips = SOAAudioClips(val_files)\n",
    "\n",
    "print(\"\\nDataset Statistics:\")\n",
    "print(\"Training set:\")\n",
    "print(duration_statistics(soa_train_full_clips.clips))\n",
    "\n",
    "print(\"Validation set:\")\n",
    "print(duration_statistics(soa_test_full_clips.clips))\n",
    "\n",
    "print(\"Test set:\")\n",
    "print(duration_statistics(soa_val_full_clips.clips))"
   ]
  },
  {
   "cell_type": "markdown",
   "metadata": {},
   "source": [
    "## 5. Process each dataset split by converting 3-second clips into spectrograms"
   ]
  },
  {
   "cell_type": "code",
   "execution_count": null,
   "metadata": {},
   "outputs": [],
   "source": [
    "import torch\n",
    "from torchvision.transforms import transforms\n",
    "from src.config import HOP_LENGTH, SAMPLE_RATE\n",
    "from src.dataset_analysis import duration_statistics_spectrograms\n",
    "\n",
    "\n",
    "def process_split(soa_full_clips, output_subdir):\n",
    "    spectrograms = []\n",
    "    for file_path, full_clip in tqdm(soa_full_clips):\n",
    "        full_spectrogram = torch.tensor(create_spectrogram(full_clip)).unsqueeze(0)\n",
    "        clip_time_seconds = 3\n",
    "        clip_count = 100\n",
    "        transform_width = clip_time_seconds * SAMPLE_RATE / HOP_LENGTH\n",
    "        transform_height = full_spectrogram.shape[1]\n",
    "        transform = transforms.RandomCrop((int(transform_height), int(transform_width)))\n",
    "\n",
    "        for i in range(clip_count):\n",
    "            spectrogram = (transform(full_spectrogram)).squeeze(0).numpy()\n",
    "            spectrograms.append(spectrogram)\n",
    "            output_path = os.path.join(output_subdir, f\"{os.path.basename(file_path).split('.')[0]}_{i}_clip.png\")\n",
    "            save_spectrogram(spectrogram, output_path)\n",
    "    print(duration_statistics_spectrograms(spectrograms))\n",
    "\n",
    "print(\"Preprocessed Train Dataset:\")\n",
    "process_split(soa_train_full_clips, TRAIN_DIR)\n",
    "\n",
    "print(\"\\nPreprocessed Validation Dataset:\")\n",
    "process_split(soa_val_full_clips, VAL_DIR)\n",
    "\n",
    "print(\"\\nPreprocessed Test Dataset:\")\n",
    "process_split(soa_test_full_clips, TEST_DIR)\n"
   ]
  },
  {
   "cell_type": "markdown",
   "metadata": {},
   "source": [
    "## 6. Mean and Standard deviation of training dataset"
   ]
  },
  {
   "cell_type": "code",
   "execution_count": null,
   "metadata": {},
   "outputs": [],
   "source": [
    "mean, std = compute_mean_std_from_images(TRAIN_DIR)\n",
    "print(f\"Mean: {mean}, Standard deviation: {std}\")\n",
    "save_mean_std(mean, std, f\"{DATASET_DIR}/scaling_params.json\")"
   ]
  },
  {
   "cell_type": "markdown",
   "metadata": {},
   "source": [
    "## 7. Visualize some spectrogram examples"
   ]
  },
  {
   "cell_type": "code",
   "execution_count": null,
   "metadata": {},
   "outputs": [],
   "source": [
    "sample_spectrogram_paths = [os.path.join(TRAIN_DIR, f) for f in os.listdir(TRAIN_DIR)[:3]]\n",
    "for path in sample_spectrogram_paths:\n",
    "    spectrogram = plt.imread(path)\n",
    "    plot_spectrogram(spectrogram, title=f\"Spectrogram from {path}\")"
   ]
  }
 ],
 "metadata": {
  "kernelspec": {
   "display_name": "iml",
   "language": "python",
   "name": "python3"
  },
  "language_info": {
   "codemirror_mode": {
    "name": "ipython",
    "version": 3
   },
   "file_extension": ".py",
   "mimetype": "text/x-python",
   "name": "python",
   "nbconvert_exporter": "python",
   "pygments_lexer": "ipython3",
   "version": "3.11.8"
  }
 },
 "nbformat": 4,
 "nbformat_minor": 2
}
