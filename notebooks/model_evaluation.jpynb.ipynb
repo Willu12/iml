{
 "cells": [
  {
   "cell_type": "markdown",
   "id": "c3ca4b2b5ba7c129",
   "metadata": {},
   "source": [
    "# Set up imports"
   ]
  },
  {
   "cell_type": "code",
   "id": "initial_id",
   "metadata": {
    "collapsed": true
   },
   "source": [
    "import os\n",
    "if not os.path.exists(\"./notebooks\"):\n",
    "    %cd ..\n",
    "\n",
    "import numpy as np\n",
    "from src.data_processing import load_mean_std\n",
    "\n",
    "import torch\n",
    "from torchvision import transforms\n",
    "import src.model\n",
    "from src.training import monte_carlo_predictions\n"
   ],
   "outputs": [],
   "execution_count": null
  },
  {
   "attachments": {},
   "cell_type": "markdown",
   "id": "fb971ae6",
   "metadata": {},
   "source": [
    "# 0. Set Device "
   ]
  },
  {
   "cell_type": "code",
   "id": "a4ce85b6",
   "metadata": {},
   "source": [
    "device = torch.device(\"cuda\" if torch.cuda.is_available() else \"cpu\")"
   ],
   "outputs": [],
   "execution_count": null
  },
  {
   "cell_type": "markdown",
   "id": "fcfe3972985dc652",
   "metadata": {},
   "source": [
    "# 1. Define Monte Carlo Dropout testing"
   ]
  },
  {
   "cell_type": "code",
   "id": "f714a59f6ff3b6ac",
   "metadata": {},
   "source": [
    "def monte_carlo_dropout(model, test_loader, samples = 20):\n",
    "    predictions = []\n",
    "    for _ in range(samples):\n",
    "        predictions.append(monte_carlo_predictions(model, test_loader))\n",
    "        \n",
    "    predictions = np.stack(predictions , 0)\n",
    "    mean_predictions = np.mean(predictions, axis=0)\n",
    "    entropy = -1.0  * np.sum(mean_predictions * np.log(mean_predictions + 1e-16), axis=-1)\n",
    "    return predictions, entropy"
   ],
   "outputs": [],
   "execution_count": null
  },
  {
   "metadata": {},
   "cell_type": "markdown",
   "source": "## 2. Define Model Loading",
   "id": "96671c114914dc76"
  },
  {
   "metadata": {},
   "cell_type": "code",
   "source": [
    "def load_model(model, name) :\n",
    "    model_path = f\"./models/{name}.pth\"\n",
    "    model.load_state_dict(torch.load(model_path, weights_only=True,map_location=torch.device('cpu')))\n",
    "    model.device = device\n",
    "    model.to(device)"
   ],
   "id": "c4626f4dbd4be01a",
   "outputs": [],
   "execution_count": null
  },
  {
   "cell_type": "markdown",
   "id": "806aeb6a93a72136",
   "metadata": {},
   "source": "# 3. Load Models\n"
  },
  {
   "metadata": {},
   "cell_type": "markdown",
   "source": "",
   "id": "a18169357296d0a3"
  },
  {
   "cell_type": "code",
   "id": "e79eddf294d4088d",
   "metadata": {},
   "source": [
    "from src.dataset import prepare_dataset_loaders\n",
    "from src.config import DATASET_DIR \n",
    "mean, std = load_mean_std(f\"{DATASET_DIR}/scaling_params.json\")\n",
    "\n",
    "dropout_model = src.model.DropoutCNN() \n",
    "load_model(dropout_model, \"DropoutCNN\")\n",
    "\n",
    "model_names = [\"OriginalSizeCNN-UNIFORM-RELU\", \"OriginalSizeCNN-HE-RELU\", \"OriginalSizeCNN-XAVIER-RELU\"]\n",
    "ensemble_models = []\n",
    "\n",
    "for model_name in model_names:\n",
    "    sample_model = src.model.OriginalSizeCNN()\n",
    "    load_model(sample_model, model_name)\n",
    "    ensemble_models.append(sample_model)\n",
    "\n",
    "ensemble_model = src.model.EnsembleCNN(ensemble_models, 2)\n",
    "load_model(ensemble_model, \"EnsembleCNN\")"
   ],
   "outputs": [],
   "execution_count": null
  },
  {
   "metadata": {},
   "cell_type": "markdown",
   "source": "## 4. Calculate Entropy for models",
   "id": "b1e27020e15a775d"
  },
  {
   "metadata": {},
   "cell_type": "code",
   "source": [
    "batch_size = 10 # TODO make it not value from keyboard.\n",
    "\n",
    "\n",
    "transform = transforms.Compose([\n",
    "    transforms.ToTensor(),\n",
    "    transforms.Normalize(mean, std)\n",
    "])\n",
    "\n",
    "train_loader, val_loader, test_loader = prepare_dataset_loaders(transform, batch_size)\n",
    "\n",
    "\n",
    "dropout_predictions, dropout_entropy = monte_carlo_dropout(dropout_model, test_loader, samples=10)\n",
    "dropout_mean_predictions = np.mean(dropout_predictions, axis=0)\n",
    "dropout_variance_predictions = np.var(dropout_predictions, axis=0)\n",
    "\n",
    "ensemble_predictions, ensemble_entropy = monte_carlo_dropout(ensemble_model, test_loader, samples=10)\n",
    "ensemble_mean_predictions = np.mean(ensemble_predictions, axis=0)\n",
    "ensemble_variance_predictions = np.var(ensemble_predictions, axis=0)\n",
    "\n",
    "\n",
    "print(\"Dropout Mean Predictions:\", dropout_mean_predictions)\n",
    "print(\"Dropout Uncertainty Predictions:\", dropout_mean_predictions)\n",
    "print(\"Entropy for Dropout model:\", dropout_entropy)\n",
    "print(\"Entropy for Ensemble model:\", ensemble_entropy)\n",
    "print(\"Ensemble Mean Predictions:\", ensemble_mean_predictions)\n",
    "\n",
    "\n"
   ],
   "id": "50767b42a575e1d5",
   "outputs": [],
   "execution_count": null
  },
  {
   "metadata": {},
   "cell_type": "markdown",
   "source": "## Print Statistics ",
   "id": "284ec5d28c172321"
  },
  {
   "metadata": {},
   "cell_type": "code",
   "source": [
    "from scipy.stats import pearsonr\n",
    "\n",
    "\n",
    "\n",
    "#print(\"Dropout Mean Predictions:\", dropout_mean_predictions)\n",
    "#print(\"Dropout Uncertainty Predictions:\", dropout_mean_predictions)\n",
    "print(\"Entropy for Dropout model:\", dropout_entropy)\n",
    "print(\"Entropy for Ensemble model:\", ensemble_entropy)\n",
    "#print(\"Ensemble Mean Predictions:\", ensemble_mean_predictions)\n",
    "\n",
    "# Flatten and compare predictions\n",
    "mc_mean_flat = dropout_mean_predictions.flatten()\n",
    "ensemble_mean_flat = ensemble_mean_predictions.flatten()\n",
    "correlation, _ = pearsonr(mc_mean_flat,\n",
    "                          ensemble_mean_flat)\n",
    "print(f\"Prediction agreement (Pearson correlation): {correlation}\")\n"
   ],
   "id": "709a8672f13faaac",
   "outputs": [],
   "execution_count": null
  },
  {
   "attachments": {},
   "cell_type": "markdown",
   "id": "6d0c6afa",
   "metadata": {},
   "source": [
    "# Plot Monte Carlo Dropout"
   ]
  },
  {
   "cell_type": "code",
   "id": "00aa30a9",
   "metadata": {},
   "source": [
    "import matplotlib.pyplot as plt\n",
    "import seaborn as sns\n",
    "\n",
    "\n",
    "# Predicted Probabilities\n",
    "plt.figure(figsize=(10, 5))\n",
    "sns.histplot(dropout_mean_predictions, bins=30, kde=True, color='blue')\n",
    "plt.title(\"Distribution of Predicted Probabilities for Dropout Model\")\n",
    "plt.xlabel(\"Predicted Probability\")\n",
    "plt.ylabel(\"Frequency\")\n",
    "\n",
    "plt.figure(figsize=(10, 5))\n",
    "sns.histplot(dropout_variance_predictions, bins=30, kde=True, color='blue')\n",
    "plt.title(\"Distribution of Variances for Dropout Model\")\n",
    "plt.xlabel(\"Variance\")\n",
    "plt.ylabel(\"Frequency\")\n",
    "\n",
    "\n",
    "plt.figure(figsize=(10, 5))\n",
    "sns.histplot(ensemble_mean_predictions, bins=30, kde=True, color='blue')\n",
    "plt.title(\"Distribution of Predicted Probabilities for Ensemble Model\")\n",
    "plt.xlabel(\"Predicted Probability\")\n",
    "plt.ylabel(\"Frequency\")"
   ],
   "outputs": [],
   "execution_count": null
  },
  {
   "cell_type": "code",
   "id": "82b90afa5b1175fb",
   "metadata": {},
   "source": [],
   "outputs": [],
   "execution_count": null
  }
 ],
 "metadata": {
  "kernelspec": {
   "display_name": ".venv",
   "language": "python",
   "name": "python3"
  },
  "language_info": {
   "codemirror_mode": {
    "name": "ipython",
    "version": 3
   },
   "file_extension": ".py",
   "mimetype": "text/x-python",
   "name": "python",
   "nbconvert_exporter": "python",
   "pygments_lexer": "ipython3",
   "version": "3.9.6 (default, Feb  3 2024, 15:58:27) \n[Clang 15.0.0 (clang-1500.3.9.4)]"
  },
  "vscode": {
   "interpreter": {
    "hash": "cccc1e4ed51fc8b9fd510a52ec83f3ba6504ae6c1f28f1731113cc11ad46be9d"
   }
  }
 },
 "nbformat": 4,
 "nbformat_minor": 5
}
