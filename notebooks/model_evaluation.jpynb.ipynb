{
 "cells": [
  {
   "cell_type": "markdown",
   "id": "c3ca4b2b5ba7c129",
   "metadata": {},
   "source": [
    "# Set up imports"
   ]
  },
  {
   "cell_type": "code",
   "execution_count": null,
   "id": "initial_id",
   "metadata": {
    "ExecuteTime": {
     "end_time": "2024-11-27T23:35:31.055571Z",
     "start_time": "2024-11-27T23:35:31.050143Z"
    },
    "collapsed": true
   },
   "outputs": [],
   "source": [
    "import os\n",
    "if not os.path.exists(\"./notebooks\"):\n",
    "    %cd ..\n",
    "\n",
    "import numpy as np\n",
    "from src.data_processing import load_mean_std\n",
    "\n",
    "import torch\n",
    "from torchvision import transforms\n",
    "import src.model\n",
    "from src.training import monte_carlo_predictions\n"
   ]
  },
  {
   "attachments": {},
   "cell_type": "markdown",
   "id": "fb971ae6",
   "metadata": {},
   "source": [
    "# 0. Set Device "
   ]
  },
  {
   "cell_type": "code",
   "execution_count": null,
   "id": "a4ce85b6",
   "metadata": {
    "ExecuteTime": {
     "end_time": "2024-11-27T23:35:32.997942Z",
     "start_time": "2024-11-27T23:35:32.994438Z"
    }
   },
   "outputs": [],
   "source": [
    "device = torch.device(\"cuda\" if torch.cuda.is_available() else \"cpu\")"
   ]
  },
  {
   "cell_type": "markdown",
   "id": "fcfe3972985dc652",
   "metadata": {},
   "source": [
    "# 1. Define Monte Carlo Dropout testing"
   ]
  },
  {
   "cell_type": "code",
   "execution_count": null,
   "id": "f714a59f6ff3b6ac",
   "metadata": {
    "ExecuteTime": {
     "end_time": "2024-11-27T23:35:35.044133Z",
     "start_time": "2024-11-27T23:35:35.039418Z"
    }
   },
   "outputs": [],
   "source": [
    "def monte_carlo_dropout(model, test_loader, samples = 20):\n",
    "    predictions = []\n",
    "    for _ in range(samples):\n",
    "        predictions.append(monte_carlo_predictions(model, test_loader))\n",
    "        \n",
    "    predictions = np.stack(predictions , 0)\n",
    "    mean_predictions = np.mean(predictions, axis=0)\n",
    "    entropy = -1.0  * np.sum(mean_predictions * np.log(mean_predictions + 1e-16), axis=-1)\n",
    "    return mean_predictions, entropy"
   ]
  },
  {
   "cell_type": "markdown",
   "id": "806aeb6a93a72136",
   "metadata": {},
   "source": [
    "# 2. Calculate Monte Carlo Dropout Predictions for Model\n"
   ]
  },
  {
   "cell_type": "code",
   "execution_count": null,
   "id": "e79eddf294d4088d",
   "metadata": {
    "ExecuteTime": {
     "end_time": "2024-11-27T23:36:10.936305Z",
     "start_time": "2024-11-27T23:35:37.319063Z"
    }
   },
   "outputs": [],
   "source": [
    "from src.dataset import prepare_dataset_loaders\n",
    "from src.config import DATASET_DIR \n",
    "mean, std = load_mean_std(f\"{DATASET_DIR}/scaling_params.json\")\n",
    "name = \"DropoutCNN\"\n",
    "model = src.model.DropoutCNN()  \n",
    "\n",
    "batch_size = 10 # TODO make it not value from keyboard.\n",
    "# Load the saved state dictionary\n",
    "model_path = f\"./models/{name}.pth\"\n",
    "model.load_state_dict(torch.load(model_path, weights_only=True))\n",
    "model.device = device\n",
    "\n",
    "\n",
    "transform = transforms.Compose([\n",
    "    transforms.ToTensor(),\n",
    "    transforms.Normalize(mean, std)\n",
    "])\n",
    "train_loader, val_loader, test_loader = prepare_dataset_loaders(transform, batch_size)\n",
    "probs, entropy = monte_carlo_dropout(model, val_loader, samples=20)\n",
    "\n",
    "print(\"Entropy:\", entropy)\n"
   ]
  },
  {
   "attachments": {},
   "cell_type": "markdown",
   "id": "6d0c6afa",
   "metadata": {},
   "source": [
    "# Plot Monte Carlo Dropout"
   ]
  },
  {
   "cell_type": "code",
   "execution_count": null,
   "id": "00aa30a9",
   "metadata": {
    "ExecuteTime": {
     "end_time": "2024-11-27T23:41:54.091627Z",
     "start_time": "2024-11-27T23:41:53.861961Z"
    }
   },
   "outputs": [],
   "source": [
    "import matplotlib.pyplot as plt\n",
    "import seaborn as sns\n",
    "\n",
    "# Predicted Probabilities\n",
    "plt.figure(figsize=(10, 5))\n",
    "sns.histplot(probs, bins=30, kde=True, color='blue')\n",
    "plt.title(\"Distribution of Predicted Probabilities\")\n",
    "plt.xlabel(\"Predicted Probability\")\n",
    "plt.ylabel(\"Frequency\")\n"
   ]
  },
  {
   "cell_type": "code",
   "execution_count": null,
   "id": "82b90afa5b1175fb",
   "metadata": {},
   "outputs": [],
   "source": []
  }
 ],
 "metadata": {
  "kernelspec": {
   "display_name": ".venv",
   "language": "python",
   "name": "python3"
  },
  "language_info": {
   "codemirror_mode": {
    "name": "ipython",
    "version": 3
   },
   "file_extension": ".py",
   "mimetype": "text/x-python",
   "name": "python",
   "nbconvert_exporter": "python",
   "pygments_lexer": "ipython3",
   "version": "3.9.6 (default, Feb  3 2024, 15:58:27) \n[Clang 15.0.0 (clang-1500.3.9.4)]"
  },
  "vscode": {
   "interpreter": {
    "hash": "cccc1e4ed51fc8b9fd510a52ec83f3ba6504ae6c1f28f1731113cc11ad46be9d"
   }
  }
 },
 "nbformat": 4,
 "nbformat_minor": 5
}
