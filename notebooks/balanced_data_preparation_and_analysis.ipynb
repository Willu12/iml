{
 "cells": [
  {
   "cell_type": "markdown",
   "metadata": {},
   "source": [
    "## First, run this cell to set up paths and import dependencies"
   ]
  },
  {
   "cell_type": "code",
   "execution_count": 1,
   "metadata": {},
   "outputs": [
    {
     "name": "stderr",
     "output_type": "stream",
     "text": [
      "c:\\Users\\wojciech.basinski\\iml\\venv\\Lib\\site-packages\\IPython\\core\\magics\\osm.py:417: UserWarning: This is now an optional IPython functionality, setting dhist requires you to install the `pickleshare` library.\n",
      "  self.shell.db['dhist'] = compress_dhist(dhist)[-100:]\n"
     ]
    },
    {
     "name": "stdout",
     "output_type": "stream",
     "text": [
      "c:\\Users\\wojciech.basinski\\iml\n"
     ]
    }
   ],
   "source": [
    "import os\n",
    "\n",
    "import matplotlib.pyplot as plt\n",
    "import random\n",
    "from tqdm import tqdm\n",
    "\n",
    "if not os.path.exists(r\"./notebooks\"):\n",
    "    %cd ..\n",
    "\n",
    "\n",
    "from src.data_processing import load_audio, split_into_clips, create_spectrogram, prepare_datasets, list_all_audio_files, SOAAudioClips, save_mean_std, compute_mean_std_from_images, list_audio_files_recursively, extract_metadata, exclude_overlapping_scripts, compute_statistics,display_dataset_statistics, save_spectrogram\n",
    "from src.dataset_analysis import plot_spectrogram, duration_statistics\n",
    "from src.config import VALID_ACCESS_LABELS, TRAIN_DIR, TEST_DIR, VAL_DIR, DATA_DIR, DATASET_DIR,DATA_DIR_SPECIFIC\n",
    "from collections import defaultdict, Counter\n",
    "\n",
    "# Ensure the output directory structure exists\n",
    "os.makedirs(DATASET_DIR, exist_ok=True)\n",
    "os.makedirs(TRAIN_DIR, exist_ok=True)\n",
    "os.makedirs(VAL_DIR, exist_ok=True)\n",
    "os.makedirs(TEST_DIR, exist_ok=True)\n",
    "random.seed(42)  # For reproducibility"
   ]
  },
  {
   "cell_type": "markdown",
   "metadata": {},
   "source": [
    "## 1  Load all .wav files from the dataset"
   ]
  },
  {
   "cell_type": "code",
   "execution_count": 4,
   "metadata": {},
   "outputs": [
    {
     "name": "stdout",
     "output_type": "stream",
     "text": [
      "Found 900 .wav files in directory './data' in the following allowed directories: ['ipad_balcony1', 'ipad_bedroom1', 'ipad_confroom1', 'ipad_confroom2', 'ipad_livingroom1', 'ipad_office1', 'ipad_office2ipadflat_confroom1ipadflat_office1', 'iphone_balcony1', 'iphone_bedroom1', 'iphone_livingroom1']\n"
     ]
    }
   ],
   "source": [
    "\n",
    "allowed_dictionaries=[\"ipad_balcony1\",\"ipad_bedroom1\",\"ipad_confroom1\",\"ipad_confroom2\",\"ipad_livingroom1\",\"ipad_office1\",\"ipad_office2\"\"ipadflat_confroom1\"\"ipadflat_office1\",\"iphone_balcony1\",\"iphone_bedroom1\",\"iphone_livingroom1\"]\n",
    "\n",
    "wav_files_all = list_audio_files_recursively(DATA_DIR,allowed_dictionaries)\n",
    "print(f\"Found {len(wav_files_all)} .wav files in directory '{DATA_DIR}' in the following allowed directories: {allowed_dictionaries}\")"
   ]
  },
  {
   "cell_type": "markdown",
   "metadata": {},
   "source": [
    "## 2 Balance all .wav files, split it and display statistics"
   ]
  },
  {
   "cell_type": "code",
   "execution_count": 5,
   "metadata": {},
   "outputs": [
    {
     "name": "stdout",
     "output_type": "stream",
     "text": [
      "Train Dataset Statistics: {'Total Files': 378, 'Authorized': 194, 'Unauthorized': 184, 'Speakers': Counter({'m8': 35, 'f8': 34, 'm6': 32, 'm3': 31, 'f1': 31, 'f7': 31, 'f6': 19, 'm1': 17, 'f5': 17, 'm10': 14, 'f9': 14, 'm7': 14, 'm9': 14, 'f4': 13, 'f3': 13, 'f10': 13, 'm2': 11, 'm5': 11, 'm4': 10, 'f2': 4}), 'Devices': Counter({'ipad': 243, 'iphone': 135}), 'Rooms': Counter({'balcony1': 88, 'livingroom1': 81, 'bedroom1': 80, 'confroom2': 51, 'office1': 43, 'confroom1': 35})}\n",
      "Validation Dataset Statistics: {'Total Files': 10, 'Authorized': 5, 'Unauthorized': 5, 'Speakers': Counter({'f1': 2, 'f2': 1, 'm6': 1, 'm2': 1, 'f10': 1, 'f7': 1, 'm10': 1, 'm3': 1, 'f3': 1}), 'Devices': Counter({'ipad': 6, 'iphone': 4}), 'Rooms': Counter({'bedroom1': 4, 'balcony1': 2, 'livingroom1': 2, 'confroom2': 1, 'office1': 1})}\n",
      "Test Dataset Statistics: {'Total Files': 10, 'Authorized': 6, 'Unauthorized': 4, 'Speakers': Counter({'f8': 3, 'f1': 2, 'f3': 2, 'f2': 1, 'm8': 1, 'f5': 1}), 'Devices': Counter({'ipad': 8, 'iphone': 2}), 'Rooms': Counter({'confroom2': 3, 'balcony1': 2, 'bedroom1': 2, 'livingroom1': 1, 'office1': 1, 'confroom1': 1})}\n"
     ]
    }
   ],
   "source": [
    "\n",
    "# Step 1: Parse Metadata\n",
    "metadata = extract_metadata(wav_files_all,VALID_ACCESS_LABELS)\n",
    "\n",
    "# Step 2: Group by Speaker\n",
    "grouped_by_speaker = defaultdict(list)\n",
    "for entry in metadata:\n",
    "    grouped_by_speaker[entry[\"speaker\"]].append(entry)\n",
    "\n",
    "# Step 3: Balance Dataset\n",
    "authorized_files = [entry for entry in metadata if entry[\"authorized\"]]\n",
    "unauthorized_files = [entry for entry in metadata if not entry[\"authorized\"]]\n",
    "\n",
    "# Maintain 1:1 ratio for train dataset\n",
    "num_authorized = len(authorized_files)\n",
    "unauthorized_sampled = random.sample(unauthorized_files, min(len(unauthorized_files), num_authorized))\n",
    "\n",
    "# Combine for balanced training pool\n",
    "balanced_pool = authorized_files + unauthorized_sampled\n",
    "\n",
    "# Shuffle the balanced pool for randomness\n",
    "random.shuffle(balanced_pool)\n",
    "\n",
    "# Step 4: Split into Train, Validation, and Test\n",
    "train_split = int(0.7 * len(balanced_pool))\n",
    "validation_split = int(0.85 * len(balanced_pool))\n",
    "\n",
    "train_files_balanced = balanced_pool[:train_split]\n",
    "validation_files_balanced = balanced_pool[train_split:validation_split]\n",
    "test_files_balanced = balanced_pool[validation_split:]\n",
    "\n",
    "# Step 5: Prevent Data Leakage\n",
    "validation_files_balanced, test_files_balanced = exclude_overlapping_scripts(train_files_balanced, validation_files_balanced, test_files_balanced)\n",
    "\n",
    "# Step 6: Display Statistics\n",
    "display_dataset_statistics(train_files_balanced,validation_files_balanced,test_files_balanced)\n"
   ]
  },
  {
   "cell_type": "markdown",
   "metadata": {},
   "source": [
    "## 3 Display files info"
   ]
  },
  {
   "cell_type": "code",
   "execution_count": 6,
   "metadata": {},
   "outputs": [
    {
     "name": "stdout",
     "output_type": "stream",
     "text": [
      "\n",
      "Dataset Statistics:\n",
      "Training set:\n",
      "Statistics:\n",
      "        Total files: 378,\n",
      "        Total duration: 61226.76 sec,\n",
      "        Average duration: 161.98 sec, \n",
      "        Duration range: 116.16 - 224.20 sec\n",
      "        \n",
      "Validation set:\n",
      "Statistics:\n",
      "        Total files: 10,\n",
      "        Total duration: 1660.39 sec,\n",
      "        Average duration: 166.04 sec, \n",
      "        Duration range: 132.03 - 198.84 sec\n",
      "        \n",
      "Test set:\n",
      "Statistics:\n",
      "        Total files: 10,\n",
      "        Total duration: 1727.28 sec,\n",
      "        Average duration: 172.73 sec, \n",
      "        Duration range: 159.80 - 189.09 sec\n",
      "        \n"
     ]
    }
   ],
   "source": [
    "train_files_paths = [entry['path'] for entry in train_files_balanced]\n",
    "test_files_paths = [entry['path'] for entry in validation_files_balanced]\n",
    "val_files_paths = [entry['path'] for entry in test_files_balanced]\n",
    "\n",
    "soa_train_full_clips = SOAAudioClips(train_files_paths)\n",
    "soa_test_full_clips = SOAAudioClips(test_files_paths)\n",
    "soa_val_full_clips = SOAAudioClips(val_files_paths)\n",
    "\n",
    "print(\"\\nDataset Statistics:\")\n",
    "print(\"Training set:\")\n",
    "print(duration_statistics(soa_train_full_clips.clips))\n",
    "\n",
    "print(\"Validation set:\")\n",
    "print(duration_statistics(soa_test_full_clips.clips))\n",
    "\n",
    "print(\"Test set:\")\n",
    "print(duration_statistics(soa_val_full_clips.clips))\n",
    "\n",
    "\n",
    "\n"
   ]
  },
  {
   "cell_type": "markdown",
   "metadata": {},
   "source": [
    "## 4 Process each dataset split by converting 3-second clips into spectrograms"
   ]
  },
  {
   "cell_type": "code",
   "execution_count": null,
   "metadata": {},
   "outputs": [
    {
     "name": "stdout",
     "output_type": "stream",
     "text": [
      "Preprocessed Train Dataset:\n"
     ]
    },
    {
     "name": "stderr",
     "output_type": "stream",
     "text": [
      " 23%|██▎       | 88/378 [00:47<02:29,  1.94it/s]"
     ]
    }
   ],
   "source": [
    "def process_split(soa_full_clips, output_subdir):\n",
    "    all_splitted_clips = []\n",
    "    for file_path, full_clip in tqdm(soa_full_clips):\n",
    "        clips = split_into_clips(full_clip)\n",
    "        all_splitted_clips.extend(clips)\n",
    "        for i, clip in enumerate(clips):\n",
    "            spectrogram = create_spectrogram(clip)\n",
    "            output_path = os.path.join(output_subdir, f\"{os.path.basename(file_path).split('.')[0]}_{i}_clip.png\")\n",
    "            save_spectrogram(spectrogram, output_path)\n",
    "    print(duration_statistics(all_splitted_clips))\n",
    "\n",
    "print(\"Preprocessed Train Dataset:\")\n",
    "process_split(soa_train_full_clips, TRAIN_DIR)\n",
    "\n",
    "print(\"\\nPreprocessed Validation Dataset:\")\n",
    "process_split(soa_val_full_clips, VAL_DIR)\n",
    "\n",
    "print(\"\\nPreprocessed Test Dataset:\")\n",
    "process_split(soa_test_full_clips, TEST_DIR)"
   ]
  },
  {
   "cell_type": "markdown",
   "metadata": {},
   "source": [
    "## 5 Mean and Standard deviation of training dataset"
   ]
  },
  {
   "cell_type": "code",
   "execution_count": null,
   "metadata": {},
   "outputs": [],
   "source": [
    "mean, std = compute_mean_std_from_images(TRAIN_DIR)\n",
    "print(f\"Mean: {mean}, Standard deviation: {std}\")\n",
    "save_mean_std(mean, std, f\"{DATASET_DIR}/scaling_params.json\")"
   ]
  }
 ],
 "metadata": {
  "kernelspec": {
   "display_name": "venv",
   "language": "python",
   "name": "python3"
  },
  "language_info": {
   "codemirror_mode": {
    "name": "ipython",
    "version": 3
   },
   "file_extension": ".py",
   "mimetype": "text/x-python",
   "name": "python",
   "nbconvert_exporter": "python",
   "pygments_lexer": "ipython3",
   "version": "3.12.2"
  }
 },
 "nbformat": 4,
 "nbformat_minor": 2
}
