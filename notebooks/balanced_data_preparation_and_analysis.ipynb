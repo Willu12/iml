{
 "cells": [
  {
   "cell_type": "markdown",
   "metadata": {},
   "source": [
    "## First, run this cell to set up paths and import dependencies"
   ]
  },
  {
   "cell_type": "code",
   "execution_count": null,
   "metadata": {},
   "outputs": [],
   "source": [
    "import os\n",
    "\n",
    "import matplotlib.pyplot as plt\n",
    "import random\n",
    "from tqdm import tqdm\n",
    "from collections import defaultdict\n",
    "import re\n",
    "import random\n",
    "\n",
    "if not os.path.exists(r\"./notebooks\"):\n",
    "    %cd ..\n",
    "\n",
    "\n",
    "from src.data_processing import split_into_clips, create_spectrogram, SOAAudioClips, save_mean_std, compute_mean_std_from_images, list_audio_files_recursively, save_spectrogram\n",
    "from src.dataset_analysis import duration_statistics\n",
    "from src.config import VALID_ACCESS_LABELS, TRAIN_DIR, TEST_DIR, VAL_DIR, DATA_DIR, DATASET_DIR, DATA_DIR_SPECIFIC\n",
    "from collections import defaultdict\n",
    "\n",
    "# Ensure the output directory structure exists\n",
    "os.makedirs(DATASET_DIR, exist_ok=True)\n",
    "os.makedirs(TRAIN_DIR, exist_ok=True)\n",
    "os.makedirs(VAL_DIR, exist_ok=True)\n",
    "os.makedirs(TEST_DIR, exist_ok=True)\n",
    "random.seed(42)  # For reproducibility"
   ]
  },
  {
   "cell_type": "markdown",
   "metadata": {},
   "source": [
    "## 1  Load all .wav files from the dataset"
   ]
  },
  {
   "cell_type": "code",
   "execution_count": null,
   "metadata": {},
   "outputs": [],
   "source": [
    "\n",
    "allowed_dictionaries=['ipadflat_confroom1', 'ipadflat_office1', 'ipad_balcony1', 'ipad_bedroom1', 'ipad_confroom1', 'ipad_confroom2', 'ipad_livingroom1', 'ipad_office1', 'ipad_office2', 'iphone_balcony1', 'iphone_bedroom1', 'iphone_livingroom1']\n",
    "print(len(allowed_dictionaries))\n",
    "wav_files_all = list_audio_files_recursively(DATA_DIR,allowed_dictionaries)\n",
    "print(f\"Found {len(wav_files_all)} .wav files in directory '{DATA_DIR}' in the following allowed directories: {allowed_dictionaries}\")"
   ]
  },
  {
   "cell_type": "code",
   "execution_count": null,
   "metadata": {},
   "outputs": [],
   "source": [
    "wav_files_all"
   ]
  },
  {
   "cell_type": "markdown",
   "metadata": {},
   "source": [
    "## 2 Balance all .wav files, split it and display statistics"
   ]
  },
  {
   "cell_type": "code",
   "execution_count": null,
   "metadata": {},
   "outputs": [],
   "source": [
    "# Data structures to hold the parsed information\n",
    "speaker_script_to_files = defaultdict(list)\n",
    "\n",
    "# Regular expression to extract speaker tag and script number\n",
    "pattern = re.compile(r'([fm]\\d+)_script(\\d+)_')\n",
    "\n",
    "for filepath in wav_files_all:\n",
    "    filename = os.path.basename(filepath)  # Extract the file name cross-platform\n",
    "    match = pattern.match(filename)\n",
    "    if match:\n",
    "        speaker_tag = match.group(1)\n",
    "        script_number = int(match.group(2))\n",
    "        speaker_script_to_files[(speaker_tag, script_number)].append(filepath)\n",
    "    else:\n",
    "        print(f\"Filename {filename} does not match the expected pattern.\")\n"
   ]
  },
  {
   "cell_type": "code",
   "execution_count": null,
   "metadata": {},
   "outputs": [],
   "source": [
    "# Initialize sets\n",
    "train_set = []\n",
    "validate_set = []\n",
    "test_set = []\n",
    "\n",
    "# Lists to keep track of counts\n",
    "authorized_train_samples = []\n",
    "unauthorized_train_samples = []\n",
    "\n",
    "# Collect all speakers\n",
    "all_speakers = set(speaker for speaker, script in speaker_script_to_files.keys())\n",
    "authorized_speakers = all_speakers.intersection(VALID_ACCESS_LABELS)\n",
    "unauthorized_speakers = all_speakers - authorized_speakers\n",
    "\n",
    "# Shuffle scripts for randomness\n",
    "random.seed(42)  # For reproducibility\n",
    "\n",
    "for speaker in all_speakers:\n",
    "    speaker_scripts = [script for (spk, script) in speaker_script_to_files.keys() if spk == speaker]\n",
    "    random.shuffle(speaker_scripts)\n",
    "    \n",
    "    num_scripts = len(speaker_scripts)\n",
    "    num_train_scripts = int(0.7 * num_scripts)\n",
    "    num_validate_scripts = int(0.15 * num_scripts)\n",
    "    \n",
    "    # Ensure at least one script in each set if possible\n",
    "    num_train_scripts = max(1, num_train_scripts)\n",
    "    num_validate_scripts = max(1, num_validate_scripts)\n",
    "    num_test_scripts = num_scripts - num_train_scripts - num_validate_scripts\n",
    "    \n",
    "    if num_test_scripts == 0:\n",
    "        num_test_scripts = 1\n",
    "        num_train_scripts -= 1\n",
    "    \n",
    "    # Assign scripts to sets\n",
    "    train_scripts = speaker_scripts[:num_train_scripts]\n",
    "    validate_scripts = speaker_scripts[num_train_scripts:num_train_scripts + num_validate_scripts]\n",
    "    test_scripts = speaker_scripts[num_train_scripts + num_validate_scripts:]\n",
    "    \n",
    "    for script in train_scripts:\n",
    "        files = speaker_script_to_files[(speaker, script)]\n",
    "        train_set.extend(files)\n",
    "        if speaker in VALID_ACCESS_LABELS:\n",
    "            authorized_train_samples.extend(files)\n",
    "        else:\n",
    "            unauthorized_train_samples.extend(files)\n",
    "    \n",
    "    for script in validate_scripts:\n",
    "        files = speaker_script_to_files[(speaker, script)]\n",
    "        validate_set.extend(files)\n",
    "    \n",
    "    for script in test_scripts:\n",
    "        files = speaker_script_to_files[(speaker, script)]\n",
    "        test_set.extend(files)\n"
   ]
  },
  {
   "cell_type": "code",
   "execution_count": null,
   "metadata": {},
   "outputs": [],
   "source": [
    "# Calculate the number of samples from authorized and unauthorized speakers\n",
    "num_authorized_samples = len(authorized_train_samples)\n",
    "num_unauthorized_samples = len(unauthorized_train_samples)\n",
    "\n",
    "# Adjust the unauthorized samples to match the authorized samples\n",
    "if num_authorized_samples < num_unauthorized_samples:\n",
    "    # Reduce unauthorized samples\n",
    "    difference = num_unauthorized_samples - num_authorized_samples\n",
    "    random.shuffle(unauthorized_train_samples)\n",
    "    unauthorized_train_samples = unauthorized_train_samples[:num_authorized_samples]\n",
    "    # Update the train set\n",
    "    train_set = authorized_train_samples + unauthorized_train_samples\n",
    "else:\n",
    "    # Reduce authorized samples (unlikely given the dataset)\n",
    "    difference = num_authorized_samples - num_unauthorized_samples\n",
    "    random.shuffle(authorized_train_samples)\n",
    "    authorized_train_samples = authorized_train_samples[:num_unauthorized_samples]\n",
    "    # Update the train set\n",
    "    train_set = authorized_train_samples + unauthorized_train_samples\n"
   ]
  },
  {
   "cell_type": "code",
   "execution_count": null,
   "metadata": {},
   "outputs": [],
   "source": [
    "def compute_statistics(dataset, name):\n",
    "    total_samples = len(dataset)\n",
    "    speakers = set()\n",
    "    authorized_count = 0\n",
    "    unauthorized_count = 0\n",
    "    speaker_sample_counts = defaultdict(int)\n",
    "    \n",
    "    for filepath in dataset:\n",
    "        filename = os.path.basename(filepath)  # Extract the file name cross-platform\n",
    "        match = pattern.match(filename)\n",
    "        if match:\n",
    "            speaker_tag = match.group(1)\n",
    "            speakers.add(speaker_tag)\n",
    "            speaker_sample_counts[speaker_tag] += 1  # Increment the count for this speaker\n",
    "            if speaker_tag in VALID_ACCESS_LABELS:\n",
    "                authorized_count += 1\n",
    "            else:\n",
    "                unauthorized_count += 1\n",
    "                    \n",
    "    print(f\"--- {name} Set Statistics ---\")\n",
    "    print(f\"Total Samples: {total_samples}\")\n",
    "    print(f\"Total Speakers: {len(speakers)}\")\n",
    "    print(f\"Authorized Samples: {authorized_count}\")\n",
    "    print(f\"Unauthorized Samples: {unauthorized_count}\")\n",
    "    print(f\"Authorized to Unauthorized Ratio: {authorized_count}:{unauthorized_count}\")\n",
    "    print(\"\\nSamples per Speaker:\")\n",
    "    for speaker in sorted(speaker_sample_counts.keys()):\n",
    "        print(f\"  {speaker}: {speaker_sample_counts[speaker]}\")\n",
    "    print()\n"
   ]
  },
  {
   "cell_type": "code",
   "execution_count": null,
   "metadata": {},
   "outputs": [],
   "source": [
    "compute_statistics(train_set, \"Training\")\n",
    "compute_statistics(validate_set, \"Validation\")\n",
    "compute_statistics(test_set, \"Test\")\n"
   ]
  },
  {
   "cell_type": "markdown",
   "metadata": {},
   "source": [
    "## 3 Display files info"
   ]
  },
  {
   "cell_type": "code",
   "execution_count": null,
   "metadata": {},
   "outputs": [],
   "source": [
    "# train_files_paths = [entry['path'] for entry in train_set]\n",
    "# test_files_paths = [entry['path'] for entry in validate_set]\n",
    "# val_files_paths = [entry['path'] for entry in test_set]\n",
    "\n",
    "soa_train_full_clips = SOAAudioClips(train_set)\n",
    "soa_test_full_clips = SOAAudioClips(validate_set)\n",
    "soa_val_full_clips = SOAAudioClips(test_set)\n",
    "\n",
    "print(\"\\nDataset Statistics:\")\n",
    "print(\"Training set:\")\n",
    "print(duration_statistics(soa_train_full_clips.clips))\n",
    "\n",
    "print(\"Validation set:\")\n",
    "print(duration_statistics(soa_test_full_clips.clips))\n",
    "\n",
    "print(\"Test set:\")\n",
    "print(duration_statistics(soa_val_full_clips.clips))\n",
    "\n",
    "\n",
    "\n"
   ]
  },
  {
   "cell_type": "markdown",
   "metadata": {},
   "source": [
    "## 4 Process each dataset split by converting 3-second clips into spectrograms"
   ]
  },
  {
   "cell_type": "code",
   "execution_count": null,
   "metadata": {},
   "outputs": [],
   "source": [
    "def process_split(soa_full_clips, output_subdir):\n",
    "    all_splitted_clips = []\n",
    "    for file_path, full_clip in tqdm(soa_full_clips):\n",
    "        clips = split_into_clips(full_clip)\n",
    "        all_splitted_clips.extend(clips)\n",
    "        for i, clip in enumerate(clips):\n",
    "            spectrogram = create_spectrogram(clip)\n",
    "            output_path = os.path.join(output_subdir, f\"{os.path.basename(file_path).split('.')[0]}_{i}_clip.png\")\n",
    "            save_spectrogram(spectrogram, output_path)\n",
    "    print(duration_statistics(all_splitted_clips))\n",
    "\n",
    "print(\"Preprocessed Train Dataset:\")\n",
    "process_split(soa_train_full_clips, TRAIN_DIR)\n",
    "\n",
    "print(\"\\nPreprocessed Validation Dataset:\")\n",
    "process_split(soa_val_full_clips, VAL_DIR)\n",
    "\n",
    "print(\"\\nPreprocessed Test Dataset:\")\n",
    "process_split(soa_test_full_clips, TEST_DIR)"
   ]
  },
  {
   "cell_type": "markdown",
   "metadata": {},
   "source": [
    "## 5 Mean and Standard deviation of training dataset"
   ]
  },
  {
   "cell_type": "code",
   "execution_count": null,
   "metadata": {},
   "outputs": [],
   "source": [
    "mean, std = compute_mean_std_from_images(TRAIN_DIR)\n",
    "print(f\"Mean: {mean}, Standard deviation: {std}\")\n",
    "save_mean_std(mean, std, f\"{DATASET_DIR}/scaling_params.json\")"
   ]
  }
 ],
 "metadata": {
  "kernelspec": {
   "display_name": "venv",
   "language": "python",
   "name": "python3"
  },
  "language_info": {
   "codemirror_mode": {
    "name": "ipython",
    "version": 3
   },
   "file_extension": ".py",
   "mimetype": "text/x-python",
   "name": "python",
   "nbconvert_exporter": "python",
   "pygments_lexer": "ipython3",
   "version": "3.11.8"
  }
 },
 "nbformat": 4,
 "nbformat_minor": 2
}
