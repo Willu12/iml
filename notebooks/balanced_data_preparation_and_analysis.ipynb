{
 "cells": [
  {
   "cell_type": "markdown",
   "metadata": {},
   "source": [
    "## First, run this cell to set up paths and import dependencies"
   ]
  },
  {
   "cell_type": "code",
   "execution_count": null,
   "metadata": {},
   "outputs": [],
   "source": [
    "import os\n",
    "\n",
    "import matplotlib.pyplot as plt\n",
    "import random\n",
    "from tqdm import tqdm\n",
    "\n",
    "if not os.path.exists(r\"./notebooks\"):\n",
    "    %cd ..\n",
    "\n",
    "\n",
    "from src.data_processing import load_audio, split_into_clips, create_spectrogram, prepare_datasets, list_all_audio_files, SOAAudioClips, save_mean_std, compute_mean_std_from_images, list_audio_files_recursively, extract_metadata, exclude_overlapping_scripts, compute_statistics,display_dataset_statistics, save_spectrogram\n",
    "from src.dataset_analysis import plot_spectrogram, duration_statistics\n",
    "from src.config import VALID_ACCESS_LABELS, TRAIN_DIR, TEST_DIR, VAL_DIR, DATA_DIR, DATASET_DIR,DATA_DIR_SPECIFIC\n",
    "from collections import defaultdict, Counter\n",
    "\n",
    "# Ensure the output directory structure exists\n",
    "os.makedirs(DATASET_DIR, exist_ok=True)\n",
    "os.makedirs(TRAIN_DIR, exist_ok=True)\n",
    "os.makedirs(VAL_DIR, exist_ok=True)\n",
    "os.makedirs(TEST_DIR, exist_ok=True)\n",
    "random.seed(42)  # For reproducibility"
   ]
  },
  {
   "cell_type": "markdown",
   "metadata": {},
   "source": [
    "## 1  Load all .wav files from the dataset"
   ]
  },
  {
   "cell_type": "code",
   "execution_count": null,
   "metadata": {},
   "outputs": [],
   "source": [
    "\n",
    "allowed_dictionaries=[\"ipad_balcony1\",\"ipad_bedroom1\",\"ipad_confroom1\",\"ipad_confroom2\",\"ipad_livingroom1\",\"ipad_office1\",\"ipad_office2\"\"ipadflat_confroom1\"\"ipadflat_office1\",\"iphone_balcony1\",\"iphone_bedroom1\",\"iphone_livingroom1\"]\n",
    "\n",
    "wav_files_all = list_audio_files_recursively(DATA_DIR,allowed_dictionaries)\n",
    "print(f\"Found {len(wav_files_all)} .wav files in directory '{DATA_DIR}' in the following allowed directories: {allowed_dictionaries}\")"
   ]
  },
  {
   "cell_type": "markdown",
   "metadata": {},
   "source": [
    "## 2 Balance all .wav files, split it and display statistics"
   ]
  },
  {
   "cell_type": "code",
   "execution_count": null,
   "metadata": {},
   "outputs": [],
   "source": [
    "\n",
    "# Step 1: Parse Metadata\n",
    "metadata = extract_metadata(wav_files_all,VALID_ACCESS_LABELS)\n",
    "\n",
    "# Step 2: Group by Speaker\n",
    "grouped_by_speaker = defaultdict(list)\n",
    "for entry in metadata:\n",
    "    grouped_by_speaker[entry[\"speaker\"]].append(entry)\n",
    "\n",
    "# Step 3: Balance Dataset\n",
    "authorized_files = [entry for entry in metadata if entry[\"authorized\"]]\n",
    "unauthorized_files = [entry for entry in metadata if not entry[\"authorized\"]]\n",
    "\n",
    "# Maintain 1:1 ratio for train dataset\n",
    "num_authorized = len(authorized_files)\n",
    "unauthorized_sampled = random.sample(unauthorized_files, min(len(unauthorized_files), num_authorized))\n",
    "\n",
    "# Combine for balanced training pool\n",
    "balanced_pool = authorized_files + unauthorized_sampled\n",
    "\n",
    "# Shuffle the balanced pool for randomness\n",
    "random.shuffle(balanced_pool)\n",
    "\n",
    "# Step 4: Split into Train, Validation, and Test\n",
    "train_split = int(0.7 * len(balanced_pool))\n",
    "validation_split = int(0.85 * len(balanced_pool))\n",
    "\n",
    "train_files_balanced = balanced_pool[:train_split]\n",
    "validation_files_balanced = balanced_pool[train_split:validation_split]\n",
    "test_files_balanced = balanced_pool[validation_split:]\n",
    "\n",
    "# Step 5: Prevent Data Leakage\n",
    "validation_files_balanced, test_files_balanced = exclude_overlapping_scripts(train_files_balanced, validation_files_balanced, test_files_balanced)\n",
    "\n",
    "# Step 6: Display Statistics\n",
    "display_dataset_statistics(train_files_balanced,validation_files_balanced,test_files_balanced)\n"
   ]
  },
  {
   "cell_type": "markdown",
   "metadata": {},
   "source": [
    "## 3 Display files info"
   ]
  },
  {
   "cell_type": "code",
   "execution_count": null,
   "metadata": {},
   "outputs": [],
   "source": [
    "train_files_paths = [entry['path'] for entry in train_files_balanced]\n",
    "test_files_paths = [entry['path'] for entry in validation_files_balanced]\n",
    "val_files_paths = [entry['path'] for entry in test_files_balanced]\n",
    "\n",
    "soa_train_full_clips = SOAAudioClips(train_files_paths)\n",
    "soa_test_full_clips = SOAAudioClips(test_files_paths)\n",
    "soa_val_full_clips = SOAAudioClips(val_files_paths)\n",
    "\n",
    "print(\"\\nDataset Statistics:\")\n",
    "print(\"Training set:\")\n",
    "print(duration_statistics(soa_train_full_clips.clips))\n",
    "\n",
    "print(\"Validation set:\")\n",
    "print(duration_statistics(soa_test_full_clips.clips))\n",
    "\n",
    "print(\"Test set:\")\n",
    "print(duration_statistics(soa_val_full_clips.clips))\n",
    "\n",
    "\n",
    "\n"
   ]
  },
  {
   "cell_type": "markdown",
   "metadata": {},
   "source": [
    "## 4 Process each dataset split by converting 3-second clips into spectrograms"
   ]
  },
  {
   "cell_type": "code",
   "execution_count": null,
   "metadata": {},
   "outputs": [],
   "source": [
    "def process_split(soa_full_clips, output_subdir):\n",
    "    all_splitted_clips = []\n",
    "    for file_path, full_clip in tqdm(soa_full_clips):\n",
    "        clips = split_into_clips(full_clip)\n",
    "        all_splitted_clips.extend(clips)\n",
    "        for i, clip in enumerate(clips):\n",
    "            spectrogram = create_spectrogram(clip)\n",
    "            output_path = os.path.join(output_subdir, f\"{os.path.basename(file_path).split('.')[0]}_{i}_clip.png\")\n",
    "            save_spectrogram(spectrogram, output_path)\n",
    "    print(duration_statistics(all_splitted_clips))\n",
    "\n",
    "print(\"Preprocessed Train Dataset:\")\n",
    "process_split(soa_train_full_clips, TRAIN_DIR)\n",
    "\n",
    "print(\"\\nPreprocessed Validation Dataset:\")\n",
    "process_split(soa_val_full_clips, VAL_DIR)\n",
    "\n",
    "print(\"\\nPreprocessed Test Dataset:\")\n",
    "process_split(soa_test_full_clips, TEST_DIR)"
   ]
  },
  {
   "cell_type": "markdown",
   "metadata": {},
   "source": [
    "## 5 Mean and Standard deviation of training dataset"
   ]
  },
  {
   "cell_type": "code",
   "execution_count": null,
   "metadata": {},
   "outputs": [],
   "source": [
    "mean, std = compute_mean_std_from_images(TRAIN_DIR)\n",
    "print(f\"Mean: {mean}, Standard deviation: {std}\")\n",
    "save_mean_std(mean, std, f\"{DATASET_DIR}/scaling_params.json\")"
   ]
  }
 ],
 "metadata": {
  "kernelspec": {
   "display_name": "venv",
   "language": "python",
   "name": "python3"
  },
  "language_info": {
   "codemirror_mode": {
    "name": "ipython",
    "version": 3
   },
   "file_extension": ".py",
   "mimetype": "text/x-python",
   "name": "python",
   "nbconvert_exporter": "python",
   "pygments_lexer": "ipython3",
   "version": "3.12.2"
  }
 },
 "nbformat": 4,
 "nbformat_minor": 2
}
