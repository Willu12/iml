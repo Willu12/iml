{
 "cells": [
  {
   "cell_type": "markdown",
   "metadata": {},
   "source": [
    "## Set up paths and imports"
   ]
  },
  {
   "cell_type": "code",
   "execution_count": null,
   "metadata": {},
   "outputs": [],
   "source": [
    "import os\n",
    "\n",
    "import torch\n",
    "import torch.nn as nn\n",
    "from torchvision import transforms\n",
    "\n",
    "if not os.path.exists(\"./notebooks\"):\n",
    "    %cd ..\n",
    "\n",
    "from src.training import train, validate\n",
    "from src.dataset import prepare_dataset_loaders\n",
    "from src.data_processing import load_mean_std\n",
    "from src.config import DATASET_DIR, PATIENCE_THRESHOLD, VALID_ACCESS_LABELS\n",
    "\n",
    "wandb_enabled = False"
   ]
  },
  {
   "cell_type": "markdown",
   "metadata": {},
   "source": [
    "## 1. Load standarization data and define Config"
   ]
  },
  {
   "cell_type": "code",
   "execution_count": null,
   "metadata": {},
   "outputs": [],
   "source": [
    "class Config:\n",
    "    def __init__(self, lr=0.001, epochs=40, batch_size=32):\n",
    "        self.learning_rate = lr\n",
    "        self.epochs = epochs\n",
    "        self.batch_size = batch_size"
   ]
  },
  {
   "cell_type": "markdown",
   "metadata": {},
   "source": [
    "### Optionally initialize W&B project"
   ]
  },
  {
   "cell_type": "code",
   "execution_count": null,
   "metadata": {},
   "outputs": [],
   "source": [
    "import wandb\n",
    "\n",
    "wandb_enabled = True"
   ]
  },
  {
   "cell_type": "markdown",
   "metadata": {},
   "source": [
    "## 2. Define training and validation loop"
   ]
  },
  {
   "cell_type": "code",
   "execution_count": null,
   "metadata": {},
   "outputs": [],
   "source": [
    "device = torch.device(\"cuda:0\" if torch.cuda.is_available() else \"cpu\")\n",
    "\n",
    "def do_train(name, train_loader, val_loader, config, model, criterion, optimizer):\n",
    "    if wandb_enabled:\n",
    "            wandb.init(name=name, project=\"iml\", config=vars(config))\n",
    " \n",
    "    model.device = device\n",
    "    model.to(device)\n",
    "\n",
    "    saved = False\n",
    "    patience = 0\n",
    "    best_f1 = -1\n",
    "\n",
    "    for epoch in range(config.epochs):\n",
    "        print(f\"Epoch {epoch+1}/{config.epochs}\")\n",
    "\n",
    "        if wandb_enabled:\n",
    "            logger = wandb.log\n",
    "        else:\n",
    "            logger = lambda data,step: print(f\"  Step {step}: {data}\")\n",
    "\n",
    "        train(model, train_loader, criterion, optimizer, epoch, logger, len(train_loader) // 5 - 1)\n",
    "        metrics = validate(model, val_loader)\n",
    "        print(metrics)\n",
    "\n",
    "        if wandb_enabled:\n",
    "            wandb.log({\"validation/recall\": metrics.recall, \"validation/accuracy\": metrics.accuracy, \"validation/precision\": metrics.precision, \"validation/f1\": metrics.f1, \"epoch\": epoch+1})\n",
    "\n",
    "        if metrics.f1 < best_f1:\n",
    "            patience = patience + 1\n",
    "        else:\n",
    "            patience = 0\n",
    "            best_f1 = metrics.f1\n",
    "        if patience >= PATIENCE_THRESHOLD:\n",
    "            model_path = f\"./models/{name}.pth\"\n",
    "            os.makedirs(os.path.dirname(model_path), exist_ok=True)\n",
    "            torch.save(model.state_dict(), model_path)\n",
    "            saved = True\n",
    "\n",
    "    if(saved == False):\n",
    "            model_path = f\"./models/{name}.pth\"\n",
    "            os.makedirs(os.path.dirname(model_path), exist_ok=True)\n",
    "            torch.save(model.state_dict(), model_path)\n",
    "\n",
    "    if wandb_enabled:\n",
    "        wandb.save(model_path)\n",
    "        wandb.finish()\n",
    "    \n"
   ]
  },
  {
   "cell_type": "code",
   "execution_count": null,
   "metadata": {},
   "outputs": [],
   "source": [
    "from torchvggish import vggish\n",
    "from torchvggish import vggish_input\n",
    "import librosa\n",
    "import numpy as np\n",
    "\n",
    "model = vggish.VGGish(pretrained=True)\n",
    "model.eval()\n",
    "\n",
    "# VGGish specific\n",
    "def preprocess_audio(file_path, target_sample_rate=16000):\n",
    "    \"\"\"\n",
    "    Load a .wav file, convert to mono, and preprocess into log-Mel spectrogram.\n",
    "    \"\"\"\n",
    "    audio, sr = librosa.load(file_path, sr=target_sample_rate, mono=True)\n",
    "    \n",
    "    # Ensure audio is not too short for VGGish\n",
    "    if len(audio) < target_sample_rate:\n",
    "        # Pad with zeros if shorter than 1 second\n",
    "        padding = target_sample_rate - len(audio)\n",
    "        audio = np.pad(audio, (0, padding), mode='constant')\n",
    "\n",
    "    # Convert audio to log-Mel spectrogram\n",
    "    mel_spec = vggish_input.waveform_to_examples(audio, sr)\n",
    "    return torch.tensor(mel_spec).unsqueeze(1)\n",
    "\n",
    "def extract_features(file_paths):\n",
    "    features = []\n",
    "    for file in file_paths:\n",
    "        print(f\"Processing: {file}\")\n",
    "        mel_spec = preprocess_audio(file)\n",
    "\n",
    "        # Extract features using VGGish\n",
    "        with torch.no_grad():\n",
    "            file_features = model(mel_spec)\n",
    "        features.append((file, file_features.numpy()))\n",
    "    return features"
   ]
  },
  {
   "cell_type": "code",
   "execution_count": null,
   "metadata": {},
   "outputs": [],
   "source": [
    "class SpeechDataset(Dataset):\n",
    "    def __init__(self, data):\n",
    "        self.data = data\n",
    "\n",
    "    def __len__(self):\n",
    "        return len(self.data)\n",
    "\n",
    "    def __getitem__(self, idx):\n",
    "        spectrogram, label = self.data[idx]\n",
    "        return spectrogram, torch.tensor(label, dtype=torch.long)"
   ]
  },
  {
   "cell_type": "code",
   "execution_count": null,
   "metadata": {},
   "outputs": [],
   "source": [
    "# EfficientNetB0\n",
    "from torchvision.models import efficientnet_b0\n",
    "from torchvision.models import EfficientNet_B0_Weights\n",
    "\n",
    "weights = EfficientNet_B0_Weights.DEFAULT\n",
    "pretrained_model = efficientnet_b0(weights=weights)\n",
    "pre_trans = weights.transforms()\n",
    "name_base=\"EfficientNet_B0\""
   ]
  },
  {
   "cell_type": "code",
   "execution_count": null,
   "metadata": {},
   "outputs": [],
   "source": [
    "# Freeze base model (transfer learning)\n",
    "pretrained_model.requires_grad_(False)\n",
    "next(iter(pretrained_model.parameters())).requires_grad\n",
    "name = name_base + \"_fine_tuning\""
   ]
  },
  {
   "cell_type": "code",
   "execution_count": null,
   "metadata": {},
   "outputs": [],
   "source": [
    "# Do not freeze model\n",
    "name = name_base + \"_transfer_learning\""
   ]
  },
  {
   "cell_type": "code",
   "execution_count": null,
   "metadata": {},
   "outputs": [],
   "source": [
    "N_CLASSES = 2\n",
    "\n",
    "num_features = pretrained_model.classifier[1].in_features\n",
    "pretrained_model.classifier = nn.Sequential(\n",
    "    nn.Linear(num_features, 256),\n",
    "    nn.ReLU(),\n",
    "    nn.Dropout(0.5),\n",
    "    nn.Linear(256, N_CLASSES)\n",
    ")\n",
    "my_model = pretrained_model"
   ]
  },
  {
   "cell_type": "code",
   "execution_count": null,
   "metadata": {},
   "outputs": [],
   "source": [
    "from torch.utils.data import Dataset\n",
    "from PIL import Image\n",
    "\n",
    "class SpectrogramVGG16Dataset(Dataset):\n",
    "    def __init__(self, directory, transform=None):\n",
    "        self.files = [\n",
    "            os.path.join(directory, f)\n",
    "            for f in os.listdir(directory)\n",
    "            if f.endswith(\".png\")\n",
    "        ]\n",
    "        self.transform = transform\n",
    "\n",
    "    def __len__(self):\n",
    "        return len(self.files)\n",
    "\n",
    "    def __getitem__(self, idx):\n",
    "        \"\"\"\n",
    "        Retrieves an image and its label.\n",
    "\n",
    "        Parameters:\n",
    "            idx (int): Index of the image in the dataset.\n",
    "\n",
    "        Returns:\n",
    "            tuple: A tuple containing the transformed image and its label.\n",
    "        \"\"\"\n",
    "        img_path = self.files[idx]\n",
    "        speaker_id = img_path.split(\"/\")[-1].split(\"_\")[0]\n",
    "        label = int(speaker_id in VALID_ACCESS_LABELS)\n",
    "\n",
    "        image = Image.open(img_path).convert(\"RGB\")\n",
    "        image = pre_trans(image)\n",
    "\n",
    "        if self.transform:\n",
    "            image = self.transform(image)\n",
    "\n",
    "        return image, label"
   ]
  },
  {
   "cell_type": "code",
   "execution_count": null,
   "metadata": {},
   "outputs": [],
   "source": [
    "model = my_model\n",
    "config = Config(batch_size=32, epochs=40, lr=0.001)\n",
    "transform = transforms.Compose([])\n",
    "train_loader, val_loader, test_loader = prepare_dataset_loaders(transform, config.batch_size, SpectrogramVGG16Dataset)\n",
    "criterion = torch.nn.CrossEntropyLoss()\n",
    "optimizer = torch.optim.Adam(model.parameters(), lr=config.learning_rate)\n",
    "\n",
    "do_train(name, train_loader, val_loader, config, model, criterion, optimizer)"
   ]
  }
 ],
 "metadata": {
  "kernelspec": {
   "display_name": ".venv",
   "language": "python",
   "name": "python3"
  },
  "language_info": {
   "codemirror_mode": {
    "name": "ipython",
    "version": 3
   },
   "file_extension": ".py",
   "mimetype": "text/x-python",
   "name": "python",
   "nbconvert_exporter": "python",
   "pygments_lexer": "ipython3",
   "version": "3.11.8"
  }
 },
 "nbformat": 4,
 "nbformat_minor": 2
}
