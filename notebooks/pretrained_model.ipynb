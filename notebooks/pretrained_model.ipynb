{
 "cells": [
  {
   "cell_type": "markdown",
   "metadata": {},
   "source": [
    "## Set up paths and imports"
   ]
  },
  {
   "cell_type": "code",
   "execution_count": null,
   "metadata": {},
   "outputs": [],
   "source": [
    "import os\n",
    "\n",
    "import torch\n",
    "import torch.nn as nn\n",
    "from torchvision import transforms\n",
    "\n",
    "if not os.path.exists(\"./notebooks\"):\n",
    "    %cd ..\n",
    "\n",
    "from src.training import train, validate\n",
    "from src.dataset import prepare_dataset_loaders\n",
    "from src.audio_dataset_processor import AudioDatasetProcessor\n",
    "from src.config import VALID_ACCESS_LABELS, DATA_DIR, PATIENCE_THRESHOLD\n",
    "\n",
    "wandb_enabled = False"
   ]
  },
  {
   "cell_type": "code",
   "execution_count": null,
   "metadata": {},
   "outputs": [],
   "source": [
    "class Config:\n",
    "    def __init__(self, lr=0.001, epochs=40, batch_size=32):\n",
    "        self.learning_rate = lr\n",
    "        self.epochs = epochs\n",
    "        self.batch_size = batch_size"
   ]
  },
  {
   "cell_type": "markdown",
   "metadata": {},
   "source": [
    "### Optionally initialize W&B project"
   ]
  },
  {
   "cell_type": "code",
   "execution_count": null,
   "metadata": {},
   "outputs": [],
   "source": [
    "import wandb\n",
    "\n",
    "wandb_enabled = True"
   ]
  },
  {
   "cell_type": "markdown",
   "metadata": {},
   "source": [
    "## 1. Split all allowed .wav files\n",
    "We are using [DAPS](https://zenodo.org/records/4660670) dataset. It has several directories available in which there are .wav files of 5 scripts read by 20 speakers. Directories differ from each other with augmentation, which is labeled by `room` and `recording device`. In this cell we are specifying allowed directories, their contents are being discovered and splitted into 3 datasets (training, validation and test). The same speaker with the same script with different augmentation cannot be in the same dataset - `AudioDatasetProcessor` class take care of that. `balance` parameter set to true balances authorized and unauthorized speakers file count in training dataset."
   ]
  },
  {
   "cell_type": "code",
   "execution_count": null,
   "metadata": {},
   "outputs": [],
   "source": [
    "allowed_directories=['ipadflat_confroom1', 'ipadflat_office1', 'ipad_balcony1', 'ipad_bedroom1', 'ipad_confroom1', 'ipad_confroom2', 'ipad_livingroom1', 'ipad_office1', 'ipad_office2', 'iphone_balcony1', 'iphone_bedroom1', 'iphone_livingroom1']\n",
    "dataset_processor = AudioDatasetProcessor(DATA_DIR, VALID_ACCESS_LABELS, allowed_directories)\n",
    "dataset_processor.compute_statistics()\n",
    "train_set, validate_set, test_set = dataset_processor.get_datasets(balanced=True) # if you want unbalanced set parameter to False"
   ]
  },
  {
   "cell_type": "markdown",
   "metadata": {},
   "source": [
    "## 2. Define training and validation loop"
   ]
  },
  {
   "cell_type": "code",
   "execution_count": null,
   "metadata": {},
   "outputs": [],
   "source": [
    "device = torch.device(\"cuda\" if torch.cuda.is_available() else \"cpu\")\n",
    "\n",
    "def do_train(name, train_loader, val_loader, config, model, criterion, optimizer):\n",
    "    if wandb_enabled:\n",
    "        run = wandb.init(name=name, project=\"iml\", config=vars(config))\n",
    " \n",
    "    model.device = device\n",
    "    model.to(device)\n",
    "\n",
    "    saved = False\n",
    "    patience = 0\n",
    "    best_f1 = -1\n",
    "\n",
    "    for epoch in range(config.epochs):\n",
    "        print(f\"Epoch {epoch+1}/{config.epochs}\")\n",
    "\n",
    "        if wandb_enabled:\n",
    "            logger = wandb.log\n",
    "        else:\n",
    "            logger = lambda data,step: print(f\"  Step {step}: {data}\")\n",
    "\n",
    "        train(model, train_loader, criterion, optimizer, epoch, logger, len(train_loader) // 5 - 1)\n",
    "        metrics = validate(model, val_loader)\n",
    "        print(metrics)\n",
    "\n",
    "        if wandb_enabled:\n",
    "            wandb.log({\"validation/recall\": metrics.recall, \"validation/accuracy\": metrics.accuracy, \"validation/precision\": metrics.precision, \"validation/f1\": metrics.f1, \"epoch\": epoch+1})\n",
    "\n",
    "        if metrics.f1 < best_f1:\n",
    "            patience = patience + 1\n",
    "        else:\n",
    "            patience = 0\n",
    "            best_f1 = metrics.f1\n",
    "        if patience >= PATIENCE_THRESHOLD:\n",
    "            model_path = f\"./models/{name}.pth\"\n",
    "            os.makedirs(os.path.dirname(model_path), exist_ok=True)\n",
    "            torch.save(model.state_dict(), model_path)\n",
    "            saved = True;\n",
    "\n",
    "    if(saved == False):\n",
    "            model_path = f\"./models/{name}.pth\"\n",
    "            os.makedirs(os.path.dirname(model_path), exist_ok=True)\n",
    "            torch.save(model.state_dict(), model_path)\n",
    "\n",
    "    if wandb_enabled: \n",
    "        wandb.save(model_path)\n",
    "        wandb.finish()\n",
    "        return run\n",
    "    \n",
    "def do_test(name, test_loader, model_class, run):\n",
    "    if wandb_enabled:\n",
    "        wandb.init(name=name, project=\"iml\", resume=\"must\", id=run.id)\n",
    " \n",
    "    model = model_class()\n",
    "    model.device = device\n",
    "    model.to(device)\n",
    "\n",
    "    model_path = f\"./models/{name}.pth\"\n",
    "    model.load_state_dict(torch.load(model_path, map_location=device))\n",
    "\n",
    "    metrics = validate(model, test_loader)\n",
    "    print(metrics)\n",
    "\n",
    "    if wandb_enabled:\n",
    "        wandb.log({\"test/recall\": metrics.recall, \"test/accuracy\": metrics.accuracy, \"test/precision\": metrics.precision, \"test/f1\": metrics.f1})\n",
    "\n",
    "    if wandb_enabled: \n",
    "        wandb.finish()"
   ]
  },
  {
   "cell_type": "markdown",
   "metadata": {},
   "source": [
    "## 3. Choose pretrained model architecture.\n",
    "`EfficientNetB0` is much lighter than `VGG16` and according to our tests there is almost no difference between their accuracy."
   ]
  },
  {
   "cell_type": "code",
   "execution_count": null,
   "metadata": {},
   "outputs": [],
   "source": [
    "# EfficientNetB0\n",
    "from torchvision.models import efficientnet_b0\n",
    "from torchvision.models import EfficientNet_B0_Weights\n",
    "\n",
    "weights = EfficientNet_B0_Weights.DEFAULT\n",
    "pretrained_model = efficientnet_b0(weights=weights)\n",
    "pre_trans = weights.transforms()\n",
    "name_base=\"EfficientNet_B0\"\n",
    "num_features = pretrained_model.classifier[1].in_features"
   ]
  },
  {
   "cell_type": "code",
   "execution_count": null,
   "metadata": {},
   "outputs": [],
   "source": [
    "# VGG16\n",
    "from torchvision.models import vgg16\n",
    "from torchvision.models import VGG16_Weights\n",
    "\n",
    "weights = VGG16_Weights.DEFAULT\n",
    "pretrained_model = vgg16(weights=weights)\n",
    "pre_trans = weights.transforms()\n",
    "name_base=\"VGG16\"\n",
    "num_features = pretrained_model.classifier[0].in_features"
   ]
  },
  {
   "cell_type": "markdown",
   "metadata": {},
   "source": [
    "## 4. Choose training approach\n",
    "Options are:\n",
    "1. freeze pretrained model and train only small classifier based on pretrained model input (transfer learning).\n",
    "2. train both pretrained model and added classifier (fine-tuning)."
   ]
  },
  {
   "cell_type": "code",
   "execution_count": null,
   "metadata": {},
   "outputs": [],
   "source": [
    "# Freeze base model (transfer learning)\n",
    "pretrained_model.requires_grad_(False)\n",
    "next(iter(pretrained_model.parameters())).requires_grad\n",
    "name = name_base + \"_transfer_learning\""
   ]
  },
  {
   "cell_type": "code",
   "execution_count": null,
   "metadata": {},
   "outputs": [],
   "source": [
    "# Do not freeze model\n",
    "name = name_base + \"_fine_tuning\""
   ]
  },
  {
   "cell_type": "markdown",
   "metadata": {},
   "source": [
    "##  5. Add our small classifier after pretrained model's feature extraction"
   ]
  },
  {
   "cell_type": "code",
   "execution_count": null,
   "metadata": {},
   "outputs": [],
   "source": [
    "# Our own classifier\n",
    "N_CLASSES = 2\n",
    "\n",
    "pretrained_model.classifier = nn.Sequential(\n",
    "    nn.Linear(num_features, 256),\n",
    "    nn.ReLU(),\n",
    "    nn.Dropout(0.5),\n",
    "    nn.Linear(256, N_CLASSES)\n",
    ")\n",
    "my_model = pretrained_model"
   ]
  },
  {
   "cell_type": "code",
   "execution_count": null,
   "metadata": {},
   "outputs": [],
   "source": [
    "from torch.utils.data import Dataset\n",
    "from PIL import Image\n",
    "\n",
    "class SpectrogramRGBDataset(Dataset):\n",
    "    def __init__(self, directory, transform=None):\n",
    "        self.files = [\n",
    "            os.path.join(directory, f)\n",
    "            for f in os.listdir(directory)\n",
    "            if f.endswith(\".png\")\n",
    "        ]\n",
    "        self.transform = transform\n",
    "\n",
    "    def __len__(self):\n",
    "        return len(self.files)\n",
    "\n",
    "    def __getitem__(self, idx):\n",
    "        img_path = self.files[idx]\n",
    "        speaker_id = img_path.split(\"/\")[-1].split(\"_\")[0]\n",
    "        label = int(speaker_id in VALID_ACCESS_LABELS)\n",
    "\n",
    "        image = Image.open(img_path).convert(\"RGB\")\n",
    "        image = pre_trans(image)\n",
    "\n",
    "        if self.transform:\n",
    "            image = self.transform(image)\n",
    "\n",
    "        return image, label\n",
    "    "
   ]
  },
  {
   "cell_type": "code",
   "execution_count": null,
   "metadata": {},
   "outputs": [],
   "source": [
    "model = my_model\n",
    "config = Config(batch_size=32, epochs=40, lr=0.0001)\n",
    "transform = transforms.Compose([])\n",
    "train_loader, val_loader, test_loader = prepare_dataset_loaders(transform, config.batch_size, SpectrogramRGBDataset)\n",
    "criterion = torch.nn.CrossEntropyLoss()\n",
    "optimizer = torch.optim.Adam(model.parameters(), lr=config.learning_rate)\n",
    "\n",
    "run = do_train(name, train_loader, val_loader, config, model, criterion, optimizer)"
   ]
  },
  {
   "cell_type": "code",
   "execution_count": null,
   "metadata": {},
   "outputs": [],
   "source": [
    "do_test(name, test_loader, model.__class__, run)"
   ]
  }
 ],
 "metadata": {
  "kernelspec": {
   "display_name": ".venv",
   "language": "python",
   "name": "python3"
  },
  "language_info": {
   "codemirror_mode": {
    "name": "ipython",
    "version": 3
   },
   "file_extension": ".py",
   "mimetype": "text/x-python",
   "name": "python",
   "nbconvert_exporter": "python",
   "pygments_lexer": "ipython3",
   "version": "3.11.8"
  }
 },
 "nbformat": 4,
 "nbformat_minor": 2
}
