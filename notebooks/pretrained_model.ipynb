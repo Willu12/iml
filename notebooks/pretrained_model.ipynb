{
 "cells": [
  {
   "cell_type": "markdown",
   "metadata": {},
   "source": [
    "# Pretrained Model Training Pipeline\n",
    "\n",
    "This notebook implements the training pipeline for our audio classification model using pretrained CNN architectures. The pipeline consists of several key steps:\n",
    "\n",
    "## Overview of Steps\n",
    "1. **Setup and Imports**: Initialize necessary dependencies and paths\n",
    "2. **Device Selection**: Configure GPU/CPU device for training\n",
    "3. **Model Architecture**: Choose and configure a pretrained CNN model\n",
    "4. **Training Approach**: Select between transfer learning or fine-tuning\n",
    "5. **Classifier Configuration**: Add custom classifier layers\n",
    "6. **Training Execution**: Train the model with specified parameters\n"
   ]
  },
  {
   "cell_type": "markdown",
   "metadata": {},
   "source": [
    "## Set up paths and imports"
   ]
  },
  {
   "cell_type": "code",
   "execution_count": null,
   "metadata": {},
   "outputs": [],
   "source": [
    "import os\n",
    "\n",
    "import torch\n",
    "import torch.nn as nn\n",
    "\n",
    "if not os.path.exists(\"./notebooks\"):\n",
    "    %cd ..\n",
    "\n",
    "from src.training import do_train, do_test\n",
    "from src.dataset import prepare_dataset_loaders, RGBSpectrogramDataset\n",
    "\n",
    "wandb_enabled = False"
   ]
  },
  {
   "cell_type": "code",
   "execution_count": null,
   "metadata": {},
   "outputs": [],
   "source": [
    "class Config:\n",
    "    def __init__(self, lr=0.001, epochs=40, batch_size=32):\n",
    "        self.learning_rate = lr\n",
    "        self.epochs = epochs\n",
    "        self.batch_size = batch_size"
   ]
  },
  {
   "cell_type": "markdown",
   "metadata": {},
   "source": [
    "### Optionally initialize W&B project"
   ]
  },
  {
   "cell_type": "code",
   "execution_count": null,
   "metadata": {},
   "outputs": [],
   "source": [
    "wandb_enabled = True"
   ]
  },
  {
   "cell_type": "markdown",
   "metadata": {},
   "source": [
    "## 2. Choose device"
   ]
  },
  {
   "cell_type": "code",
   "execution_count": null,
   "metadata": {},
   "outputs": [],
   "source": [
    "device = torch.device(\"cuda\" if torch.cuda.is_available() else \"cpu\")"
   ]
  },
  {
   "cell_type": "markdown",
   "metadata": {},
   "source": [
    "## 3. Choose pretrained model architecture.\n",
    "We provide two pretrained model options:\n",
    "- **EfficientNetB0**: A lighter architecture with similar accuracy to VGG16\n",
    "- **VGG16**: A deeper architecture, more computationally intensive"
   ]
  },
  {
   "cell_type": "code",
   "execution_count": null,
   "metadata": {},
   "outputs": [],
   "source": [
    "# EfficientNetB0\n",
    "from torchvision.models import efficientnet_b0\n",
    "from torchvision.models import EfficientNet_B0_Weights\n",
    "\n",
    "weights = EfficientNet_B0_Weights.DEFAULT\n",
    "pretrained_model = efficientnet_b0(weights=weights)\n",
    "pre_trans = weights.transforms()\n",
    "name_base=\"EfficientNet_B0\"\n",
    "num_features = pretrained_model.classifier[1].in_features"
   ]
  },
  {
   "cell_type": "code",
   "execution_count": null,
   "metadata": {},
   "outputs": [],
   "source": [
    "# VGG16\n",
    "from torchvision.models import vgg16\n",
    "from torchvision.models import VGG16_Weights\n",
    "\n",
    "weights = VGG16_Weights.DEFAULT\n",
    "pretrained_model = vgg16(weights=weights)\n",
    "pre_trans = weights.transforms()\n",
    "name_base=\"VGG16\"\n",
    "num_features = pretrained_model.classifier[0].in_features"
   ]
  },
  {
   "cell_type": "markdown",
   "metadata": {},
   "source": [
    "## 4. Choose training approach\n",
    "Choose between two training strategies:\n",
    "1. **Transfer Learning**: Freezes the pretrained model's weights and only trains the custom classifier. This approach is:\n",
    "   - Faster to train\n",
    "   - Less prone to overfitting\n",
    "   - Useful when target task is similar to original task\n",
    "   \n",
    "2. **Fine-Tuning**: Updates both pretrained model and classifier weights. This approach:\n",
    "   - Can achieve better performance\n",
    "   - Requires more training data\n",
    "   - May need careful learning rate selection\n",
    "\"\"\""
   ]
  },
  {
   "cell_type": "code",
   "execution_count": null,
   "metadata": {},
   "outputs": [],
   "source": [
    "# Freeze base model (transfer learning)\n",
    "pretrained_model.requires_grad_(False)\n",
    "next(iter(pretrained_model.parameters())).requires_grad\n",
    "name = name_base + \"_transfer_learning\""
   ]
  },
  {
   "cell_type": "code",
   "execution_count": null,
   "metadata": {},
   "outputs": [],
   "source": [
    "# Do not freeze model\n",
    "name = name_base + \"_fine_tuning\""
   ]
  },
  {
   "cell_type": "markdown",
   "metadata": {},
   "source": [
    "##  5. Add our small classifier after pretrained model's feature extraction"
   ]
  },
  {
   "cell_type": "markdown",
   "metadata": {},
   "source": [
    "The added classifier consists of:\n",
    "- Linear layer reducing features to 256 dimensions\n",
    "- ReLU activation\n",
    "- 50% dropout for regularization\n",
    "- Final classification layer for binary output\n",
    "\"\"\""
   ]
  },
  {
   "cell_type": "code",
   "execution_count": null,
   "metadata": {},
   "outputs": [],
   "source": [
    "# Our own classifier\n",
    "N_CLASSES = 2\n",
    "\n",
    "pretrained_model.classifier = nn.Sequential(\n",
    "    nn.Linear(num_features, 256),\n",
    "    nn.ReLU(),\n",
    "    nn.Dropout(0.5),\n",
    "    nn.Linear(256, N_CLASSES)\n",
    ")\n",
    "my_model = pretrained_model"
   ]
  },
  {
   "cell_type": "code",
   "execution_count": null,
   "metadata": {},
   "outputs": [],
   "source": [
    "model = my_model\n",
    "config = Config(batch_size=32, epochs=40, lr=0.0001)\n",
    "train_loader, val_loader, test_loader = prepare_dataset_loaders(pre_trans, config.batch_size, RGBSpectrogramDataset)\n",
    "criterion = torch.nn.CrossEntropyLoss()\n",
    "optimizer = torch.optim.Adam(model.parameters(), lr=config.learning_rate)\n",
    "\n",
    "do_train(name, train_loader, val_loader, config, model, criterion, optimizer, device, wandb_enabled)"
   ]
  }
 ],
 "metadata": {
  "kernelspec": {
   "display_name": ".venv",
   "language": "python",
   "name": "python3"
  },
  "language_info": {
   "codemirror_mode": {
    "name": "ipython",
    "version": 3
   },
   "file_extension": ".py",
   "mimetype": "text/x-python",
   "name": "python",
   "nbconvert_exporter": "python",
   "pygments_lexer": "ipython3",
   "version": "3.11.8"
  }
 },
 "nbformat": 4,
 "nbformat_minor": 2
}
