{
 "cells": [
  {
   "cell_type": "markdown",
   "metadata": {},
   "source": [
    "## Set up paths and imports"
   ]
  },
  {
   "cell_type": "code",
   "execution_count": 1,
   "metadata": {},
   "outputs": [
    {
     "name": "stderr",
     "output_type": "stream",
     "text": [
      "/home/mytkom/Documents/iml/.venv/lib/python3.11/site-packages/IPython/core/magics/osm.py:417: UserWarning: This is now an optional IPython functionality, setting dhist requires you to install the `pickleshare` library.\n",
      "  self.shell.db['dhist'] = compress_dhist(dhist)[-100:]\n"
     ]
    },
    {
     "name": "stdout",
     "output_type": "stream",
     "text": [
      "/home/mytkom/Documents/iml\n"
     ]
    }
   ],
   "source": [
    "import os\n",
    "\n",
    "import torch\n",
    "import torch.nn as nn\n",
    "from torchvision import transforms\n",
    "\n",
    "if not os.path.exists(\"./notebooks\"):\n",
    "    %cd ..\n",
    "\n",
    "from src.training import train, validate\n",
    "from src.dataset import prepare_dataset_loaders\n",
    "from src.data_processing import load_mean_std\n",
    "from src.config import DATASET_DIR, PATIENCE_THRESHOLD, VALID_ACCESS_LABELS\n",
    "\n",
    "wandb_enabled = False"
   ]
  },
  {
   "cell_type": "markdown",
   "metadata": {},
   "source": [
    "## 1. Load standarization data and define Config"
   ]
  },
  {
   "cell_type": "code",
   "execution_count": 2,
   "metadata": {},
   "outputs": [],
   "source": [
    "class Config:\n",
    "    def __init__(self, lr=0.001, epochs=40, batch_size=32):\n",
    "        self.learning_rate = lr\n",
    "        self.epochs = epochs\n",
    "        self.batch_size = batch_size"
   ]
  },
  {
   "cell_type": "markdown",
   "metadata": {},
   "source": [
    "### Optionally initialize W&B project"
   ]
  },
  {
   "cell_type": "code",
   "execution_count": 3,
   "metadata": {},
   "outputs": [],
   "source": [
    "import wandb\n",
    "\n",
    "wandb_enabled = True"
   ]
  },
  {
   "cell_type": "markdown",
   "metadata": {},
   "source": [
    "## 2. Define training and validation loop"
   ]
  },
  {
   "cell_type": "code",
   "execution_count": 4,
   "metadata": {},
   "outputs": [],
   "source": [
    "device = torch.device(\"cuda:0\" if torch.cuda.is_available() else \"cpu\")\n",
    "\n",
    "def do_train(name, train_loader, val_loader, config, model, criterion, optimizer):\n",
    "    if wandb_enabled:\n",
    "            wandb.init(name=name, project=\"iml\", config=vars(config))\n",
    " \n",
    "    model.device = device\n",
    "    model.to(device)\n",
    "\n",
    "    saved = False\n",
    "    patience = 0\n",
    "    best_f1 = -1\n",
    "\n",
    "    for epoch in range(config.epochs):\n",
    "        print(f\"Epoch {epoch+1}/{config.epochs}\")\n",
    "\n",
    "        if wandb_enabled:\n",
    "            logger = wandb.log\n",
    "        else:\n",
    "            logger = lambda data,step: print(f\"  Step {step}: {data}\")\n",
    "\n",
    "        train(model, train_loader, criterion, optimizer, epoch, logger, len(train_loader) // 5 - 1)\n",
    "        metrics = validate(model, val_loader)\n",
    "        print(metrics)\n",
    "\n",
    "        if wandb_enabled:\n",
    "            wandb.log({\"validation/recall\": metrics.recall, \"validation/accuracy\": metrics.accuracy, \"validation/precision\": metrics.precision, \"validation/f1\": metrics.f1, \"epoch\": epoch+1})\n",
    "\n",
    "        if metrics.f1 < best_f1:\n",
    "            patience = patience + 1\n",
    "        else:\n",
    "            patience = 0\n",
    "            best_f1 = metrics.f1\n",
    "        if patience >= PATIENCE_THRESHOLD:\n",
    "            model_path = f\"./models/{name}.pth\"\n",
    "            os.makedirs(os.path.dirname(model_path), exist_ok=True)\n",
    "            torch.save(model.state_dict(), model_path)\n",
    "            saved = True\n",
    "\n",
    "    if(saved == False):\n",
    "            model_path = f\"./models/{name}.pth\"\n",
    "            os.makedirs(os.path.dirname(model_path), exist_ok=True)\n",
    "            torch.save(model.state_dict(), model_path)\n",
    "\n",
    "    if wandb_enabled:\n",
    "        wandb.save(model_path)\n",
    "        wandb.finish()\n",
    "    \n"
   ]
  },
  {
   "cell_type": "code",
   "execution_count": 5,
   "metadata": {},
   "outputs": [],
   "source": [
    "# EfficientNetB0\n",
    "from torchvision.models import efficientnet_b0\n",
    "from torchvision.models import EfficientNet_B0_Weights\n",
    "\n",
    "weights = EfficientNet_B0_Weights.DEFAULT\n",
    "pretrained_model = efficientnet_b0(weights=weights)\n",
    "pre_trans = weights.transforms()\n",
    "name_base=\"EfficientNet_B0\""
   ]
  },
  {
   "cell_type": "code",
   "execution_count": 5,
   "metadata": {},
   "outputs": [],
   "source": [
    "# VGG16\n",
    "from torchvision.models import vgg16\n",
    "from torchvision.models import VGG16_Weights\n",
    "\n",
    "weights = VGG16_Weights.DEFAULT\n",
    "pretrained_model = vgg16(weights=weights)\n",
    "pre_trans = weights.transforms()\n",
    "name_base=\"VGG16\""
   ]
  },
  {
   "cell_type": "code",
   "execution_count": 10,
   "metadata": {},
   "outputs": [],
   "source": [
    "\n",
    "from torchvggish import vggish, VGGISH_WEIGHTS\n",
    "\n",
    "pretrained_model = vggish(postprocess=False)\n",
    "name_base=\"VGGish\"\n",
    "\n",
    "# Our own classifier\n",
    "N_CLASSES = 2\n",
    "\n",
    "my_model = nn.Sequential(\n",
    "    pretrained_model,\n",
    "    nn.Linear(128, 64),\n",
    "    nn.ReLU(),\n",
    "    nn.Linear(64, N_CLASSES)\n",
    ")"
   ]
  },
  {
   "cell_type": "code",
   "execution_count": 26,
   "metadata": {},
   "outputs": [],
   "source": [
    "# Freeze base model (transfer learning)\n",
    "pretrained_model.requires_grad_(False)\n",
    "next(iter(pretrained_model.parameters())).requires_grad\n",
    "name = name_base + \"_transfer_learning\""
   ]
  },
  {
   "cell_type": "code",
   "execution_count": 6,
   "metadata": {},
   "outputs": [],
   "source": [
    "# Do not freeze model\n",
    "name = name_base + \"_fine_tuning\""
   ]
  },
  {
   "cell_type": "code",
   "execution_count": 7,
   "metadata": {},
   "outputs": [],
   "source": [
    "# Our own classifier\n",
    "N_CLASSES = 2\n",
    "\n",
    "num_features = pretrained_model.classifier[0].in_features\n",
    "pretrained_model.classifier = nn.Sequential(\n",
    "    nn.Linear(num_features, 256),\n",
    "    nn.ReLU(),\n",
    "    nn.Dropout(0.5),\n",
    "    nn.Linear(256, N_CLASSES)\n",
    ")\n",
    "my_model = pretrained_model"
   ]
  },
  {
   "cell_type": "code",
   "execution_count": 8,
   "metadata": {},
   "outputs": [],
   "source": [
    "from torch.utils.data import Dataset\n",
    "from PIL import Image\n",
    "\n",
    "class SpectrogramVGG16Dataset(Dataset):\n",
    "    def __init__(self, directory, transform=None):\n",
    "        self.files = [\n",
    "            os.path.join(directory, f)\n",
    "            for f in os.listdir(directory)\n",
    "            if f.endswith(\".png\")\n",
    "        ]\n",
    "        self.transform = transform\n",
    "\n",
    "    def __len__(self):\n",
    "        return len(self.files)\n",
    "\n",
    "    def __getitem__(self, idx):\n",
    "        \"\"\"\n",
    "        Retrieves an image and its label.\n",
    "\n",
    "        Parameters:\n",
    "            idx (int): Index of the image in the dataset.\n",
    "\n",
    "        Returns:\n",
    "            tuple: A tuple containing the transformed image and its label.\n",
    "        \"\"\"\n",
    "        img_path = self.files[idx]\n",
    "        speaker_id = img_path.split(\"/\")[-1].split(\"_\")[0]\n",
    "        label = int(speaker_id in VALID_ACCESS_LABELS)\n",
    "\n",
    "        image = Image.open(img_path).convert(\"RGB\")\n",
    "        image = pre_trans(image)\n",
    "\n",
    "        if self.transform:\n",
    "            image = self.transform(image)\n",
    "\n",
    "        return image, label\n",
    "    "
   ]
  },
  {
   "cell_type": "code",
   "execution_count": 9,
   "metadata": {},
   "outputs": [
    {
     "name": "stderr",
     "output_type": "stream",
     "text": [
      "\u001b[34m\u001b[1mwandb\u001b[0m: Using wandb-core as the SDK backend.  Please refer to https://wandb.me/wandb-core for more information.\n",
      "\u001b[34m\u001b[1mwandb\u001b[0m: Currently logged in as: \u001b[33mmytkom\u001b[0m (\u001b[33mmytkom-warsaw-university-of-technology\u001b[0m). Use \u001b[1m`wandb login --relogin`\u001b[0m to force relogin\n"
     ]
    },
    {
     "data": {
      "text/html": [
       "Tracking run with wandb version 0.18.7"
      ],
      "text/plain": [
       "<IPython.core.display.HTML object>"
      ]
     },
     "metadata": {},
     "output_type": "display_data"
    },
    {
     "data": {
      "text/html": [
       "Run data is saved locally in <code>/home/mytkom/Documents/iml/wandb/run-20241205_200848-cva6w5i2</code>"
      ],
      "text/plain": [
       "<IPython.core.display.HTML object>"
      ]
     },
     "metadata": {},
     "output_type": "display_data"
    },
    {
     "data": {
      "text/html": [
       "Syncing run <strong><a href='https://wandb.ai/mytkom-warsaw-university-of-technology/iml/runs/cva6w5i2' target=\"_blank\">VGG16_fine_tuning</a></strong> to <a href='https://wandb.ai/mytkom-warsaw-university-of-technology/iml' target=\"_blank\">Weights & Biases</a> (<a href='https://wandb.me/developer-guide' target=\"_blank\">docs</a>)<br/>"
      ],
      "text/plain": [
       "<IPython.core.display.HTML object>"
      ]
     },
     "metadata": {},
     "output_type": "display_data"
    },
    {
     "data": {
      "text/html": [
       " View project at <a href='https://wandb.ai/mytkom-warsaw-university-of-technology/iml' target=\"_blank\">https://wandb.ai/mytkom-warsaw-university-of-technology/iml</a>"
      ],
      "text/plain": [
       "<IPython.core.display.HTML object>"
      ]
     },
     "metadata": {},
     "output_type": "display_data"
    },
    {
     "data": {
      "text/html": [
       " View run at <a href='https://wandb.ai/mytkom-warsaw-university-of-technology/iml/runs/cva6w5i2' target=\"_blank\">https://wandb.ai/mytkom-warsaw-university-of-technology/iml/runs/cva6w5i2</a>"
      ],
      "text/plain": [
       "<IPython.core.display.HTML object>"
      ]
     },
     "metadata": {},
     "output_type": "display_data"
    },
    {
     "name": "stdout",
     "output_type": "stream",
     "text": [
      "Epoch 1/40\n",
      "Metrics:\n",
      "    F1: 0.87,\n",
      "    Accuracy: 0.84,\n",
      "    Recall: 0.79,\n",
      "    Precision: 0.98,\n",
      "    False acceptance: 0.04,\n",
      "    False rejection: 0.21\n",
      "Epoch 2/40\n",
      "Metrics:\n",
      "    F1: 0.87,\n",
      "    Accuracy: 0.84,\n",
      "    Recall: 0.78,\n",
      "    Precision: 0.99,\n",
      "    False acceptance: 0.02,\n",
      "    False rejection: 0.22\n",
      "Epoch 3/40\n",
      "Metrics:\n",
      "    F1: 0.95,\n",
      "    Accuracy: 0.93,\n",
      "    Recall: 0.96,\n",
      "    Precision: 0.94,\n",
      "    False acceptance: 0.13,\n",
      "    False rejection: 0.04\n",
      "Epoch 4/40\n",
      "Metrics:\n",
      "    F1: 0.94,\n",
      "    Accuracy: 0.92,\n",
      "    Recall: 0.93,\n",
      "    Precision: 0.96,\n",
      "    False acceptance: 0.09,\n",
      "    False rejection: 0.07\n",
      "Epoch 5/40\n",
      "Metrics:\n",
      "    F1: 0.94,\n",
      "    Accuracy: 0.91,\n",
      "    Recall: 0.90,\n",
      "    Precision: 0.97,\n",
      "    False acceptance: 0.06,\n",
      "    False rejection: 0.10\n",
      "Epoch 6/40\n",
      "Metrics:\n",
      "    F1: 0.91,\n",
      "    Accuracy: 0.87,\n",
      "    Recall: 0.96,\n",
      "    Precision: 0.87,\n",
      "    False acceptance: 0.32,\n",
      "    False rejection: 0.04\n",
      "Epoch 7/40\n",
      "Metrics:\n",
      "    F1: 0.95,\n",
      "    Accuracy: 0.93,\n",
      "    Recall: 0.93,\n",
      "    Precision: 0.97,\n",
      "    False acceptance: 0.07,\n",
      "    False rejection: 0.07\n",
      "Epoch 8/40\n",
      "Metrics:\n",
      "    F1: 0.95,\n",
      "    Accuracy: 0.93,\n",
      "    Recall: 0.96,\n",
      "    Precision: 0.94,\n",
      "    False acceptance: 0.14,\n",
      "    False rejection: 0.04\n",
      "Epoch 9/40\n"
     ]
    }
   ],
   "source": [
    "model = my_model\n",
    "config = Config(batch_size=32, epochs=40, lr=0.0001)\n",
    "transform = transforms.Compose([])\n",
    "train_loader, val_loader, test_loader = prepare_dataset_loaders(transform, config.batch_size, SpectrogramVGG16Dataset)\n",
    "criterion = torch.nn.CrossEntropyLoss()\n",
    "optimizer = torch.optim.Adam(model.parameters(), lr=config.learning_rate)\n",
    "\n",
    "do_train(name, train_loader, val_loader, config, model, criterion, optimizer)"
   ]
  }
 ],
 "metadata": {
  "kernelspec": {
   "display_name": ".venv",
   "language": "python",
   "name": "python3"
  },
  "language_info": {
   "codemirror_mode": {
    "name": "ipython",
    "version": 3
   },
   "file_extension": ".py",
   "mimetype": "text/x-python",
   "name": "python",
   "nbconvert_exporter": "python",
   "pygments_lexer": "ipython3",
   "version": "3.11.8"
  }
 },
 "nbformat": 4,
 "nbformat_minor": 2
}
