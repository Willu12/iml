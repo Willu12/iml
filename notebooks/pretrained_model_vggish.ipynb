{
 "cells": [
  {
   "cell_type": "markdown",
   "metadata": {},
   "source": [
    "## Set up paths and imports"
   ]
  },
  {
   "cell_type": "code",
   "execution_count": null,
   "metadata": {},
   "outputs": [],
   "source": [
    "import os\n",
    "\n",
    "import torch\n",
    "import torch.nn as nn\n",
    "from torchvision import transforms\n",
    "from torch.utils.data import DataLoader\n",
    "from torchvggish import vggish\n",
    "from torchvggish import vggish_input\n",
    "import librosa\n",
    "import numpy as np\n",
    "\n",
    "if not os.path.exists(\"./notebooks\"):\n",
    "    %cd ..\n",
    "\n",
    "from src.training import train, validate\n",
    "from src.audio_dataset_processor import AudioDatasetProcessor\n",
    "from src.config import PATIENCE_THRESHOLD, VALID_ACCESS_LABELS, DATA_DIR\n",
    "\n",
    "wandb_enabled = False"
   ]
  },
  {
   "cell_type": "markdown",
   "metadata": {},
   "source": [
    "## 1. Load standarization data and define Config"
   ]
  },
  {
   "cell_type": "code",
   "execution_count": null,
   "metadata": {},
   "outputs": [],
   "source": [
    "class Config:\n",
    "    def __init__(self, lr=0.001, epochs=40, batch_size=32):\n",
    "        self.learning_rate = lr\n",
    "        self.epochs = epochs\n",
    "        self.batch_size = batch_size"
   ]
  },
  {
   "cell_type": "markdown",
   "metadata": {},
   "source": [
    "### Optionally initialize W&B project"
   ]
  },
  {
   "cell_type": "code",
   "execution_count": null,
   "metadata": {},
   "outputs": [],
   "source": [
    "import wandb\n",
    "\n",
    "wandb_enabled = True"
   ]
  },
  {
   "cell_type": "code",
   "execution_count": null,
   "metadata": {},
   "outputs": [],
   "source": [
    "allowed_directories=['ipadflat_confroom1', 'ipadflat_office1', 'ipad_balcony1', 'ipad_bedroom1', 'ipad_confroom1', 'ipad_confroom2', 'ipad_livingroom1', 'ipad_office1', 'ipad_office2', 'iphone_balcony1', 'iphone_bedroom1', 'iphone_livingroom1']\n",
    "dataset_processor = AudioDatasetProcessor(DATA_DIR, VALID_ACCESS_LABELS, allowed_directories)\n",
    "dataset_processor.compute_statistics()\n",
    "train_set, validate_set, test_set = dataset_processor.get_datasets(balanced=True) # if you want unbalanced set parameter to False"
   ]
  },
  {
   "cell_type": "markdown",
   "metadata": {},
   "source": [
    "## 2. Define training and validation loop"
   ]
  },
  {
   "cell_type": "code",
   "execution_count": null,
   "metadata": {},
   "outputs": [],
   "source": [
    "device = torch.device(\"cuda:0\" if torch.cuda.is_available() else \"cpu\")\n",
    "\n",
    "def do_train(name, train_loader, val_loader, config, model, criterion, optimizer):\n",
    "    if wandb_enabled:\n",
    "            wandb.init(name=name, project=\"iml\", config=vars(config))\n",
    " \n",
    "    model.device = device\n",
    "    model.to(device)\n",
    "\n",
    "    saved = False\n",
    "    patience = 0\n",
    "    best_f1 = -1\n",
    "\n",
    "    for epoch in range(config.epochs):\n",
    "        print(f\"Epoch {epoch+1}/{config.epochs}\")\n",
    "\n",
    "        if wandb_enabled:\n",
    "            logger = wandb.log\n",
    "        else:\n",
    "            logger = lambda data,step: print(f\"  Step {step}: {data}\")\n",
    "\n",
    "        train(model, train_loader, criterion, optimizer, epoch, logger, len(train_loader) // 5 - 1)\n",
    "        metrics = validate(model, val_loader)\n",
    "        print(metrics)\n",
    "\n",
    "        if wandb_enabled:\n",
    "            wandb.log({\"validation/recall\": metrics.recall, \"validation/accuracy\": metrics.accuracy, \"validation/precision\": metrics.precision, \"validation/f1\": metrics.f1, \"epoch\": epoch+1})\n",
    "\n",
    "        if metrics.f1 < best_f1:\n",
    "            patience = patience + 1\n",
    "        else:\n",
    "            patience = 0\n",
    "            best_f1 = metrics.f1\n",
    "        if patience >= PATIENCE_THRESHOLD:\n",
    "            model_path = f\"./models/{name}.pth\"\n",
    "            os.makedirs(os.path.dirname(model_path), exist_ok=True)\n",
    "            torch.save(model.state_dict(), model_path)\n",
    "            saved = True\n",
    "\n",
    "    if(saved == False):\n",
    "            model_path = f\"./models/{name}.pth\"\n",
    "            os.makedirs(os.path.dirname(model_path), exist_ok=True)\n",
    "            torch.save(model.state_dict(), model_path)\n",
    "\n",
    "    if wandb_enabled:\n",
    "        wandb.save(model_path)\n",
    "        wandb.finish()\n",
    "    \n"
   ]
  },
  {
   "cell_type": "code",
   "execution_count": null,
   "metadata": {},
   "outputs": [],
   "source": [
    "model = vggish()\n",
    "model.eval()\n",
    "\n",
    "SPLIT_SECONDS = 3\n",
    "\n",
    "def preprocess_audio(file_path, target_sample_rate=16000):\n",
    "    \"\"\"\n",
    "    Load a .wav file, convert to mono, and preprocess into log-Mel spectrogram.\n",
    "    \"\"\"\n",
    "    audio, sr = librosa.load(file_path, sr=target_sample_rate, mono=True)\n",
    "    \n",
    "    if len(audio) < target_sample_rate:\n",
    "        padding = target_sample_rate - len(audio)\n",
    "        audio = np.pad(audio, (0, padding), mode='constant')\n",
    "\n",
    "    mel_spec = vggish_input.waveform_to_examples(audio, sr)\n",
    "    return torch.tensor(mel_spec)\n",
    "\n",
    "def extract_features(file_paths):\n",
    "    features = []\n",
    "    for file in file_paths:\n",
    "        mel_spec = preprocess_audio(file)\n",
    "        speaker_id = os.path.basename(file).split(\"_\")[0]\n",
    "        label = int(speaker_id in VALID_ACCESS_LABELS)\n",
    "\n",
    "        with torch.no_grad():\n",
    "            file_features = model(mel_spec)\n",
    "        \n",
    "        for idx, feature in enumerate(file_features):\n",
    "            if idx >= len(file_features) - (len(file_features) % SPLIT_SECONDS):\n",
    "                break\n",
    "            features.append((torch.tensor(feature), label))\n",
    "    return features"
   ]
  },
  {
   "cell_type": "code",
   "execution_count": null,
   "metadata": {},
   "outputs": [],
   "source": [
    "from torch.utils.data import Dataset\n",
    "\n",
    "class VGGishDataset(Dataset):\n",
    "    def __init__(self, files):\n",
    "        self.data = extract_features(files)\n",
    "\n",
    "    def __len__(self):\n",
    "        return int(len(self.data) / SPLIT_SECONDS)\n",
    "\n",
    "    def __getitem__(self, idx):\n",
    "        spectrogram, label = self.data[idx * SPLIT_SECONDS]\n",
    "        spectrogram2, label = self.data[idx * SPLIT_SECONDS + 1]\n",
    "        spectrogram3, label = self.data[idx * SPLIT_SECONDS + 2]\n",
    "        return torch.cat((spectrogram, spectrogram2, spectrogram3), dim=0), torch.tensor(label, dtype=torch.long)\n",
    "    \n",
    "train_dataset = VGGishDataset(train_set)\n",
    "val_dataset = VGGishDataset(validate_set)\n"
   ]
  },
  {
   "cell_type": "code",
   "execution_count": null,
   "metadata": {},
   "outputs": [],
   "source": [
    "N_CLASSES = 2\n",
    "\n",
    "class ClassifierForVGGish(nn.Module):\n",
    "    def __init__(self, input_dim, hidden_dim, num_classes):\n",
    "        super(ClassifierForVGGish, self).__init__()\n",
    "        self.fc1 = nn.Linear(input_dim, hidden_dim)\n",
    "        self.relu = nn.ReLU()\n",
    "        self.fc2 = nn.Linear(hidden_dim, num_classes)\n",
    "\n",
    "    def forward(self, x):\n",
    "        x = self.fc1(x)\n",
    "        x = self.relu(x)\n",
    "        x = self.fc2(x)\n",
    "        return x\n",
    "\n",
    "input_dim = 128 * SPLIT_SECONDS\n",
    "hidden_dim = 256\n",
    "num_classes = 2\n",
    "\n",
    "my_model = ClassifierForVGGish(input_dim, hidden_dim, num_classes)"
   ]
  },
  {
   "cell_type": "code",
   "execution_count": null,
   "metadata": {},
   "outputs": [],
   "source": [
    "model = my_model\n",
    "config = Config(batch_size=32, epochs=40, lr=0.0001)\n",
    "name = \"VGGish_transfer_learning\"\n",
    "transform = transforms.Compose([])\n",
    "criterion = torch.nn.CrossEntropyLoss()\n",
    "optimizer = torch.optim.Adam(model.parameters(), lr=config.learning_rate)\n",
    "train_loader = DataLoader(train_dataset, batch_size=config.batch_size, shuffle=True)\n",
    "val_loader = DataLoader(val_dataset, batch_size=config.batch_size, shuffle=False)\n",
    "\n",
    "do_train(name, train_loader, val_loader, config, model, criterion, optimizer)"
   ]
  }
 ],
 "metadata": {
  "kernelspec": {
   "display_name": ".venv",
   "language": "python",
   "name": "python3"
  },
  "language_info": {
   "codemirror_mode": {
    "name": "ipython",
    "version": 3
   },
   "file_extension": ".py",
   "mimetype": "text/x-python",
   "name": "python",
   "nbconvert_exporter": "python",
   "pygments_lexer": "ipython3",
   "version": "3.11.8"
  }
 },
 "nbformat": 4,
 "nbformat_minor": 2
}
