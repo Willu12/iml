{
 "cells": [
  {
   "cell_type": "markdown",
   "metadata": {},
   "source": [
    "## Set up paths and imports"
   ]
  },
  {
   "cell_type": "code",
   "execution_count": 1,
   "metadata": {},
   "outputs": [
    {
     "name": "stderr",
     "output_type": "stream",
     "text": [
      "/home/mytkom/Documents/iml/.venv/lib/python3.11/site-packages/IPython/core/magics/osm.py:417: UserWarning: This is now an optional IPython functionality, setting dhist requires you to install the `pickleshare` library.\n",
      "  self.shell.db['dhist'] = compress_dhist(dhist)[-100:]\n"
     ]
    },
    {
     "name": "stdout",
     "output_type": "stream",
     "text": [
      "/home/mytkom/Documents/iml\n"
     ]
    }
   ],
   "source": [
    "import os\n",
    "\n",
    "import torch\n",
    "import torch.nn as nn\n",
    "from torchvision import transforms\n",
    "\n",
    "if not os.path.exists(\"./notebooks\"):\n",
    "    %cd ..\n",
    "\n",
    "from src.training import train, validate\n",
    "from src.dataset import prepare_dataset_loaders\n",
    "from src.data_processing import load_mean_std\n",
    "from src.config import DATASET_DIR, PATIENCE_THRESHOLD, VALID_ACCESS_LABELS\n",
    "from collections import defaultdict\n",
    "import re\n",
    "import random\n",
    "\n",
    "wandb_enabled = False\n",
    "\n",
    "from src.data_processing import split_into_clips, create_spectrogram, SOAAudioClips, save_mean_std, compute_mean_std_from_images, list_audio_files_recursively, save_spectrogram\n",
    "from src.dataset_analysis import duration_statistics\n",
    "from src.config import VALID_ACCESS_LABELS, DATASET_DIR, DATA_DIR\n",
    "\n",
    "random.seed(42)  # For reproducibility"
   ]
  },
  {
   "cell_type": "code",
   "execution_count": 3,
   "metadata": {},
   "outputs": [
    {
     "name": "stdout",
     "output_type": "stream",
     "text": [
      "12\n",
      "Found 1200 .wav files in directory './data' in the following allowed directories: ['ipadflat_confroom1', 'ipadflat_office1', 'ipad_balcony1', 'ipad_bedroom1', 'ipad_confroom1', 'ipad_confroom2', 'ipad_livingroom1', 'ipad_office1', 'ipad_office2', 'iphone_balcony1', 'iphone_bedroom1', 'iphone_livingroom1']\n"
     ]
    }
   ],
   "source": [
    "# Prepare file sets\n",
    "allowed_dictionaries=['ipadflat_confroom1', 'ipadflat_office1', 'ipad_balcony1', 'ipad_bedroom1', 'ipad_confroom1', 'ipad_confroom2', 'ipad_livingroom1', 'ipad_office1', 'ipad_office2', 'iphone_balcony1', 'iphone_bedroom1', 'iphone_livingroom1']\n",
    "print(len(allowed_dictionaries))\n",
    "wav_files_all = list_audio_files_recursively(DATA_DIR,allowed_dictionaries)\n",
    "print(f\"Found {len(wav_files_all)} .wav files in directory '{DATA_DIR}' in the following allowed directories: {allowed_dictionaries}\")\n",
    "\n",
    "# Data structures to hold the parsed information\n",
    "speaker_script_to_files = defaultdict(list)\n",
    "\n",
    "# Regular expression to extract speaker tag and script number\n",
    "pattern = re.compile(r'([fm]\\d+)_script(\\d+)_')\n",
    "\n",
    "for filepath in wav_files_all:\n",
    "    filename = os.path.basename(filepath)  # Extract the file name cross-platform\n",
    "    match = pattern.match(filename)\n",
    "    if match:\n",
    "        speaker_tag = match.group(1)\n",
    "        script_number = int(match.group(2))\n",
    "        speaker_script_to_files[(speaker_tag, script_number)].append(filepath)\n",
    "    else:\n",
    "        print(f\"Filename {filename} does not match the expected pattern.\")\n",
    "\n",
    "# Initialize sets\n",
    "train_set = []\n",
    "validate_set = []\n",
    "test_set = []\n",
    "\n",
    "# Lists to keep track of counts\n",
    "authorized_train_samples = []\n",
    "unauthorized_train_samples = []\n",
    "\n",
    "# Collect all speakers\n",
    "all_speakers = set(speaker for speaker, script in speaker_script_to_files.keys())\n",
    "authorized_speakers = all_speakers.intersection(VALID_ACCESS_LABELS)\n",
    "unauthorized_speakers = all_speakers - authorized_speakers\n",
    "\n",
    "# Shuffle scripts for randomness\n",
    "random.seed(42)  # For reproducibility\n",
    "\n",
    "for speaker in all_speakers:\n",
    "    speaker_scripts = [script for (spk, script) in speaker_script_to_files.keys() if spk == speaker]\n",
    "    random.shuffle(speaker_scripts)\n",
    "    \n",
    "    num_scripts = len(speaker_scripts)\n",
    "    num_train_scripts = int(0.7 * num_scripts)\n",
    "    num_validate_scripts = int(0.15 * num_scripts)\n",
    "    \n",
    "    # Ensure at least one script in each set if possible\n",
    "    num_train_scripts = max(1, num_train_scripts)\n",
    "    num_validate_scripts = max(1, num_validate_scripts)\n",
    "    num_test_scripts = num_scripts - num_train_scripts - num_validate_scripts\n",
    "    \n",
    "    if num_test_scripts == 0:\n",
    "        num_test_scripts = 1\n",
    "        num_train_scripts -= 1\n",
    "    \n",
    "    # Assign scripts to sets\n",
    "    train_scripts = speaker_scripts[:num_train_scripts]\n",
    "    validate_scripts = speaker_scripts[num_train_scripts:num_train_scripts + num_validate_scripts]\n",
    "    test_scripts = speaker_scripts[num_train_scripts + num_validate_scripts:]\n",
    "    \n",
    "    for script in train_scripts:\n",
    "        files = speaker_script_to_files[(speaker, script)]\n",
    "        train_set.extend(files)\n",
    "        if speaker in VALID_ACCESS_LABELS:\n",
    "            authorized_train_samples.extend(files)\n",
    "        else:\n",
    "            unauthorized_train_samples.extend(files)\n",
    "    \n",
    "    for script in validate_scripts:\n",
    "        files = speaker_script_to_files[(speaker, script)]\n",
    "        validate_set.extend(files)\n",
    "    \n",
    "    for script in test_scripts:\n",
    "        files = speaker_script_to_files[(speaker, script)]\n",
    "        test_set.extend(files)\n",
    "\n",
    "# Calculate the number of samples from authorized and unauthorized speakers\n",
    "num_authorized_samples = len(authorized_train_samples)\n",
    "num_unauthorized_samples = len(unauthorized_train_samples)\n",
    "\n",
    "# Adjust the unauthorized samples to match the authorized samples\n",
    "if num_authorized_samples < num_unauthorized_samples:\n",
    "    # Reduce unauthorized samples\n",
    "    difference = num_unauthorized_samples - num_authorized_samples\n",
    "    random.shuffle(unauthorized_train_samples)\n",
    "    unauthorized_train_samples = unauthorized_train_samples[:num_authorized_samples]\n",
    "    # Update the train set\n",
    "    train_set = authorized_train_samples + unauthorized_train_samples\n",
    "else:\n",
    "    # Reduce authorized samples (unlikely given the dataset)\n",
    "    difference = num_authorized_samples - num_unauthorized_samples\n",
    "    random.shuffle(authorized_train_samples)\n",
    "    authorized_train_samples = authorized_train_samples[:num_unauthorized_samples]\n",
    "    # Update the train set\n",
    "    train_set = authorized_train_samples + unauthorized_train_samples\n",
    "\n",
    "def compute_statistics(dataset, name):\n",
    "    total_samples = len(dataset)\n",
    "    speakers = set()\n",
    "    authorized_count = 0\n",
    "    unauthorized_count = 0\n",
    "    speaker_sample_counts = defaultdict(int)\n",
    "    \n",
    "    for filepath in dataset:\n",
    "        filename = os.path.basename(filepath)  # Extract the file name cross-platform\n",
    "        match = pattern.match(filename)\n",
    "        if match:\n",
    "            speaker_tag = match.group(1)\n",
    "            speakers.add(speaker_tag)\n",
    "            speaker_sample_counts[speaker_tag] += 1  # Increment the count for this speaker\n",
    "            if speaker_tag in VALID_ACCESS_LABELS:\n",
    "                authorized_count += 1\n",
    "            else:\n",
    "                unauthorized_count += 1\n",
    "                    \n",
    "    print(f\"--- {name} Set Statistics ---\")\n",
    "    print(f\"Total Samples: {total_samples}\")\n",
    "    print(f\"Total Speakers: {len(speakers)}\")\n",
    "    print(f\"Authorized Samples: {authorized_count}\")\n",
    "    print(f\"Unauthorized Samples: {unauthorized_count}\")\n",
    "    print(f\"Authorized to Unauthorized Ratio: {authorized_count}:{unauthorized_count}\")\n",
    "    print(\"\\nSamples per Speaker:\")\n",
    "    for speaker in sorted(speaker_sample_counts.keys()):\n",
    "        print(f\"  {speaker}: {speaker_sample_counts[speaker]}\")\n",
    "    print()\n",
    "\n"
   ]
  },
  {
   "cell_type": "code",
   "execution_count": 4,
   "metadata": {},
   "outputs": [
    {
     "name": "stdout",
     "output_type": "stream",
     "text": [
      "--- Training Set Statistics ---\n",
      "Total Samples: 432\n",
      "Total Speakers: 20\n",
      "Authorized Samples: 216\n",
      "Unauthorized Samples: 216\n",
      "Authorized to Unauthorized Ratio: 216:216\n",
      "\n",
      "Samples per Speaker:\n",
      "  f1: 36\n",
      "  f10: 14\n",
      "  f2: 17\n",
      "  f3: 21\n",
      "  f4: 11\n",
      "  f5: 17\n",
      "  f6: 15\n",
      "  f7: 36\n",
      "  f8: 36\n",
      "  f9: 11\n",
      "  m1: 13\n",
      "  m10: 17\n",
      "  m2: 15\n",
      "  m3: 36\n",
      "  m4: 18\n",
      "  m5: 17\n",
      "  m6: 36\n",
      "  m7: 15\n",
      "  m8: 36\n",
      "  m9: 15\n",
      "\n",
      "--- Validation Set Statistics ---\n",
      "Total Samples: 240\n",
      "Total Speakers: 20\n",
      "Authorized Samples: 72\n",
      "Unauthorized Samples: 168\n",
      "Authorized to Unauthorized Ratio: 72:168\n",
      "\n",
      "Samples per Speaker:\n",
      "  f1: 12\n",
      "  f10: 12\n",
      "  f2: 12\n",
      "  f3: 12\n",
      "  f4: 12\n",
      "  f5: 12\n",
      "  f6: 12\n",
      "  f7: 12\n",
      "  f8: 12\n",
      "  f9: 12\n",
      "  m1: 12\n",
      "  m10: 12\n",
      "  m2: 12\n",
      "  m3: 12\n",
      "  m4: 12\n",
      "  m5: 12\n",
      "  m6: 12\n",
      "  m7: 12\n",
      "  m8: 12\n",
      "  m9: 12\n",
      "\n",
      "--- Test Set Statistics ---\n",
      "Total Samples: 240\n",
      "Total Speakers: 20\n",
      "Authorized Samples: 72\n",
      "Unauthorized Samples: 168\n",
      "Authorized to Unauthorized Ratio: 72:168\n",
      "\n",
      "Samples per Speaker:\n",
      "  f1: 12\n",
      "  f10: 12\n",
      "  f2: 12\n",
      "  f3: 12\n",
      "  f4: 12\n",
      "  f5: 12\n",
      "  f6: 12\n",
      "  f7: 12\n",
      "  f8: 12\n",
      "  f9: 12\n",
      "  m1: 12\n",
      "  m10: 12\n",
      "  m2: 12\n",
      "  m3: 12\n",
      "  m4: 12\n",
      "  m5: 12\n",
      "  m6: 12\n",
      "  m7: 12\n",
      "  m8: 12\n",
      "  m9: 12\n",
      "\n"
     ]
    }
   ],
   "source": [
    "compute_statistics(train_set, \"Training\")\n",
    "compute_statistics(validate_set, \"Validation\")\n",
    "compute_statistics(test_set, \"Test\")"
   ]
  },
  {
   "cell_type": "markdown",
   "metadata": {},
   "source": [
    "## 1. Load standarization data and define Config"
   ]
  },
  {
   "cell_type": "code",
   "execution_count": 5,
   "metadata": {},
   "outputs": [],
   "source": [
    "class Config:\n",
    "    def __init__(self, lr=0.001, epochs=40, batch_size=32):\n",
    "        self.learning_rate = lr\n",
    "        self.epochs = epochs\n",
    "        self.batch_size = batch_size"
   ]
  },
  {
   "cell_type": "markdown",
   "metadata": {},
   "source": [
    "### Optionally initialize W&B project"
   ]
  },
  {
   "cell_type": "code",
   "execution_count": 6,
   "metadata": {},
   "outputs": [],
   "source": [
    "import wandb\n",
    "\n",
    "wandb_enabled = True"
   ]
  },
  {
   "cell_type": "markdown",
   "metadata": {},
   "source": [
    "## 2. Define training and validation loop"
   ]
  },
  {
   "cell_type": "code",
   "execution_count": 7,
   "metadata": {},
   "outputs": [],
   "source": [
    "device = torch.device(\"cuda:0\" if torch.cuda.is_available() else \"cpu\")\n",
    "\n",
    "def do_train(name, train_loader, val_loader, config, model, criterion, optimizer):\n",
    "    if wandb_enabled:\n",
    "            wandb.init(name=name, project=\"iml\", config=vars(config))\n",
    " \n",
    "    model.device = device\n",
    "    model.to(device)\n",
    "\n",
    "    saved = False\n",
    "    patience = 0\n",
    "    best_f1 = -1\n",
    "\n",
    "    for epoch in range(config.epochs):\n",
    "        print(f\"Epoch {epoch+1}/{config.epochs}\")\n",
    "\n",
    "        if wandb_enabled:\n",
    "            logger = wandb.log\n",
    "        else:\n",
    "            logger = lambda data,step: print(f\"  Step {step}: {data}\")\n",
    "\n",
    "        train(model, train_loader, criterion, optimizer, epoch, logger, len(train_loader) // 5 - 1)\n",
    "        metrics = validate(model, val_loader)\n",
    "        print(metrics)\n",
    "\n",
    "        if wandb_enabled:\n",
    "            wandb.log({\"validation/recall\": metrics.recall, \"validation/accuracy\": metrics.accuracy, \"validation/precision\": metrics.precision, \"validation/f1\": metrics.f1, \"epoch\": epoch+1})\n",
    "\n",
    "        if metrics.f1 < best_f1:\n",
    "            patience = patience + 1\n",
    "        else:\n",
    "            patience = 0\n",
    "            best_f1 = metrics.f1\n",
    "        if patience >= PATIENCE_THRESHOLD:\n",
    "            model_path = f\"./models/{name}.pth\"\n",
    "            os.makedirs(os.path.dirname(model_path), exist_ok=True)\n",
    "            torch.save(model.state_dict(), model_path)\n",
    "            saved = True;\n",
    "\n",
    "    if(saved == False):\n",
    "            model_path = f\"./models/{name}.pth\"\n",
    "            os.makedirs(os.path.dirname(model_path), exist_ok=True)\n",
    "            torch.save(model.state_dict(), model_path)\n",
    "\n",
    "    if wandb_enabled:\n",
    "        wandb.save(model_path)\n",
    "        wandb.finish()\n",
    "    \n"
   ]
  },
  {
   "cell_type": "code",
   "execution_count": 11,
   "metadata": {},
   "outputs": [],
   "source": [
    "from torchvggish import vggish\n",
    "from torchvggish import vggish_input\n",
    "import librosa\n",
    "import numpy as np\n",
    "\n",
    "model = vggish()\n",
    "model.eval()\n",
    "\n",
    "# VGGish specific\n",
    "def preprocess_audio(file_path, target_sample_rate=16000):\n",
    "    \"\"\"\n",
    "    Load a .wav file, convert to mono, and preprocess into log-Mel spectrogram.\n",
    "    \"\"\"\n",
    "    audio, sr = librosa.load(file_path, sr=target_sample_rate, mono=True)\n",
    "    \n",
    "    # Ensure audio is not too short for VGGish\n",
    "    if len(audio) < target_sample_rate:\n",
    "        # Pad with zeros if shorter than 1 second\n",
    "        padding = target_sample_rate - len(audio)\n",
    "        audio = np.pad(audio, (0, padding), mode='constant')\n",
    "\n",
    "    # Convert audio to log-Mel spectrogram\n",
    "    mel_spec = vggish_input.waveform_to_examples(audio, sr)\n",
    "    return torch.tensor(mel_spec)\n",
    "\n",
    "def extract_features(file_paths):\n",
    "    features = []\n",
    "    for file in file_paths:\n",
    "        mel_spec = preprocess_audio(file)\n",
    "        speaker_id = os.path.basename(file).split(\"_\")[0]\n",
    "        label = int(speaker_id in VALID_ACCESS_LABELS)\n",
    "\n",
    "        # Extract features using VGGish\n",
    "        with torch.no_grad():\n",
    "            file_features = model(mel_spec)\n",
    "        features.append((file_features.numpy(), label))\n",
    "    return features"
   ]
  },
  {
   "cell_type": "code",
   "execution_count": 15,
   "metadata": {},
   "outputs": [
    {
     "name": "stderr",
     "output_type": "stream",
     "text": [
      "/run/user/1000/ipykernel_19280/1393043375.py:24: UserWarning: To copy construct from a tensor, it is recommended to use sourceTensor.clone().detach() or sourceTensor.clone().detach().requires_grad_(True), rather than torch.tensor(sourceTensor).\n",
      "  return torch.tensor(mel_spec)\n"
     ]
    }
   ],
   "source": [
    "from torch.utils.data import Dataset\n",
    "\n",
    "class VGGishDataset(Dataset):\n",
    "    def __init__(self, files):\n",
    "        self.data = extract_features(files)\n",
    "\n",
    "    def __len__(self):\n",
    "        return len(self.data)\n",
    "\n",
    "    def __getitem__(self, idx):\n",
    "        spectrogram, label = self.data[idx]\n",
    "        return spectrogram, torch.tensor(label, dtype=torch.long)\n",
    "    \n",
    "train_loader = VGGishDataset(train_set)\n",
    "val_loader = VGGishDataset(validate_set)\n"
   ]
  },
  {
   "cell_type": "code",
   "execution_count": 16,
   "metadata": {},
   "outputs": [],
   "source": [
    "N_CLASSES = 2\n",
    "\n",
    "class ClassifierForVGGish(nn.Module):\n",
    "    def __init__(self, input_dim, hidden_dim, num_classes):\n",
    "        super(ClassifierForVGGish, self).__init__()\n",
    "        self.fc1 = nn.Linear(input_dim, hidden_dim)\n",
    "        self.relu = nn.ReLU()\n",
    "        self.fc2 = nn.Linear(hidden_dim, num_classes)\n",
    "\n",
    "    def forward(self, x):\n",
    "        x = self.fc1(x)\n",
    "        x = self.relu(x)\n",
    "        x = self.fc2(x)\n",
    "        return x\n",
    "\n",
    "input_dim = 128\n",
    "hidden_dim = 128\n",
    "num_classes = 2\n",
    "\n",
    "my_model = ClassifierForVGGish(input_dim, hidden_dim, num_classes)"
   ]
  },
  {
   "cell_type": "code",
   "execution_count": 18,
   "metadata": {},
   "outputs": [],
   "source": [
    "train_dataset = train_loader\n",
    "val_dataset = val_loader"
   ]
  },
  {
   "cell_type": "code",
   "execution_count": 17,
   "metadata": {},
   "outputs": [
    {
     "name": "stderr",
     "output_type": "stream",
     "text": [
      "\u001b[34m\u001b[1mwandb\u001b[0m: Using wandb-core as the SDK backend.  Please refer to https://wandb.me/wandb-core for more information.\n",
      "\u001b[34m\u001b[1mwandb\u001b[0m: Currently logged in as: \u001b[33mmytkom\u001b[0m (\u001b[33mmytkom-warsaw-university-of-technology\u001b[0m). Use \u001b[1m`wandb login --relogin`\u001b[0m to force relogin\n"
     ]
    },
    {
     "data": {
      "text/html": [
       "Tracking run with wandb version 0.18.7"
      ],
      "text/plain": [
       "<IPython.core.display.HTML object>"
      ]
     },
     "metadata": {},
     "output_type": "display_data"
    },
    {
     "data": {
      "text/html": [
       "Run data is saved locally in <code>/home/mytkom/Documents/iml/wandb/run-20241202_172858-mcr1da7x</code>"
      ],
      "text/plain": [
       "<IPython.core.display.HTML object>"
      ]
     },
     "metadata": {},
     "output_type": "display_data"
    },
    {
     "data": {
      "text/html": [
       "Syncing run <strong><a href='https://wandb.ai/mytkom-warsaw-university-of-technology/iml/runs/mcr1da7x' target=\"_blank\">VGGish_transfer_learning</a></strong> to <a href='https://wandb.ai/mytkom-warsaw-university-of-technology/iml' target=\"_blank\">Weights & Biases</a> (<a href='https://wandb.me/developer-guide' target=\"_blank\">docs</a>)<br/>"
      ],
      "text/plain": [
       "<IPython.core.display.HTML object>"
      ]
     },
     "metadata": {},
     "output_type": "display_data"
    },
    {
     "data": {
      "text/html": [
       " View project at <a href='https://wandb.ai/mytkom-warsaw-university-of-technology/iml' target=\"_blank\">https://wandb.ai/mytkom-warsaw-university-of-technology/iml</a>"
      ],
      "text/plain": [
       "<IPython.core.display.HTML object>"
      ]
     },
     "metadata": {},
     "output_type": "display_data"
    },
    {
     "data": {
      "text/html": [
       " View run at <a href='https://wandb.ai/mytkom-warsaw-university-of-technology/iml/runs/mcr1da7x' target=\"_blank\">https://wandb.ai/mytkom-warsaw-university-of-technology/iml/runs/mcr1da7x</a>"
      ],
      "text/plain": [
       "<IPython.core.display.HTML object>"
      ]
     },
     "metadata": {},
     "output_type": "display_data"
    },
    {
     "name": "stdout",
     "output_type": "stream",
     "text": [
      "Epoch 1/40\n"
     ]
    },
    {
     "ename": "AttributeError",
     "evalue": "'numpy.ndarray' object has no attribute 'to'",
     "output_type": "error",
     "traceback": [
      "\u001b[0;31m---------------------------------------------------------------------------\u001b[0m",
      "\u001b[0;31mAttributeError\u001b[0m                            Traceback (most recent call last)",
      "Cell \u001b[0;32mIn[17], line 8\u001b[0m\n\u001b[1;32m      5\u001b[0m criterion \u001b[38;5;241m=\u001b[39m torch\u001b[38;5;241m.\u001b[39mnn\u001b[38;5;241m.\u001b[39mCrossEntropyLoss()\n\u001b[1;32m      6\u001b[0m optimizer \u001b[38;5;241m=\u001b[39m torch\u001b[38;5;241m.\u001b[39moptim\u001b[38;5;241m.\u001b[39mAdam(model\u001b[38;5;241m.\u001b[39mparameters(), lr\u001b[38;5;241m=\u001b[39mconfig\u001b[38;5;241m.\u001b[39mlearning_rate)\n\u001b[0;32m----> 8\u001b[0m \u001b[43mdo_train\u001b[49m\u001b[43m(\u001b[49m\u001b[43mname\u001b[49m\u001b[43m,\u001b[49m\u001b[43m \u001b[49m\u001b[43mtrain_loader\u001b[49m\u001b[43m,\u001b[49m\u001b[43m \u001b[49m\u001b[43mval_loader\u001b[49m\u001b[43m,\u001b[49m\u001b[43m \u001b[49m\u001b[43mconfig\u001b[49m\u001b[43m,\u001b[49m\u001b[43m \u001b[49m\u001b[43mmodel\u001b[49m\u001b[43m,\u001b[49m\u001b[43m \u001b[49m\u001b[43mcriterion\u001b[49m\u001b[43m,\u001b[49m\u001b[43m \u001b[49m\u001b[43moptimizer\u001b[49m\u001b[43m)\u001b[49m\n",
      "Cell \u001b[0;32mIn[7], line 22\u001b[0m, in \u001b[0;36mdo_train\u001b[0;34m(name, train_loader, val_loader, config, model, criterion, optimizer)\u001b[0m\n\u001b[1;32m     19\u001b[0m \u001b[38;5;28;01melse\u001b[39;00m:\n\u001b[1;32m     20\u001b[0m     logger \u001b[38;5;241m=\u001b[39m \u001b[38;5;28;01mlambda\u001b[39;00m data,step: \u001b[38;5;28mprint\u001b[39m(\u001b[38;5;124mf\u001b[39m\u001b[38;5;124m\"\u001b[39m\u001b[38;5;124m  Step \u001b[39m\u001b[38;5;132;01m{\u001b[39;00mstep\u001b[38;5;132;01m}\u001b[39;00m\u001b[38;5;124m: \u001b[39m\u001b[38;5;132;01m{\u001b[39;00mdata\u001b[38;5;132;01m}\u001b[39;00m\u001b[38;5;124m\"\u001b[39m)\n\u001b[0;32m---> 22\u001b[0m \u001b[43mtrain\u001b[49m\u001b[43m(\u001b[49m\u001b[43mmodel\u001b[49m\u001b[43m,\u001b[49m\u001b[43m \u001b[49m\u001b[43mtrain_loader\u001b[49m\u001b[43m,\u001b[49m\u001b[43m \u001b[49m\u001b[43mcriterion\u001b[49m\u001b[43m,\u001b[49m\u001b[43m \u001b[49m\u001b[43moptimizer\u001b[49m\u001b[43m,\u001b[49m\u001b[43m \u001b[49m\u001b[43mepoch\u001b[49m\u001b[43m,\u001b[49m\u001b[43m \u001b[49m\u001b[43mlogger\u001b[49m\u001b[43m,\u001b[49m\u001b[43m \u001b[49m\u001b[38;5;28;43mlen\u001b[39;49m\u001b[43m(\u001b[49m\u001b[43mtrain_loader\u001b[49m\u001b[43m)\u001b[49m\u001b[43m \u001b[49m\u001b[38;5;241;43m/\u001b[39;49m\u001b[38;5;241;43m/\u001b[39;49m\u001b[43m \u001b[49m\u001b[38;5;241;43m5\u001b[39;49m\u001b[43m \u001b[49m\u001b[38;5;241;43m-\u001b[39;49m\u001b[43m \u001b[49m\u001b[38;5;241;43m1\u001b[39;49m\u001b[43m)\u001b[49m\n\u001b[1;32m     23\u001b[0m metrics \u001b[38;5;241m=\u001b[39m validate(model, val_loader)\n\u001b[1;32m     24\u001b[0m \u001b[38;5;28mprint\u001b[39m(metrics)\n",
      "File \u001b[0;32m~/Documents/iml/src/training.py:31\u001b[0m, in \u001b[0;36mtrain\u001b[0;34m(model, train_loader, criterion, optimizer, epoch, logger, step)\u001b[0m\n\u001b[1;32m     29\u001b[0m correct \u001b[38;5;241m=\u001b[39m \u001b[38;5;241m0\u001b[39m\n\u001b[1;32m     30\u001b[0m \u001b[38;5;28;01mfor\u001b[39;00m i, (data, target) \u001b[38;5;129;01min\u001b[39;00m \u001b[38;5;28menumerate\u001b[39m(train_loader):\n\u001b[0;32m---> 31\u001b[0m     data, target \u001b[38;5;241m=\u001b[39m \u001b[43mdata\u001b[49m\u001b[38;5;241;43m.\u001b[39;49m\u001b[43mto\u001b[49m(model\u001b[38;5;241m.\u001b[39mdevice), target\u001b[38;5;241m.\u001b[39mto(model\u001b[38;5;241m.\u001b[39mdevice)\n\u001b[1;32m     32\u001b[0m     optimizer\u001b[38;5;241m.\u001b[39mzero_grad()\n\u001b[1;32m     33\u001b[0m     output \u001b[38;5;241m=\u001b[39m model(data)\n",
      "\u001b[0;31mAttributeError\u001b[0m: 'numpy.ndarray' object has no attribute 'to'"
     ]
    }
   ],
   "source": [
    "from torch.utils.data import DataLoader\n",
    "\n",
    "model = my_model\n",
    "config = Config(batch_size=32, epochs=40, lr=0.001)\n",
    "name = \"VGGish_transfer_learning\"\n",
    "transform = transforms.Compose([])\n",
    "criterion = torch.nn.CrossEntropyLoss()\n",
    "optimizer = torch.optim.Adam(model.parameters(), lr=config.learning_rate)\n",
    "train_loader = DataLoader(train_dataset, batch_size=config.batch_size, shuffle=True)\n",
    "val_loader = DataLoader(val_dataset, batch_size=config.batch_size, shuffle=False)\n",
    "\n",
    "\n",
    "do_train(name, train_loader, val_loader, config, model, criterion, optimizer)"
   ]
  }
 ],
 "metadata": {
  "kernelspec": {
   "display_name": ".venv",
   "language": "python",
   "name": "python3"
  },
  "language_info": {
   "codemirror_mode": {
    "name": "ipython",
    "version": 3
   },
   "file_extension": ".py",
   "mimetype": "text/x-python",
   "name": "python",
   "nbconvert_exporter": "python",
   "pygments_lexer": "ipython3",
   "version": "3.11.8"
  }
 },
 "nbformat": 4,
 "nbformat_minor": 2
}
