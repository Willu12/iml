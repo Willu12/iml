{
 "cells": [
  {
   "metadata": {},
   "cell_type": "markdown",
   "source": "## Set up paths and imports",
   "id": "5beb56e8594def0c"
  },
  {
   "cell_type": "code",
   "id": "initial_id",
   "metadata": {
    "collapsed": true,
    "ExecuteTime": {
     "end_time": "2024-11-28T02:41:39.984400Z",
     "start_time": "2024-11-28T02:41:39.975852Z"
    }
   },
   "source": [
    "import os\n",
    "\n",
    "import torch\n",
    "from torchvision import transforms\n",
    "import matplotlib.pyplot as plt\n",
    "\n",
    "if not os.path.exists(\"./notebooks\"):\n",
    "    %cd ..\n",
    "\n",
    "import src.model\n",
    "from src.training import predict\n",
    "from src.data_processing import load_mean_std\n",
    "from src.config import DATASET_DIR"
   ],
   "outputs": [],
   "execution_count": 9
  },
  {
   "metadata": {},
   "cell_type": "markdown",
   "source": "## Load Model and Dataset",
   "id": "9acf38b730cb26f9"
  },
  {
   "metadata": {
    "ExecuteTime": {
     "end_time": "2024-11-28T02:41:43.983034Z",
     "start_time": "2024-11-28T02:41:43.921416Z"
    }
   },
   "cell_type": "code",
   "source": [
    "from src.dataset import prepare_dataset_loaders\n",
    "\n",
    "name = \"DropoutCNN\"\n",
    "model = src.model.OriginalSizeCNN()\n",
    "model_path = f\"./models/{name}.pth\"\n",
    "model.load_state_dict(torch.load(model_path, weights_only=True))\n",
    "\n",
    "c1_layer = src.model.SingleLayerModel(model.conv1)\n",
    "batch_size = 32\n",
    "\n",
    "mean, std = load_mean_std(f\"{DATASET_DIR}/scaling_params.json\")\n",
    "transform = transforms.Compose([\n",
    "    transforms.ToTensor(),\n",
    "    transforms.Normalize(mean, std)\n",
    "])\n",
    "train_loader, val_loader, test_loader = prepare_dataset_loaders(transform, 32)\n",
    "\n",
    "c1_feature_map = predict(c1_layer, test_loader) \n",
    "\n",
    "\n"
   ],
   "id": "1d1ea6252e5afd56",
   "outputs": [
    {
     "ename": "AttributeError",
     "evalue": "module 'src.model' has no attribute 'SingleLayerModel'",
     "output_type": "error",
     "traceback": [
      "\u001B[0;31m---------------------------------------------------------------------------\u001B[0m",
      "\u001B[0;31mAttributeError\u001B[0m                            Traceback (most recent call last)",
      "Cell \u001B[0;32mIn[10], line 8\u001B[0m\n\u001B[1;32m      5\u001B[0m model_path \u001B[38;5;241m=\u001B[39m \u001B[38;5;124mf\u001B[39m\u001B[38;5;124m\"\u001B[39m\u001B[38;5;124m./models/\u001B[39m\u001B[38;5;132;01m{\u001B[39;00mname\u001B[38;5;132;01m}\u001B[39;00m\u001B[38;5;124m.pth\u001B[39m\u001B[38;5;124m\"\u001B[39m\n\u001B[1;32m      6\u001B[0m model\u001B[38;5;241m.\u001B[39mload_state_dict(torch\u001B[38;5;241m.\u001B[39mload(model_path, weights_only\u001B[38;5;241m=\u001B[39m\u001B[38;5;28;01mTrue\u001B[39;00m))\n\u001B[0;32m----> 8\u001B[0m c1_layer \u001B[38;5;241m=\u001B[39m \u001B[43msrc\u001B[49m\u001B[38;5;241;43m.\u001B[39;49m\u001B[43mmodel\u001B[49m\u001B[38;5;241;43m.\u001B[39;49m\u001B[43mSingleLayerModel\u001B[49m(model\u001B[38;5;241m.\u001B[39mconv1)\n\u001B[1;32m      9\u001B[0m batch_size \u001B[38;5;241m=\u001B[39m \u001B[38;5;241m32\u001B[39m\n\u001B[1;32m     11\u001B[0m mean, std \u001B[38;5;241m=\u001B[39m load_mean_std(\u001B[38;5;124mf\u001B[39m\u001B[38;5;124m\"\u001B[39m\u001B[38;5;132;01m{\u001B[39;00mDATASET_DIR\u001B[38;5;132;01m}\u001B[39;00m\u001B[38;5;124m/scaling_params.json\u001B[39m\u001B[38;5;124m\"\u001B[39m)\n",
      "\u001B[0;31mAttributeError\u001B[0m: module 'src.model' has no attribute 'SingleLayerModel'"
     ]
    }
   ],
   "execution_count": 10
  },
  {
   "metadata": {},
   "cell_type": "code",
   "outputs": [],
   "execution_count": null,
   "source": "",
   "id": "d6b80e2c7e2f4b64"
  },
  {
   "metadata": {},
   "cell_type": "markdown",
   "source": "## Visualize feature map",
   "id": "9492b8dfff0b6b3f"
  },
  {
   "metadata": {},
   "cell_type": "code",
   "outputs": [],
   "execution_count": null,
   "source": [
    "def plot_feature_map(feature_map, max_grid):\n",
    "    \n",
    "    fig, ax = plt.subplots(max_grid, max_grid, figsize=(7,7))\n",
    "    channel_idx = 0\n",
    "    \n",
    "    for i in range(max_grid):\n",
    "        for j in range(max_grid):\n",
    "            ax[i][j].imshow(feature_map[0,:,:,channel_idx])\n",
    "            ax[i][j].axis('off')\n",
    "            \n",
    "            channel_idx += 1\n",
    "            \n",
    "    fig.suptitle(f'Feature Map - Displaying {max_grid**2} of {feature_map.shape[3]} Channels')\n",
    "    fig.subplots_adjust(wspace=0.1, hspace=0.1)\n",
    "    plt.show()"
   ],
   "id": "5d87d9712b4a0daa"
  },
  {
   "metadata": {},
   "cell_type": "code",
   "outputs": [],
   "execution_count": null,
   "source": "plot_feature_map(c1_feature_map, 8)",
   "id": "bbbdfc6d4f2a4d96"
  }
 ],
 "metadata": {
  "kernelspec": {
   "display_name": "Python 3",
   "language": "python",
   "name": "python3"
  },
  "language_info": {
   "codemirror_mode": {
    "name": "ipython",
    "version": 2
   },
   "file_extension": ".py",
   "mimetype": "text/x-python",
   "name": "python",
   "nbconvert_exporter": "python",
   "pygments_lexer": "ipython2",
   "version": "2.7.6"
  }
 },
 "nbformat": 4,
 "nbformat_minor": 5
}
