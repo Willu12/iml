{
 "cells": [
  {
   "metadata": {},
   "cell_type": "markdown",
   "source": "## Set up paths and imports",
   "id": "5beb56e8594def0c"
  },
  {
   "cell_type": "code",
   "id": "initial_id",
   "metadata": {
    "collapsed": true
   },
   "source": [
    "import os\n",
    "\n",
    "import torch\n",
    "from torchvision import transforms\n",
    "import matplotlib.pyplot as plt\n",
    "\n",
    "if not os.path.exists(\"./notebooks\"):\n",
    "    %cd ..\n",
    "\n",
    "import src.model\n",
    "from PIL import Image\n",
    "from src.data_processing import load_mean_std\n",
    "from src.config import DATASET_DIR\n",
    "from src.dataset_analysis import plot_spectrogram"
   ],
   "outputs": [],
   "execution_count": null
  },
  {
   "metadata": {},
   "cell_type": "code",
   "source": "",
   "id": "f052bcb4b844cc81",
   "outputs": [],
   "execution_count": null
  },
  {
   "metadata": {},
   "cell_type": "markdown",
   "source": "## Load Model and Dataset",
   "id": "9acf38b730cb26f9"
  },
  {
   "metadata": {},
   "cell_type": "code",
   "source": [
    "from src.dataset import prepare_dataset_loaders\n",
    "\n",
    "device = torch.device(\"cuda\" if torch.cuda.is_available() else \"cpu\")\n",
    "\n",
    "name = \"OriginalSizeCNN\"\n",
    "model = src.model.OriginalSizeCNN()\n",
    "model_path = f\"./models/{name}.pth\"\n",
    "model.load_state_dict(torch.load(model_path, weights_only=True))\n",
    "\n",
    "\n",
    "mean, std = load_mean_std(f\"{DATASET_DIR}/scaling_params.json\")\n",
    "\n",
    "transform = transforms.Compose([\n",
    "    transforms.ToTensor(),\n",
    "    transforms.Normalize(mean, std)\n",
    "])\n",
    "\n",
    "image_path = \"datasets/test/f8_script1_ipad_office1_25_clip.png\"\n",
    "sample_image = Image.open(image_path).convert(\"L\")\n",
    "sample_image = transform(sample_image)\n",
    "plot_spectrogram(plt.imread(image_path), \"sample_image\")\n",
    "\n",
    "\n",
    "#sample_image = test_loader.dataset[0][0]\n"
   ],
   "id": "1d1ea6252e5afd56",
   "outputs": [],
   "execution_count": null
  },
  {
   "metadata": {},
   "cell_type": "markdown",
   "source": "## Get feture map for first Convolutional Layer",
   "id": "285161b35dce1d87"
  },
  {
   "metadata": {},
   "cell_type": "code",
   "source": [
    "c1_layer = src.model.ModelWithLayerOutput(model,\"conv1\")\n",
    "c1_layer.device = device\n",
    "output = c1_layer(sample_image).detach().numpy()"
   ],
   "id": "4cf03f977daeeae2",
   "outputs": [],
   "execution_count": null
  },
  {
   "metadata": {},
   "cell_type": "markdown",
   "source": "## Visualize feature map",
   "id": "9492b8dfff0b6b3f"
  },
  {
   "metadata": {},
   "cell_type": "code",
   "source": [
    "def plot_feature_map(feature_map, max_grid):\n",
    "    \n",
    "    fig, ax = plt.subplots(max_grid, max_grid, figsize=(7,7))\n",
    "    channel_idx = 0\n",
    "    \n",
    "    for i in range(max_grid):\n",
    "        for j in range(max_grid):\n",
    "            ax[i][j].imshow(feature_map[channel_idx,:,:])\n",
    "            ax[i][j].axis('off')\n",
    "            \n",
    "            channel_idx += 1\n",
    "            \n",
    "    fig.suptitle(f'Feature Map - Displaying {max_grid**2} of {feature_map.shape[0]} Channels')\n",
    "    fig.subplots_adjust(wspace=0.1, hspace=0.1)\n",
    "    plt.show()"
   ],
   "id": "5d87d9712b4a0daa",
   "outputs": [],
   "execution_count": null
  },
  {
   "metadata": {},
   "cell_type": "code",
   "source": "plot_feature_map(output, 4)",
   "id": "bbbdfc6d4f2a4d96",
   "outputs": [],
   "execution_count": null
  },
  {
   "metadata": {},
   "cell_type": "markdown",
   "source": "## Compare feature maps from third layer",
   "id": "5149d065f433e641"
  },
  {
   "metadata": {},
   "cell_type": "code",
   "source": [
    "c3_layer = src.model.ModelWithLayerOutput(model,\"conv3\")\n",
    "c3_layer.device = device\n",
    "output = c3_layer(sample_image).detach().numpy()\n",
    "plot_feature_map(output, 8)"
   ],
   "id": "be8d2115c164b05a",
   "outputs": [],
   "execution_count": null
  },
  {
   "metadata": {},
   "cell_type": "code",
   "source": "",
   "id": "6d4665656d4e9b06",
   "outputs": [],
   "execution_count": null
  }
 ],
 "metadata": {
  "kernelspec": {
   "display_name": "Python 3",
   "language": "python",
   "name": "python3"
  },
  "language_info": {
   "codemirror_mode": {
    "name": "ipython",
    "version": 2
   },
   "file_extension": ".py",
   "mimetype": "text/x-python",
   "name": "python",
   "nbconvert_exporter": "python",
   "pygments_lexer": "ipython2",
   "version": "2.7.6"
  }
 },
 "nbformat": 4,
 "nbformat_minor": 5
}
