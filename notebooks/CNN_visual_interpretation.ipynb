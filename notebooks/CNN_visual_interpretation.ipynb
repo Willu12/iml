{
 "cells": [
  {
   "metadata": {},
   "cell_type": "markdown",
   "source": "## Set up paths and imports",
   "id": "5beb56e8594def0c"
  },
  {
   "cell_type": "code",
   "id": "initial_id",
   "metadata": {
    "collapsed": true
   },
   "source": [
    "import os\n",
    "\n",
    "import torch\n",
    "from torchvision import transforms\n",
    "import matplotlib.pyplot as plt\n",
    "\n",
    "if not os.path.exists(\"./notebooks\"):\n",
    "    %cd ..\n",
    "\n",
    "import src.model\n",
    "import numpy as np\n",
    "from src.training import predict\n",
    "from src.data_processing import load_mean_std\n",
    "from src.config import DATASET_DIR"
   ],
   "outputs": [],
   "execution_count": null
  },
  {
   "metadata": {},
   "cell_type": "markdown",
   "source": "## Load Model and Dataset",
   "id": "9acf38b730cb26f9"
  },
  {
   "metadata": {},
   "cell_type": "code",
   "source": [
    "from src.dataset import prepare_dataset_loaders\n",
    "\n",
    "device = torch.device(\"cuda\" if torch.cuda.is_available() else \"cpu\")\n",
    "\n",
    "\n",
    "name = \"OriginalSizeCNN\"\n",
    "model = src.model.OriginalSizeCNN()\n",
    "model_path = f\"./models/{name}.pth\"\n",
    "model.load_state_dict(torch.load(model_path, weights_only=True))\n",
    "\n",
    "c1_layer = src.model.SingleLayerModel(model.conv1)\n",
    "c1_layer.device = device\n",
    "batch_size = 32\n",
    "\n",
    "mean, std = load_mean_std(f\"{DATASET_DIR}/scaling_params.json\")\n",
    "transform = transforms.Compose([\n",
    "    transforms.ToTensor(),\n",
    "    transforms.Normalize(mean, std)\n",
    "])\n",
    "train_loader, val_loader, test_loader = prepare_dataset_loaders(transform, 32)\n",
    "\n",
    "output = c1_layer(test_loader.dataset[0][0])#]\n",
    "print(output.shape)\n",
    "\n",
    "output = output.detach().numpy()#c1_predicts = np.array(c1_predicts)\n",
    "print(output.shape)\n",
    "\n"
   ],
   "id": "1d1ea6252e5afd56",
   "outputs": [],
   "execution_count": null
  },
  {
   "metadata": {},
   "cell_type": "code",
   "source": "",
   "id": "d6b80e2c7e2f4b64",
   "outputs": [],
   "execution_count": null
  },
  {
   "metadata": {},
   "cell_type": "markdown",
   "source": "## Visualize feature map",
   "id": "9492b8dfff0b6b3f"
  },
  {
   "metadata": {},
   "cell_type": "code",
   "source": [
    "def plot_feature_map(feature_map, max_grid):\n",
    "    \n",
    "    fig, ax = plt.subplots(max_grid, max_grid, figsize=(7,7))\n",
    "    channel_idx = 0\n",
    "    \n",
    "    for i in range(max_grid):\n",
    "        for j in range(max_grid):\n",
    "            ax[i][j].imshow(feature_map[channel_idx,:,:])\n",
    "            ax[i][j].axis('off')\n",
    "            \n",
    "            channel_idx += 1\n",
    "            \n",
    "    fig.suptitle(f'Feature Map - Displaying {max_grid**2} of {feature_map.shape[0]} Channels')\n",
    "    fig.subplots_adjust(wspace=0.1, hspace=0.1)\n",
    "    plt.show()"
   ],
   "id": "5d87d9712b4a0daa",
   "outputs": [],
   "execution_count": null
  },
  {
   "metadata": {},
   "cell_type": "code",
   "source": "plot_feature_map(output, 4)",
   "id": "bbbdfc6d4f2a4d96",
   "outputs": [],
   "execution_count": null
  },
  {
   "metadata": {},
   "cell_type": "code",
   "source": "",
   "id": "a1dcc75f5c56d157",
   "outputs": [],
   "execution_count": null
  }
 ],
 "metadata": {
  "kernelspec": {
   "display_name": "Python 3",
   "language": "python",
   "name": "python3"
  },
  "language_info": {
   "codemirror_mode": {
    "name": "ipython",
    "version": 2
   },
   "file_extension": ".py",
   "mimetype": "text/x-python",
   "name": "python",
   "nbconvert_exporter": "python",
   "pygments_lexer": "ipython2",
   "version": "2.7.6"
  }
 },
 "nbformat": 4,
 "nbformat_minor": 5
}
