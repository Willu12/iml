{
 "cells": [
  {
   "cell_type": "markdown",
   "metadata": {},
   "source": [
    "## Set up paths and imports"
   ]
  },
  {
   "cell_type": "code",
   "execution_count": null,
   "metadata": {
    "ExecuteTime": {
     "end_time": "2024-11-27T22:38:53.993771Z",
     "start_time": "2024-11-27T22:38:51.532539Z"
    }
   },
   "outputs": [],
   "source": [
    "import os\n",
    "\n",
    "import torch\n",
    "from torchvision import transforms\n",
    "\n",
    "if not os.path.exists(\"./notebooks\"):\n",
    "    %cd ..\n",
    "\n",
    "import src.model\n",
    "from src.training import train, validate\n",
    "from src.dataset import prepare_dataset_loaders\n",
    "from src.data_processing import load_mean_std\n",
    "from src.config import DATASET_DIR\n",
    "\n",
    "wandb_enabled = False"
   ]
  },
  {
   "cell_type": "markdown",
   "metadata": {},
   "source": [
    "## 1. Load standarization data and define Config"
   ]
  },
  {
   "cell_type": "code",
   "execution_count": null,
   "metadata": {
    "ExecuteTime": {
     "end_time": "2024-11-27T22:38:56.331832Z",
     "start_time": "2024-11-27T22:38:56.327746Z"
    }
   },
   "outputs": [],
   "source": [
    "mean, std = load_mean_std(f\"{DATASET_DIR}/scaling_params.json\")\n",
    "\n",
    "class Config:\n",
    "    def __init__(self, lr=0.001, epochs=40, batch_size=32):\n",
    "        self.learning_rate = lr\n",
    "        self.epochs = epochs\n",
    "        self.batch_size = batch_size"
   ]
  },
  {
   "cell_type": "markdown",
   "metadata": {},
   "source": [
    "### Optionally initialize W&B project"
   ]
  },
  {
   "cell_type": "code",
   "execution_count": null,
   "metadata": {},
   "outputs": [],
   "source": [
    "import wandb\n",
    "\n",
    "wandb_enabled = True"
   ]
  },
  {
   "cell_type": "markdown",
   "metadata": {},
   "source": [
    "## 2. Define training and validation loop"
   ]
  },
  {
   "cell_type": "code",
   "execution_count": null,
   "metadata": {
    "ExecuteTime": {
     "end_time": "2024-11-27T22:39:12.615030Z",
     "start_time": "2024-11-27T22:39:12.609279Z"
    }
   },
   "outputs": [],
   "source": [
    "device = torch.device(\"cuda\" if torch.cuda.is_available() else \"cpu\")\n",
    "\n",
    "def do_train(name, train_loader, val_loader, config, model, criterion, optimizer):\n",
    "    if wandb_enabled:\n",
    "            wandb.init(name=name, project=\"iml\", config=vars(config))\n",
    " \n",
    "    model.device = device\n",
    "    model.to(device)\n",
    "\n",
    "    for epoch in range(config.epochs):\n",
    "        print(f\"Epoch {epoch+1}/{config.epochs}\")\n",
    "\n",
    "        if wandb_enabled:\n",
    "            logger = wandb.log\n",
    "        else:\n",
    "            logger = lambda data,step: print(f\"  Step {step}: {data}\")\n",
    "\n",
    "        train(model, train_loader, criterion, optimizer, epoch, logger, len(train_loader) // 5 - 1)\n",
    "        metrics = validate(model, val_loader)\n",
    "        print(metrics)\n",
    "\n",
    "        if wandb_enabled:\n",
    "            wandb.log({\"validation/recall\": metrics.recall, \"validation/accuracy\": metrics.accuracy, \"validation/precision\": metrics.precision, \"validation/f1\": metrics.f1, \"epoch\": epoch+1})\n",
    "\n",
    "    model_path = f\"./models/{name}.pth\"\n",
    "    os.makedirs(os.path.dirname(model_path), exist_ok=True)\n",
    "    torch.save(model.state_dict(), model_path)\n",
    "\n",
    "    if wandb_enabled: \n",
    "        wandb.save(model_path)\n",
    "        wandb.finish()\n",
    "    \n"
   ]
  },
  {
   "cell_type": "code",
   "execution_count": null,
   "metadata": {},
   "outputs": [],
   "source": [
    "name = \"TutorialCNN without standardization\"\n",
    "model = src.model.TutorialCNN()\n",
    "config = Config()\n",
    "transform = transforms.Compose([\n",
    "    transforms.Resize((32,32)),\n",
    "    transforms.ToTensor()\n",
    "])\n",
    "train_loader, val_loader, test_loader = prepare_dataset_loaders(transform, config.batch_size)\n",
    "criterion = torch.nn.CrossEntropyLoss()\n",
    "optimizer = torch.optim.Adam(model.parameters(), lr=config.learning_rate)\n",
    "   \n",
    "do_train(name, train_loader, val_loader, config, model, criterion, optimizer)"
   ]
  },
  {
   "cell_type": "code",
   "execution_count": null,
   "metadata": {},
   "outputs": [],
   "source": [
    "name = \"TutorialCNN\"\n",
    "model = src.model.TutorialCNN()\n",
    "config = Config()\n",
    "transform = transforms.Compose([\n",
    "    transforms.Resize((32,32)),\n",
    "    transforms.ToTensor(),\n",
    "    transforms.Normalize(mean, std)\n",
    "])\n",
    "train_loader, val_loader, test_loader = prepare_dataset_loaders(transform, config.batch_size)\n",
    "criterion = torch.nn.CrossEntropyLoss()\n",
    "optimizer = torch.optim.Adam(model.parameters(), lr=config.learning_rate)\n",
    "\n",
    "do_train(name, train_loader, val_loader, config, model, criterion, optimizer)"
   ]
  },
  {
   "cell_type": "code",
   "execution_count": null,
   "metadata": {
    "ExecuteTime": {
     "end_time": "2024-11-27T19:42:47.899584Z",
     "start_time": "2024-11-27T19:42:13.910890Z"
    }
   },
   "outputs": [],
   "source": [
    "name = \"OriginalSizeCNN\"\n",
    "model = src.model.OriginalSizeCNN()\n",
    "config = Config()\n",
    "transform = transforms.Compose([\n",
    "    transforms.ToTensor(),\n",
    "    transforms.Normalize(mean, std)\n",
    "])\n",
    "train_loader, val_loader, test_loader = prepare_dataset_loaders(transform, config.batch_size)\n",
    "criterion = torch.nn.CrossEntropyLoss()\n",
    "optimizer = torch.optim.Adam(model.parameters(), lr=config.learning_rate)\n",
    "\n",
    "do_train(name, train_loader, val_loader, config, model, criterion, optimizer)"
   ]
  },
  {
   "cell_type": "code",
   "execution_count": null,
   "metadata": {
    "ExecuteTime": {
     "end_time": "2024-11-27T22:50:38.015431Z",
     "start_time": "2024-11-27T22:39:18.810496Z"
    }
   },
   "outputs": [],
   "source": [
    "name = \"DropoutCNN\"\n",
    "model = src.model.DropoutCNN()\n",
    "config = Config()\n",
    "transform = transforms.Compose([\n",
    "    transforms.ToTensor(),\n",
    "    transforms.Normalize(mean, std)\n",
    "])\n",
    "train_loader, val_loader, test_loader = prepare_dataset_loaders(transform, config.batch_size)\n",
    "criterion = torch.nn.CrossEntropyLoss()\n",
    "optimizer = torch.optim.Adam(model.parameters(), lr=config.learning_rate)\n",
    "\n",
    "do_train(name, train_loader, val_loader, config, model, criterion, optimizer)"
   ]
  },
  {
   "cell_type": "code",
   "execution_count": null,
   "metadata": {},
   "outputs": [],
   "source": []
  }
 ],
 "metadata": {
  "kernelspec": {
   "display_name": ".venv",
   "language": "python",
   "name": "python3"
  },
  "language_info": {
   "codemirror_mode": {
    "name": "ipython",
    "version": 3
   },
   "file_extension": ".py",
   "mimetype": "text/x-python",
   "name": "python",
   "nbconvert_exporter": "python",
   "pygments_lexer": "ipython3",
   "version": "3.9.6 (default, Feb  3 2024, 15:58:27) \n[Clang 15.0.0 (clang-1500.3.9.4)]"
  },
  "vscode": {
   "interpreter": {
    "hash": "cccc1e4ed51fc8b9fd510a52ec83f3ba6504ae6c1f28f1731113cc11ad46be9d"
   }
  }
 },
 "nbformat": 4,
 "nbformat_minor": 4
}
