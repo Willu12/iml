{
 "cells": [
  {
   "cell_type": "markdown",
   "metadata": {},
   "source": [
    "## Run this cell to set up paths, imports, and W&B logging"
   ]
  },
  {
   "cell_type": "code",
   "execution_count": 1,
   "metadata": {},
   "outputs": [
    {
     "name": "stdout",
     "output_type": "stream",
     "text": [
      "/home/mytkom/Documents/iml\n"
     ]
    }
   ],
   "source": [
    "%cd ..\n",
    "\n",
    "import os\n",
    "from PIL import Image\n",
    "\n",
    "import wandb\n",
    "import numpy as np\n",
    "import tqdm\n",
    "\n",
    "import torch\n",
    "import torch.nn.functional as F\n",
    "from torch.utils.data import DataLoader, Dataset\n",
    "from torchvision import transforms\n",
    "\n",
    "import src.model\n",
    "from src.training import train, validate"
   ]
  },
  {
   "cell_type": "markdown",
   "metadata": {},
   "source": [
    "## 1. Initialize W&B project"
   ]
  },
  {
   "cell_type": "code",
   "execution_count": 2,
   "metadata": {},
   "outputs": [
    {
     "name": "stderr",
     "output_type": "stream",
     "text": [
      "\u001b[34m\u001b[1mwandb\u001b[0m: Using wandb-core as the SDK backend. Please refer to https://wandb.me/wandb-core for more information.\n",
      "\u001b[34m\u001b[1mwandb\u001b[0m: Currently logged in as: \u001b[33mmytkom\u001b[0m (\u001b[33mmytkom-warsaw-university-of-technology\u001b[0m). Use \u001b[1m`wandb login --relogin`\u001b[0m to force relogin\n"
     ]
    },
    {
     "data": {
      "text/html": [
       "Tracking run with wandb version 0.18.5"
      ],
      "text/plain": [
       "<IPython.core.display.HTML object>"
      ]
     },
     "metadata": {},
     "output_type": "display_data"
    },
    {
     "data": {
      "text/html": [
       "Run data is saved locally in <code>/home/mytkom/Documents/iml/wandb/run-20241030_182908-1na35srn</code>"
      ],
      "text/plain": [
       "<IPython.core.display.HTML object>"
      ]
     },
     "metadata": {},
     "output_type": "display_data"
    },
    {
     "data": {
      "text/html": [
       "Syncing run <strong><a href='https://wandb.ai/mytkom-warsaw-university-of-technology/iml/runs/1na35srn' target=\"_blank\">obscure-witch-13</a></strong> to <a href='https://wandb.ai/mytkom-warsaw-university-of-technology/iml' target=\"_blank\">Weights & Biases</a> (<a href='https://wandb.me/run' target=\"_blank\">docs</a>)<br/>"
      ],
      "text/plain": [
       "<IPython.core.display.HTML object>"
      ]
     },
     "metadata": {},
     "output_type": "display_data"
    },
    {
     "data": {
      "text/html": [
       " View project at <a href='https://wandb.ai/mytkom-warsaw-university-of-technology/iml' target=\"_blank\">https://wandb.ai/mytkom-warsaw-university-of-technology/iml</a>"
      ],
      "text/plain": [
       "<IPython.core.display.HTML object>"
      ]
     },
     "metadata": {},
     "output_type": "display_data"
    },
    {
     "data": {
      "text/html": [
       " View run at <a href='https://wandb.ai/mytkom-warsaw-university-of-technology/iml/runs/1na35srn' target=\"_blank\">https://wandb.ai/mytkom-warsaw-university-of-technology/iml/runs/1na35srn</a>"
      ],
      "text/plain": [
       "<IPython.core.display.HTML object>"
      ]
     },
     "metadata": {},
     "output_type": "display_data"
    }
   ],
   "source": [
    "wandb.init(project=\"iml\", config={\n",
    "    \"learning_rate\": 0.001,\n",
    "    \"epochs\": 80,\n",
    "    \"batch_size\": 32,\n",
    "    \"image_size\": (32, 32) # TODO: choose best image_size\n",
    "})\n",
    "config = wandb.config\n",
    "\n",
    "# Configure directories\n",
    "TRAIN_DIR = \"./datasets/train/\"\n",
    "VAL_DIR = \"./datasets/val/\"\n",
    "TEST_DIR = \"./datasets/test/\"\n",
    "\n",
    "# Speakers of such labels should be admitted to enter\n",
    "VALID_ACCESS_LABELS = {\n",
    "    \"f1\", \"f7\", \"f8\", \"m3\", \"m6\", \"m8\"\n",
    "}"
   ]
  },
  {
   "cell_type": "markdown",
   "metadata": {},
   "source": [
    "## 2. Define a custom dataset class to load spectrograms from files"
   ]
  },
  {
   "cell_type": "code",
   "execution_count": 3,
   "metadata": {},
   "outputs": [],
   "source": [
    "class SpectrogramDataset(Dataset):\n",
    "    def __init__(self, directory, transform=None):\n",
    "        self.files = [os.path.join(directory, f) for f in os.listdir(directory) if f.endswith('.png')]\n",
    "        self.transform = transform\n",
    "\n",
    "    def __len__(self):\n",
    "        return len(self.files)\n",
    "\n",
    "    def __getitem__(self, idx):\n",
    "        img_path = self.files[idx]\n",
    "        speaker_id = img_path.split('/')[-1].split('_')[0]\n",
    "        label = int(speaker_id in VALID_ACCESS_LABELS)\n",
    "        image = Image.open(img_path).convert(\"L\")\n",
    "        \n",
    "        if self.transform:\n",
    "            image = self.transform(image)\n",
    "        \n",
    "        return image, label\n"
   ]
  },
  {
   "cell_type": "markdown",
   "metadata": {},
   "source": [
    "## 3. Set up data transformations and data loaders"
   ]
  },
  {
   "cell_type": "code",
   "execution_count": 4,
   "metadata": {},
   "outputs": [],
   "source": [
    "transform = transforms.Compose([\n",
    "    transforms.Resize(config.image_size),\n",
    "    transforms.ToTensor(),\n",
    "    # TODO: normalization\n",
    "])\n",
    "\n",
    "train_dataset = SpectrogramDataset(TRAIN_DIR, transform=transform)\n",
    "val_dataset = SpectrogramDataset(VAL_DIR, transform=transform)\n",
    "test_dataset = SpectrogramDataset(TEST_DIR, transform=transform)\n",
    "\n",
    "train_loader = DataLoader(train_dataset, batch_size=config.batch_size, shuffle=True)\n",
    "val_loader = DataLoader(val_dataset, batch_size=config.batch_size, shuffle=False)\n",
    "test_loader = DataLoader(test_dataset, batch_size=config.batch_size, shuffle=False)\n"
   ]
  },
  {
   "cell_type": "markdown",
   "metadata": {},
   "source": [
    "## 4. Initialize model, optimizer, and set device"
   ]
  },
  {
   "cell_type": "code",
   "execution_count": 5,
   "metadata": {},
   "outputs": [],
   "source": [
    "device = torch.device(\"cuda\" if torch.cuda.is_available() else \"cpu\")\n",
    "# model = src.model.SimpleCNN().to(device)\n",
    "model = src.model.TutorialCNN() # - for 32x32 images\n",
    "model.device = device\n",
    "criterion = torch.nn.CrossEntropyLoss()\n",
    "optimizer = torch.optim.Adam(model.parameters(), lr=config.learning_rate)\n"
   ]
  },
  {
   "cell_type": "markdown",
   "metadata": {},
   "source": [
    "## 5. Training and validation loop"
   ]
  },
  {
   "cell_type": "code",
   "execution_count": 6,
   "metadata": {},
   "outputs": [
    {
     "name": "stdout",
     "output_type": "stream",
     "text": [
      "Epoch 1/80\n"
     ]
    },
    {
     "name": "stderr",
     "output_type": "stream",
     "text": [
      "/home/mytkom/Documents/iml/.venv/lib/python3.11/site-packages/sklearn/metrics/_classification.py:1531: UndefinedMetricWarning: Precision is ill-defined and being set to 0.0 due to no predicted samples. Use `zero_division` parameter to control this behavior.\n",
      "  _warn_prf(average, modifier, f\"{metric.capitalize()} is\", len(result))\n"
     ]
    },
    {
     "name": "stdout",
     "output_type": "stream",
     "text": [
      "Recall:  0.0 , Precision:  0.0 , Validation F1:  0.38267148014440433\n",
      "Epoch 2/80\n"
     ]
    },
    {
     "name": "stderr",
     "output_type": "stream",
     "text": [
      "/home/mytkom/Documents/iml/.venv/lib/python3.11/site-packages/sklearn/metrics/_classification.py:1531: UndefinedMetricWarning: Precision is ill-defined and being set to 0.0 due to no predicted samples. Use `zero_division` parameter to control this behavior.\n",
      "  _warn_prf(average, modifier, f\"{metric.capitalize()} is\", len(result))\n"
     ]
    },
    {
     "name": "stdout",
     "output_type": "stream",
     "text": [
      "Recall:  0.0 , Precision:  0.0 , Validation F1:  0.38267148014440433\n",
      "Epoch 3/80\n"
     ]
    },
    {
     "name": "stderr",
     "output_type": "stream",
     "text": [
      "/home/mytkom/Documents/iml/.venv/lib/python3.11/site-packages/sklearn/metrics/_classification.py:1531: UndefinedMetricWarning: Precision is ill-defined and being set to 0.0 due to no predicted samples. Use `zero_division` parameter to control this behavior.\n",
      "  _warn_prf(average, modifier, f\"{metric.capitalize()} is\", len(result))\n"
     ]
    },
    {
     "name": "stdout",
     "output_type": "stream",
     "text": [
      "Recall:  0.0 , Precision:  0.0 , Validation F1:  0.38267148014440433\n",
      "Epoch 4/80\n"
     ]
    },
    {
     "name": "stderr",
     "output_type": "stream",
     "text": [
      "/home/mytkom/Documents/iml/.venv/lib/python3.11/site-packages/sklearn/metrics/_classification.py:1531: UndefinedMetricWarning: Precision is ill-defined and being set to 0.0 due to no predicted samples. Use `zero_division` parameter to control this behavior.\n",
      "  _warn_prf(average, modifier, f\"{metric.capitalize()} is\", len(result))\n"
     ]
    },
    {
     "name": "stdout",
     "output_type": "stream",
     "text": [
      "Recall:  0.0 , Precision:  0.0 , Validation F1:  0.38267148014440433\n",
      "Epoch 5/80\n",
      "Recall:  0.012307692307692308 , Precision:  0.4 , Validation F1:  0.3930312075983718\n",
      "Epoch 6/80\n",
      "Recall:  0.0 , Precision:  0.0 , Validation F1:  0.38222543352601157\n",
      "Epoch 7/80\n",
      "Recall:  0.018461538461538463 , Precision:  0.42857142857142855 , Validation F1:  0.3984430975387774\n",
      "Epoch 8/80\n",
      "Recall:  0.04923076923076923 , Precision:  0.5925925925925926 , Validation F1:  0.42763422144865443\n",
      "Epoch 9/80\n",
      "Recall:  0.2523076923076923 , Precision:  0.6666666666666666 , Validation F1:  0.5705159044600407\n",
      "Epoch 10/80\n",
      "Recall:  0.16 , Precision:  0.8 , Validation F1:  0.525\n",
      "Epoch 11/80\n",
      "Recall:  0.3076923076923077 , Precision:  0.7194244604316546 , Validation F1:  0.6095782365639011\n",
      "Epoch 12/80\n",
      "Recall:  0.4461538461538462 , Precision:  0.7837837837837838 , Validation F1:  0.6926470588235294\n",
      "Epoch 13/80\n",
      "Recall:  0.4646153846153846 , Precision:  0.8531073446327684 , Validation F1:  0.7180153557953617\n",
      "Epoch 14/80\n",
      "Recall:  0.28307692307692306 , Precision:  0.9583333333333334 , Validation F1:  0.6265955858912154\n",
      "Epoch 15/80\n",
      "Recall:  0.7692307692307693 , Precision:  0.8012820512820513 , Validation F1:  0.8286249764082276\n",
      "Epoch 16/80\n",
      "Recall:  0.6215384615384615 , Precision:  0.8595744680851064 , Validation F1:  0.792888198757764\n",
      "Epoch 17/80\n",
      "Recall:  0.8707692307692307 , Precision:  0.8250728862973761 , Validation F1:  0.8747083567988783\n",
      "Epoch 18/80\n",
      "Recall:  0.6092307692307692 , Precision:  0.9 , Validation F1:  0.7993542544395007\n",
      "Epoch 19/80\n",
      "Recall:  0.6984615384615385 , Precision:  0.908 , Validation F1:  0.8414786439379429\n",
      "Epoch 20/80\n",
      "Recall:  0.7169230769230769 , Precision:  0.9209486166007905 , Validation F1:  0.8536442221869001\n",
      "Epoch 21/80\n",
      "Recall:  0.5938461538461538 , Precision:  0.9146919431279621 , Validation F1:  0.7961904701365405\n",
      "Epoch 22/80\n",
      "Recall:  0.8307692307692308 , Precision:  0.8940397350993378 , Validation F1:  0.8904558045832285\n",
      "Epoch 23/80\n",
      "Recall:  0.7907692307692308 , Precision:  0.9081272084805654 , Validation F1:  0.8800476406533575\n",
      "Epoch 24/80\n",
      "Recall:  0.7476923076923077 , Precision:  0.9169811320754717 , Validation F1:  0.8654358353510896\n",
      "Epoch 25/80\n",
      "Recall:  0.8769230769230769 , Precision:  0.8636363636363636 , Validation F1:  0.8948301436272204\n",
      "Epoch 26/80\n",
      "Recall:  0.8953846153846153 , Precision:  0.879154078549849 , Validation F1:  0.908493196649234\n",
      "Epoch 27/80\n",
      "Recall:  0.8738461538461538 , Precision:  0.8930817610062893 , Validation F1:  0.9065343596455813\n",
      "Epoch 28/80\n",
      "Recall:  0.8553846153846154 , Precision:  0.9328859060402684 , Validation F1:  0.9154091621246867\n",
      "Epoch 29/80\n",
      "Recall:  0.8830769230769231 , Precision:  0.9288025889967637 , Validation F1:  0.924800347120425\n",
      "Epoch 30/80\n",
      "Recall:  0.8492307692307692 , Precision:  0.8761904761904762 , Validation F1:  0.8901285046728973\n",
      "Epoch 31/80\n",
      "Recall:  0.9292307692307692 , Precision:  0.8856304985337243 , Validation F1:  0.9237599668634151\n",
      "Epoch 32/80\n",
      "Recall:  0.8676923076923077 , Precision:  0.912621359223301 , Validation F1:  0.9122670716404958\n",
      "Epoch 33/80\n",
      "Recall:  0.8676923076923077 , Precision:  0.9038461538461539 , Validation F1:  0.9086833815897856\n",
      "Epoch 34/80\n",
      "Recall:  0.9076923076923077 , Precision:  0.8651026392961877 , Validation F1:  0.9065444755099927\n",
      "Epoch 35/80\n",
      "Recall:  0.8769230769230769 , Precision:  0.8689024390243902 , Validation F1:  0.8971851044810286\n",
      "Epoch 36/80\n",
      "Recall:  0.8523076923076923 , Precision:  0.9172185430463576 , Validation F1:  0.908083606144548\n",
      "Epoch 37/80\n",
      "Recall:  0.8523076923076923 , Precision:  0.920265780730897 , Validation F1:  0.9092816806762316\n",
      "Epoch 38/80\n",
      "Recall:  0.9015384615384615 , Precision:  0.8905775075987842 , Validation F1:  0.9158152627189324\n",
      "Epoch 39/80\n",
      "Recall:  0.7907692307692308 , Precision:  0.9379562043795621 , Validation F1:  0.890794588640834\n",
      "Epoch 40/80\n",
      "Recall:  0.8523076923076923 , Precision:  0.8935483870967742 , Validation F1:  0.8985460538362937\n",
      "Epoch 41/80\n",
      "Recall:  0.796923076923077 , Precision:  0.9592592592592593 , Validation F1:  0.900764969664996\n",
      "Epoch 42/80\n",
      "Recall:  0.8861538461538462 , Precision:  0.8834355828220859 , Validation F1:  0.9069855484915341\n",
      "Epoch 43/80\n",
      "Recall:  0.7692307692307693 , Precision:  0.9398496240601504 , Validation F1:  0.8823505395952695\n",
      "Epoch 44/80\n",
      "Recall:  0.92 , Precision:  0.8794117647058823 , Validation F1:  0.9175666438824334\n",
      "Epoch 45/80\n",
      "Recall:  0.8461538461538461 , Precision:  0.9385665529010239 , Validation F1:  0.9138482876346954\n",
      "Epoch 46/80\n",
      "Recall:  0.8369230769230769 , Precision:  0.9158249158249159 , Validation F1:  0.9014534471344808\n",
      "Epoch 47/80\n",
      "Recall:  0.8830769230769231 , Precision:  0.9198717948717948 , Validation F1:  0.921192507399404\n",
      "Epoch 48/80\n",
      "Recall:  0.8953846153846153 , Precision:  0.909375 , Validation F1:  0.9215853259089419\n",
      "Epoch 49/80\n",
      "Recall:  0.8830769230769231 , Precision:  0.9288025889967637 , Validation F1:  0.924800347120425\n",
      "Epoch 50/80\n",
      "Recall:  0.8830769230769231 , Precision:  0.8996865203761756 , Validation F1:  0.9128191532751448\n",
      "Epoch 51/80\n",
      "Recall:  0.8830769230769231 , Precision:  0.8913043478260869 , Validation F1:  0.9092489978350037\n",
      "Epoch 52/80\n",
      "Recall:  0.8584615384615385 , Precision:  0.9207920792079208 , Validation F1:  0.9119200113024948\n",
      "Epoch 53/80\n",
      "Recall:  0.7384615384615385 , Precision:  0.9523809523809523 , Validation F1:  0.8731378328726513\n",
      "Epoch 54/80\n",
      "Recall:  0.8553846153846154 , Precision:  0.9266666666666666 , Validation F1:  0.9130027649769585\n",
      "Epoch 55/80\n",
      "Recall:  0.8430769230769231 , Precision:  0.9383561643835616 , Validation F1:  0.9125197773958638\n",
      "Epoch 56/80\n",
      "Recall:  0.84 , Precision:  0.9254237288135593 , Validation F1:  0.9063776265167209\n",
      "Epoch 57/80\n",
      "Recall:  0.8676923076923077 , Precision:  0.9337748344370861 , Validation F1:  0.920674892974062\n",
      "Epoch 58/80\n",
      "Recall:  0.8738461538461538 , Precision:  0.9161290322580645 , Validation F1:  0.9160813037905146\n",
      "Epoch 59/80\n",
      "Recall:  0.8769230769230769 , Precision:  0.9047619047619048 , Validation F1:  0.9126022196261683\n",
      "Epoch 60/80\n",
      "Recall:  0.8892307692307693 , Precision:  0.9059561128526645 , Validation F1:  0.9178009159451366\n",
      "Epoch 61/80\n",
      "Recall:  0.8738461538461538 , Precision:  0.8987341772151899 , Validation F1:  0.9089136624398559\n",
      "Epoch 62/80\n",
      "Recall:  0.8615384615384616 , Precision:  0.9120521172638436 , Validation F1:  0.9096427984312252\n",
      "Epoch 63/80\n",
      "Recall:  0.8553846153846154 , Precision:  0.9114754098360656 , Validation F1:  0.907010582010582\n",
      "Epoch 64/80\n",
      "Recall:  0.8615384615384616 , Precision:  0.9090909090909091 , Validation F1:  0.9084476362724261\n",
      "Epoch 65/80\n",
      "Recall:  0.8615384615384616 , Precision:  0.9120521172638436 , Validation F1:  0.9096427984312252\n",
      "Epoch 66/80\n",
      "Recall:  0.8615384615384616 , Precision:  0.9061488673139159 , Validation F1:  0.9072537614485241\n",
      "Epoch 67/80\n",
      "Recall:  0.8584615384615385 , Precision:  0.9117647058823529 , Validation F1:  0.9083276908683129\n",
      "Epoch 68/80\n",
      "Recall:  0.8430769230769231 , Precision:  0.9319727891156463 , Validation F1:  0.910110479484814\n",
      "Epoch 69/80\n",
      "Recall:  0.8615384615384616 , Precision:  0.9061488673139159 , Validation F1:  0.9072537614485241\n",
      "Epoch 70/80\n",
      "Recall:  0.8430769230769231 , Precision:  0.9288135593220339 , Validation F1:  0.908907960935188\n",
      "Epoch 71/80\n",
      "Recall:  0.8584615384615385 , Precision:  0.9177631578947368 , Validation F1:  0.9107212452698659\n",
      "Epoch 72/80\n",
      "Recall:  0.8523076923076923 , Precision:  0.9141914191419142 , Validation F1:  0.9068868690912089\n",
      "Epoch 73/80\n",
      "Recall:  0.8123076923076923 , Precision:  0.882943143812709 , Validation F1:  0.8788780280492987\n",
      "Epoch 74/80\n",
      "Recall:  0.9415384615384615 , Precision:  0.8476454293628809 , Validation F1:  0.9099313274416909\n",
      "Epoch 75/80\n",
      "Recall:  0.8861538461538462 , Precision:  0.9 , Validation F1:  0.9141172617097937\n",
      "Epoch 76/80\n",
      "Recall:  0.8646153846153846 , Precision:  0.9335548172757475 , Validation F1:  0.9193614939344281\n",
      "Epoch 77/80\n",
      "Recall:  0.88 , Precision:  0.9196141479099679 , Validation F1:  0.9198903763044166\n",
      "Epoch 78/80\n",
      "Recall:  0.8523076923076923 , Precision:  0.9421768707482994 , Validation F1:  0.9177067769931396\n",
      "Epoch 79/80\n",
      "Recall:  0.8676923076923077 , Precision:  0.9185667752442996 , Validation F1:  0.9146626429628237\n",
      "Epoch 80/80\n",
      "Recall:  0.8584615384615385 , Precision:  0.9177631578947368 , Validation F1:  0.9107212452698659\n"
     ]
    }
   ],
   "source": [
    "\n",
    "for epoch in range(config.epochs):\n",
    "    print(f\"Epoch {epoch+1}/{config.epochs}\")\n",
    "    \n",
    "    train(model, train_loader, criterion, optimizer, epoch, wandb.log, len(train_loader) // 5 - 1)\n",
    "    recall, precision, val_f1 = validate(model, val_loader)\n",
    "    wandb.log({\"validation/recall\": recall, \"validation/precision\": precision, \"validation/f1\": val_f1, \"epoch\": epoch+1})\n",
    "    print(\"Recall: \", recall, \", Precision: \", precision, \", Validation F1: \", val_f1)\n"
   ]
  },
  {
   "cell_type": "markdown",
   "metadata": {},
   "source": [
    "## 6. Save the model"
   ]
  },
  {
   "cell_type": "code",
   "execution_count": null,
   "metadata": {},
   "outputs": [],
   "source": [
    "\n",
    "model_path = \"./models/simple_cnn.pth\"\n",
    "os.makedirs(os.path.dirname(model_path), exist_ok=True)\n",
    "torch.save(model.state_dict(), model_path)\n",
    "wandb.save(model_path)\n",
    "wandb.finish()\n",
    "\n",
    "print(\"Training complete and model saved!\")\n"
   ]
  }
 ],
 "metadata": {
  "kernelspec": {
   "display_name": ".venv",
   "language": "python",
   "name": "python3"
  },
  "language_info": {
   "codemirror_mode": {
    "name": "ipython",
    "version": 3
   },
   "file_extension": ".py",
   "mimetype": "text/x-python",
   "name": "python",
   "nbconvert_exporter": "python",
   "pygments_lexer": "ipython3",
   "version": "3.11.8"
  }
 },
 "nbformat": 4,
 "nbformat_minor": 2
}
