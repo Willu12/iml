{
 "cells": [
  {
   "cell_type": "markdown",
   "metadata": {},
   "source": [
    "## Set up paths and imports"
   ]
  },
  {
   "cell_type": "code",
   "execution_count": 1,
   "metadata": {},
   "outputs": [
    {
     "name": "stderr",
     "output_type": "stream",
     "text": [
      "/home/mytkom/Documents/iml/.venv/lib/python3.11/site-packages/IPython/core/magics/osm.py:417: UserWarning: This is now an optional IPython functionality, setting dhist requires you to install the `pickleshare` library.\n",
      "  self.shell.db['dhist'] = compress_dhist(dhist)[-100:]\n"
     ]
    },
    {
     "name": "stdout",
     "output_type": "stream",
     "text": [
      "/home/mytkom/Documents/iml\n"
     ]
    }
   ],
   "source": [
    "import os\n",
    "\n",
    "import torch\n",
    "from torchvision import transforms\n",
    "\n",
    "if not os.path.exists(\"./notebooks\"):\n",
    "    %cd ..\n",
    "\n",
    "import src.model\n",
    "from src.training import train, validate\n",
    "from src.dataset import prepare_dataset_loaders\n",
    "from src.data_processing import load_mean_std\n",
    "from src.config import DATASET_DIR, PATIENCE_THRESHOLD\n",
    "\n",
    "wandb_enabled = False"
   ]
  },
  {
   "cell_type": "markdown",
   "metadata": {},
   "source": [
    "## 1. Load standarization data and define Config"
   ]
  },
  {
   "cell_type": "code",
   "execution_count": 2,
   "metadata": {},
   "outputs": [],
   "source": [
    "mean, std = load_mean_std(f\"{DATASET_DIR}/scaling_params.json\")\n",
    "\n",
    "class Config:\n",
    "    def __init__(self, lr=0.001, epochs=40, batch_size=32):\n",
    "        self.learning_rate = lr\n",
    "        self.epochs = epochs\n",
    "        self.batch_size = batch_size"
   ]
  },
  {
   "cell_type": "markdown",
   "metadata": {},
   "source": [
    "### Optionally initialize W&B project"
   ]
  },
  {
   "cell_type": "code",
   "execution_count": 3,
   "metadata": {},
   "outputs": [],
   "source": [
    "import wandb\n",
    "\n",
    "wandb_enabled = True"
   ]
  },
  {
   "cell_type": "markdown",
   "metadata": {},
   "source": [
    "## 2. Define training and validation loop"
   ]
  },
  {
   "cell_type": "code",
   "execution_count": 4,
   "metadata": {},
   "outputs": [],
   "source": [
    "device = torch.device(\"cuda\" if torch.cuda.is_available() else \"cpu\")\n",
    "\n",
    "def do_train(name, train_loader, val_loader, config, model, criterion, optimizer):\n",
    "    if wandb_enabled:\n",
    "            wandb.init(name=name, project=\"iml\", config=vars(config))\n",
    " \n",
    "    model.device = device\n",
    "    model.to(device)\n",
    "\n",
    "    saved = False\n",
    "    patience = 0\n",
    "    best_f1 = -1\n",
    "\n",
    "    for epoch in range(config.epochs):\n",
    "        print(f\"Epoch {epoch+1}/{config.epochs}\")\n",
    "\n",
    "        if wandb_enabled:\n",
    "            logger = wandb.log\n",
    "        else:\n",
    "            logger = lambda data,step: print(f\"  Step {step}: {data}\")\n",
    "\n",
    "        train(model, train_loader, criterion, optimizer, epoch, logger, len(train_loader) // 5 - 1)\n",
    "        metrics = validate(model, val_loader)\n",
    "        print(metrics)\n",
    "\n",
    "        if wandb_enabled:\n",
    "            wandb.log({\"validation/recall\": metrics.recall, \"validation/accuracy\": metrics.accuracy, \"validation/precision\": metrics.precision, \"validation/f1\": metrics.f1, \"epoch\": epoch+1})\n",
    "\n",
    "        if metrics.f1 < best_f1:\n",
    "            patience = patience + 1\n",
    "        else:\n",
    "            patience = 0\n",
    "            best_f1 = metrics.f1\n",
    "        if patience >= PATIENCE_THRESHOLD:\n",
    "            model_path = f\"./models/{name}.pth\"\n",
    "            os.makedirs(os.path.dirname(model_path), exist_ok=True)\n",
    "            torch.save(model.state_dict(), model_path)\n",
    "            saved = True;\n",
    "\n",
    "    if(saved == False):\n",
    "            model_path = f\"./models/{name}.pth\"\n",
    "            os.makedirs(os.path.dirname(model_path), exist_ok=True)\n",
    "            torch.save(model.state_dict(), model_path)\n",
    "\n",
    "    if wandb_enabled:\n",
    "        wandb.save(model_path)\n",
    "        wandb.finish()\n",
    "\n",
    "\n",
    "    \n"
   ]
  },
  {
   "cell_type": "code",
   "execution_count": null,
   "metadata": {},
   "outputs": [],
   "source": [
    "name = \"TutorialCNN without standardization\"\n",
    "model = src.model.TutorialCNN()\n",
    "config = Config()\n",
    "transform = transforms.Compose([\n",
    "    transforms.Resize((32,32)),\n",
    "    transforms.ToTensor()\n",
    "])\n",
    "train_loader, val_loader, test_loader = prepare_dataset_loaders(transform, config.batch_size)\n",
    "criterion = torch.nn.CrossEntropyLoss()\n",
    "optimizer = torch.optim.Adam(model.parameters(), lr=config.learning_rate)\n",
    "   \n",
    "do_train(name, train_loader, val_loader, config, model, criterion, optimizer)"
   ]
  },
  {
   "cell_type": "code",
   "execution_count": null,
   "metadata": {},
   "outputs": [],
   "source": [
    "name = \"TutorialCNN\"\n",
    "model = src.model.TutorialCNN()\n",
    "config = Config()\n",
    "transform = transforms.Compose([\n",
    "    transforms.Resize((32,32)),\n",
    "    transforms.ToTensor(),\n",
    "    transforms.Normalize(mean, std)\n",
    "])\n",
    "train_loader, val_loader, test_loader = prepare_dataset_loaders(transform, config.batch_size)\n",
    "criterion = torch.nn.CrossEntropyLoss()\n",
    "optimizer = torch.optim.Adam(model.parameters(), lr=config.learning_rate)\n",
    "\n",
    "do_train(name, train_loader, val_loader, config, model, criterion, optimizer)"
   ]
  },
  {
   "cell_type": "code",
   "execution_count": 5,
   "metadata": {},
   "outputs": [
    {
     "name": "stderr",
     "output_type": "stream",
     "text": [
      "\u001b[34m\u001b[1mwandb\u001b[0m: Using wandb-core as the SDK backend.  Please refer to https://wandb.me/wandb-core for more information.\n",
      "\u001b[34m\u001b[1mwandb\u001b[0m: Currently logged in as: \u001b[33mmytkom\u001b[0m (\u001b[33mmytkom-warsaw-university-of-technology\u001b[0m). Use \u001b[1m`wandb login --relogin`\u001b[0m to force relogin\n"
     ]
    },
    {
     "data": {
      "text/html": [
       "Tracking run with wandb version 0.18.7"
      ],
      "text/plain": [
       "<IPython.core.display.HTML object>"
      ]
     },
     "metadata": {},
     "output_type": "display_data"
    },
    {
     "data": {
      "text/html": [
       "Run data is saved locally in <code>/home/mytkom/Documents/iml/wandb/run-20241204_132930-9domi51e</code>"
      ],
      "text/plain": [
       "<IPython.core.display.HTML object>"
      ]
     },
     "metadata": {},
     "output_type": "display_data"
    },
    {
     "data": {
      "text/html": [
       "Syncing run <strong><a href='https://wandb.ai/mytkom-warsaw-university-of-technology/iml/runs/9domi51e' target=\"_blank\">OriginalSizeCNN</a></strong> to <a href='https://wandb.ai/mytkom-warsaw-university-of-technology/iml' target=\"_blank\">Weights & Biases</a> (<a href='https://wandb.me/developer-guide' target=\"_blank\">docs</a>)<br/>"
      ],
      "text/plain": [
       "<IPython.core.display.HTML object>"
      ]
     },
     "metadata": {},
     "output_type": "display_data"
    },
    {
     "data": {
      "text/html": [
       " View project at <a href='https://wandb.ai/mytkom-warsaw-university-of-technology/iml' target=\"_blank\">https://wandb.ai/mytkom-warsaw-university-of-technology/iml</a>"
      ],
      "text/plain": [
       "<IPython.core.display.HTML object>"
      ]
     },
     "metadata": {},
     "output_type": "display_data"
    },
    {
     "data": {
      "text/html": [
       " View run at <a href='https://wandb.ai/mytkom-warsaw-university-of-technology/iml/runs/9domi51e' target=\"_blank\">https://wandb.ai/mytkom-warsaw-university-of-technology/iml/runs/9domi51e</a>"
      ],
      "text/plain": [
       "<IPython.core.display.HTML object>"
      ]
     },
     "metadata": {},
     "output_type": "display_data"
    },
    {
     "name": "stdout",
     "output_type": "stream",
     "text": [
      "Epoch 1/40\n",
      "Metrics:\n",
      "    F1: 0.91,\n",
      "    Accuracy: 0.88,\n",
      "    Recall: 0.94,\n",
      "    Precision: 0.89,\n",
      "    False acceptance: 0.25,\n",
      "    False rejection: 0.06\n",
      "Epoch 2/40\n",
      "Metrics:\n",
      "    F1: 0.91,\n",
      "    Accuracy: 0.88,\n",
      "    Recall: 0.88,\n",
      "    Precision: 0.94,\n",
      "    False acceptance: 0.12,\n",
      "    False rejection: 0.12\n",
      "Epoch 3/40\n",
      "Metrics:\n",
      "    F1: 0.93,\n",
      "    Accuracy: 0.91,\n",
      "    Recall: 0.95,\n",
      "    Precision: 0.92,\n",
      "    False acceptance: 0.19,\n",
      "    False rejection: 0.05\n",
      "Epoch 4/40\n",
      "Metrics:\n",
      "    F1: 0.93,\n",
      "    Accuracy: 0.90,\n",
      "    Recall: 0.95,\n",
      "    Precision: 0.91,\n",
      "    False acceptance: 0.20,\n",
      "    False rejection: 0.05\n",
      "Epoch 5/40\n",
      "Metrics:\n",
      "    F1: 0.94,\n",
      "    Accuracy: 0.92,\n",
      "    Recall: 0.94,\n",
      "    Precision: 0.94,\n",
      "    False acceptance: 0.14,\n",
      "    False rejection: 0.06\n",
      "Epoch 6/40\n",
      "Metrics:\n",
      "    F1: 0.94,\n",
      "    Accuracy: 0.92,\n",
      "    Recall: 0.95,\n",
      "    Precision: 0.93,\n",
      "    False acceptance: 0.16,\n",
      "    False rejection: 0.05\n",
      "Epoch 7/40\n",
      "Metrics:\n",
      "    F1: 0.94,\n",
      "    Accuracy: 0.92,\n",
      "    Recall: 0.96,\n",
      "    Precision: 0.93,\n",
      "    False acceptance: 0.17,\n",
      "    False rejection: 0.04\n",
      "Epoch 8/40\n",
      "Metrics:\n",
      "    F1: 0.92,\n",
      "    Accuracy: 0.89,\n",
      "    Recall: 0.87,\n",
      "    Precision: 0.97,\n",
      "    False acceptance: 0.06,\n",
      "    False rejection: 0.13\n",
      "Epoch 9/40\n",
      "Metrics:\n",
      "    F1: 0.94,\n",
      "    Accuracy: 0.91,\n",
      "    Recall: 0.97,\n",
      "    Precision: 0.91,\n",
      "    False acceptance: 0.22,\n",
      "    False rejection: 0.03\n",
      "Epoch 10/40\n",
      "Metrics:\n",
      "    F1: 0.94,\n",
      "    Accuracy: 0.92,\n",
      "    Recall: 0.95,\n",
      "    Precision: 0.94,\n",
      "    False acceptance: 0.14,\n",
      "    False rejection: 0.05\n",
      "Epoch 11/40\n",
      "Metrics:\n",
      "    F1: 0.94,\n",
      "    Accuracy: 0.92,\n",
      "    Recall: 0.95,\n",
      "    Precision: 0.93,\n",
      "    False acceptance: 0.15,\n",
      "    False rejection: 0.05\n",
      "Epoch 12/40\n",
      "Metrics:\n",
      "    F1: 0.94,\n",
      "    Accuracy: 0.92,\n",
      "    Recall: 0.93,\n",
      "    Precision: 0.96,\n",
      "    False acceptance: 0.09,\n",
      "    False rejection: 0.07\n",
      "Epoch 13/40\n",
      "Metrics:\n",
      "    F1: 0.95,\n",
      "    Accuracy: 0.93,\n",
      "    Recall: 0.97,\n",
      "    Precision: 0.93,\n",
      "    False acceptance: 0.16,\n",
      "    False rejection: 0.03\n",
      "Epoch 14/40\n",
      "Metrics:\n",
      "    F1: 0.95,\n",
      "    Accuracy: 0.93,\n",
      "    Recall: 0.95,\n",
      "    Precision: 0.95,\n",
      "    False acceptance: 0.12,\n",
      "    False rejection: 0.05\n",
      "Epoch 15/40\n",
      "Metrics:\n",
      "    F1: 0.94,\n",
      "    Accuracy: 0.91,\n",
      "    Recall: 0.92,\n",
      "    Precision: 0.96,\n",
      "    False acceptance: 0.09,\n",
      "    False rejection: 0.08\n",
      "Epoch 16/40\n",
      "Metrics:\n",
      "    F1: 0.95,\n",
      "    Accuracy: 0.92,\n",
      "    Recall: 0.95,\n",
      "    Precision: 0.94,\n",
      "    False acceptance: 0.13,\n",
      "    False rejection: 0.05\n",
      "Epoch 17/40\n",
      "Metrics:\n",
      "    F1: 0.93,\n",
      "    Accuracy: 0.90,\n",
      "    Recall: 0.98,\n",
      "    Precision: 0.89,\n",
      "    False acceptance: 0.27,\n",
      "    False rejection: 0.02\n",
      "Epoch 18/40\n",
      "Metrics:\n",
      "    F1: 0.93,\n",
      "    Accuracy: 0.91,\n",
      "    Recall: 0.92,\n",
      "    Precision: 0.95,\n",
      "    False acceptance: 0.11,\n",
      "    False rejection: 0.08\n",
      "Epoch 19/40\n",
      "Metrics:\n",
      "    F1: 0.94,\n",
      "    Accuracy: 0.92,\n",
      "    Recall: 0.96,\n",
      "    Precision: 0.93,\n",
      "    False acceptance: 0.16,\n",
      "    False rejection: 0.04\n",
      "Epoch 20/40\n",
      "Metrics:\n",
      "    F1: 0.93,\n",
      "    Accuracy: 0.91,\n",
      "    Recall: 0.91,\n",
      "    Precision: 0.97,\n",
      "    False acceptance: 0.07,\n",
      "    False rejection: 0.09\n",
      "Epoch 21/40\n",
      "Metrics:\n",
      "    F1: 0.94,\n",
      "    Accuracy: 0.92,\n",
      "    Recall: 0.94,\n",
      "    Precision: 0.94,\n",
      "    False acceptance: 0.12,\n",
      "    False rejection: 0.06\n",
      "Epoch 22/40\n",
      "Metrics:\n",
      "    F1: 0.94,\n",
      "    Accuracy: 0.92,\n",
      "    Recall: 0.93,\n",
      "    Precision: 0.95,\n",
      "    False acceptance: 0.10,\n",
      "    False rejection: 0.07\n",
      "Epoch 23/40\n",
      "Metrics:\n",
      "    F1: 0.94,\n",
      "    Accuracy: 0.92,\n",
      "    Recall: 0.97,\n",
      "    Precision: 0.92,\n",
      "    False acceptance: 0.19,\n",
      "    False rejection: 0.03\n",
      "Epoch 24/40\n",
      "Metrics:\n",
      "    F1: 0.94,\n",
      "    Accuracy: 0.92,\n",
      "    Recall: 0.94,\n",
      "    Precision: 0.95,\n",
      "    False acceptance: 0.11,\n",
      "    False rejection: 0.06\n",
      "Epoch 25/40\n",
      "Metrics:\n",
      "    F1: 0.95,\n",
      "    Accuracy: 0.93,\n",
      "    Recall: 0.97,\n",
      "    Precision: 0.93,\n",
      "    False acceptance: 0.17,\n",
      "    False rejection: 0.03\n",
      "Epoch 26/40\n",
      "Metrics:\n",
      "    F1: 0.95,\n",
      "    Accuracy: 0.93,\n",
      "    Recall: 0.95,\n",
      "    Precision: 0.95,\n",
      "    False acceptance: 0.12,\n",
      "    False rejection: 0.05\n",
      "Epoch 27/40\n",
      "Metrics:\n",
      "    F1: 0.95,\n",
      "    Accuracy: 0.93,\n",
      "    Recall: 0.96,\n",
      "    Precision: 0.94,\n",
      "    False acceptance: 0.13,\n",
      "    False rejection: 0.04\n",
      "Epoch 28/40\n",
      "Metrics:\n",
      "    F1: 0.95,\n",
      "    Accuracy: 0.93,\n",
      "    Recall: 0.97,\n",
      "    Precision: 0.94,\n",
      "    False acceptance: 0.14,\n",
      "    False rejection: 0.03\n",
      "Epoch 29/40\n",
      "Metrics:\n",
      "    F1: 0.95,\n",
      "    Accuracy: 0.93,\n",
      "    Recall: 0.96,\n",
      "    Precision: 0.95,\n",
      "    False acceptance: 0.12,\n",
      "    False rejection: 0.04\n",
      "Epoch 30/40\n",
      "Metrics:\n",
      "    F1: 0.95,\n",
      "    Accuracy: 0.93,\n",
      "    Recall: 0.96,\n",
      "    Precision: 0.95,\n",
      "    False acceptance: 0.12,\n",
      "    False rejection: 0.04\n",
      "Epoch 31/40\n",
      "Metrics:\n",
      "    F1: 0.95,\n",
      "    Accuracy: 0.93,\n",
      "    Recall: 0.95,\n",
      "    Precision: 0.95,\n",
      "    False acceptance: 0.11,\n",
      "    False rejection: 0.05\n",
      "Epoch 32/40\n",
      "Metrics:\n",
      "    F1: 0.94,\n",
      "    Accuracy: 0.92,\n",
      "    Recall: 0.94,\n",
      "    Precision: 0.94,\n",
      "    False acceptance: 0.13,\n",
      "    False rejection: 0.06\n",
      "Epoch 33/40\n",
      "Metrics:\n",
      "    F1: 0.94,\n",
      "    Accuracy: 0.91,\n",
      "    Recall: 0.91,\n",
      "    Precision: 0.96,\n",
      "    False acceptance: 0.08,\n",
      "    False rejection: 0.09\n",
      "Epoch 34/40\n",
      "Metrics:\n",
      "    F1: 0.95,\n",
      "    Accuracy: 0.93,\n",
      "    Recall: 0.96,\n",
      "    Precision: 0.93,\n",
      "    False acceptance: 0.15,\n",
      "    False rejection: 0.04\n",
      "Epoch 35/40\n",
      "Metrics:\n",
      "    F1: 0.95,\n",
      "    Accuracy: 0.92,\n",
      "    Recall: 0.95,\n",
      "    Precision: 0.94,\n",
      "    False acceptance: 0.14,\n",
      "    False rejection: 0.05\n",
      "Epoch 36/40\n",
      "Metrics:\n",
      "    F1: 0.95,\n",
      "    Accuracy: 0.93,\n",
      "    Recall: 0.96,\n",
      "    Precision: 0.94,\n",
      "    False acceptance: 0.14,\n",
      "    False rejection: 0.04\n",
      "Epoch 37/40\n",
      "Metrics:\n",
      "    F1: 0.94,\n",
      "    Accuracy: 0.92,\n",
      "    Recall: 0.96,\n",
      "    Precision: 0.93,\n",
      "    False acceptance: 0.16,\n",
      "    False rejection: 0.04\n",
      "Epoch 38/40\n",
      "Metrics:\n",
      "    F1: 0.94,\n",
      "    Accuracy: 0.91,\n",
      "    Recall: 0.92,\n",
      "    Precision: 0.95,\n",
      "    False acceptance: 0.11,\n",
      "    False rejection: 0.08\n",
      "Epoch 39/40\n",
      "Metrics:\n",
      "    F1: 0.95,\n",
      "    Accuracy: 0.93,\n",
      "    Recall: 0.95,\n",
      "    Precision: 0.95,\n",
      "    False acceptance: 0.11,\n",
      "    False rejection: 0.05\n",
      "Epoch 40/40\n",
      "Metrics:\n",
      "    F1: 0.94,\n",
      "    Accuracy: 0.92,\n",
      "    Recall: 0.94,\n",
      "    Precision: 0.94,\n",
      "    False acceptance: 0.12,\n",
      "    False rejection: 0.06\n"
     ]
    },
    {
     "data": {
      "text/html": [
       "\n",
       "    <style>\n",
       "        .wandb-row {\n",
       "            display: flex;\n",
       "            flex-direction: row;\n",
       "            flex-wrap: wrap;\n",
       "            justify-content: flex-start;\n",
       "            width: 100%;\n",
       "        }\n",
       "        .wandb-col {\n",
       "            display: flex;\n",
       "            flex-direction: column;\n",
       "            flex-basis: 100%;\n",
       "            flex: 1;\n",
       "            padding: 10px;\n",
       "        }\n",
       "    </style>\n",
       "<div class=\"wandb-row\"><div class=\"wandb-col\"><h3>Run history:</h3><br/><table class=\"wandb\"><tr><td>epoch</td><td>▁▁▁▂▂▂▂▂▂▃▃▃▃▃▄▄▄▄▄▄▅▅▅▅▅▅▆▆▆▆▆▇▇▇▇▇▇███</td></tr><tr><td>train/accuracy</td><td>▁▄▇▇▇▇█▇████████████████████████████████</td></tr><tr><td>train/loss</td><td>█▇▆▃▂▂▂▂▂▁▁▁▁▁▂▁▁▁▁▁▁▁▁▁▁▁▁▁▁▁▁▁▁▁▂▁▂▁▁▁</td></tr><tr><td>validation/accuracy</td><td>▁▁▄▄▆▆▆▃▅▆▆▆▇▇▅▇▄▅▇▅▆▆▆▇▇▇▇████▆▅▇▇▇▇▅█▆</td></tr><tr><td>validation/f1</td><td>▂▁▅▄▆▆▆▂▆▇▆▆▇▇▅▇▅▅▇▅▆▆▇▇▇▇▇████▆▅▇▇█▇▅█▆</td></tr><tr><td>validation/precision</td><td>▁▆▃▃▅▅▄█▃▅▅▇▄▆▇▅▁▆▄█▆▇▃▆▄▆▅▅▆▆▆▅▇▅▅▅▅▆▆▆</td></tr><tr><td>validation/recall</td><td>▅▁▆▆▅▆▆▁▇▆▆▅▇▆▄▆█▄▇▃▆▅▇▅▇▆▆▇▆▆▆▅▄▇▆▇▆▄▆▅</td></tr></table><br/></div><div class=\"wandb-col\"><h3>Run summary:</h3><br/><table class=\"wandb\"><tr><td>epoch</td><td>40</td></tr><tr><td>train/accuracy</td><td>0.99769</td></tr><tr><td>train/loss</td><td>0.00799</td></tr><tr><td>validation/accuracy</td><td>0.91924</td></tr><tr><td>validation/f1</td><td>0.94114</td></tr><tr><td>validation/precision</td><td>0.94294</td></tr><tr><td>validation/recall</td><td>0.93935</td></tr></table><br/></div></div>"
      ],
      "text/plain": [
       "<IPython.core.display.HTML object>"
      ]
     },
     "metadata": {},
     "output_type": "display_data"
    },
    {
     "data": {
      "text/html": [
       " View run <strong style=\"color:#cdcd00\">OriginalSizeCNN</strong> at: <a href='https://wandb.ai/mytkom-warsaw-university-of-technology/iml/runs/9domi51e' target=\"_blank\">https://wandb.ai/mytkom-warsaw-university-of-technology/iml/runs/9domi51e</a><br/> View project at: <a href='https://wandb.ai/mytkom-warsaw-university-of-technology/iml' target=\"_blank\">https://wandb.ai/mytkom-warsaw-university-of-technology/iml</a><br/>Synced 5 W&B file(s), 0 media file(s), 0 artifact file(s) and 1 other file(s)"
      ],
      "text/plain": [
       "<IPython.core.display.HTML object>"
      ]
     },
     "metadata": {},
     "output_type": "display_data"
    },
    {
     "data": {
      "text/html": [
       "Find logs at: <code>./wandb/run-20241204_132930-9domi51e/logs</code>"
      ],
      "text/plain": [
       "<IPython.core.display.HTML object>"
      ]
     },
     "metadata": {},
     "output_type": "display_data"
    }
   ],
   "source": [
    "name = \"OriginalSizeCNN\"\n",
    "model = src.model.OriginalSizeCNN()\n",
    "config = Config()\n",
    "transform = transforms.Compose([\n",
    "    transforms.ToTensor(),\n",
    "    transforms.Normalize(mean, std)\n",
    "])\n",
    "train_loader, val_loader, test_loader = prepare_dataset_loaders(transform, config.batch_size)\n",
    "criterion = torch.nn.CrossEntropyLoss()\n",
    "optimizer = torch.optim.Adam(model.parameters(), lr=config.learning_rate)\n",
    "\n",
    "do_train(name, train_loader, val_loader, config, model, criterion, optimizer)"
   ]
  }
 ],
 "metadata": {
  "kernelspec": {
   "display_name": "env",
   "language": "python",
   "name": "python3"
  },
  "language_info": {
   "codemirror_mode": {
    "name": "ipython",
    "version": 3
   },
   "file_extension": ".py",
   "mimetype": "text/x-python",
   "name": "python",
   "nbconvert_exporter": "python",
   "pygments_lexer": "ipython3",
   "version": "3.11.8"
  }
 },
 "nbformat": 4,
 "nbformat_minor": 2
}
